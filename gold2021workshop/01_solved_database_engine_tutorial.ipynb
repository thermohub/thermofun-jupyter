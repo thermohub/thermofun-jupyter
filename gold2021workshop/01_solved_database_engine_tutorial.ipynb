{
 "cells": [
  {
   "cell_type": "markdown",
   "id": "6299e07c",
   "metadata": {},
   "source": [
    "# Tutorial on database record and how to calculate properties using ThermoEngine."
   ]
  },
  {
   "cell_type": "markdown",
   "id": "c8cdfd6f",
   "metadata": {},
   "source": [
    "### Import ThermoFun module"
   ]
  },
  {
   "cell_type": "code",
   "execution_count": 1,
   "id": "151b0912",
   "metadata": {},
   "outputs": [],
   "source": [
    "import thermofun as fun"
   ]
  },
  {
   "cell_type": "markdown",
   "id": "49e7f131",
   "metadata": {},
   "source": [
    "### Create a database record - thermofun needs a database of substances and or reactions. The data is in JSON format. Have a look at the json file '../databases/mines16-thermofun.json'."
   ]
  },
  {
   "cell_type": "code",
   "execution_count": 2,
   "id": "76b3eaba",
   "metadata": {},
   "outputs": [],
   "source": [
    "mines16 = fun.Database('../databases/mines16-thermofun.json')"
   ]
  },
  {
   "cell_type": "markdown",
   "id": "039ce025",
   "metadata": {},
   "source": [
    "### The database object has several functions available for viewing and edditing records. Now let's print the available elements, substances and reactions. Use python print function. "
   ]
  },
  {
   "cell_type": "code",
   "execution_count": 3,
   "id": "85baeae5",
   "metadata": {},
   "outputs": [
    {
     "name": "stdout",
     "output_type": "stream",
     "text": [
      "dict_keys(['Ag', 'Al', 'Au', 'C', 'Ca', 'Ce', 'Cl', 'Cu', 'Dy', 'Er', 'Eu', 'F', 'Fe', 'Gd', 'H', 'Ho', 'K', 'La', 'Lu', 'Mg', 'Mo', 'Na', 'Nd', 'O', 'P', 'Pb', 'Pr', 'S', 'Si', 'Sm', 'Sn', 'Tb', 'Ti', 'Tm', 'Y', 'Yb', 'Zn', 'Zr', 'Zz'])\n"
     ]
    }
   ],
   "source": [
    "print(mines16.mapElements().keys())"
   ]
  },
  {
   "cell_type": "code",
   "execution_count": 4,
   "id": "1243d29a",
   "metadata": {},
   "outputs": [
    {
     "name": "stdout",
     "output_type": "stream",
     "text": [
      "dict_keys(['Aegirine', 'Ag(CO3)-', 'Ag(CO3)2-3', 'Ag(HS)2-', 'Ag+', 'Ag+2', 'AgCl2-', 'AgCl3-2', 'AgCl4-3', 'AgCl@', 'AgF@', 'AgO-', 'AgOH@', 'Al(OH)2+', 'Al(OH)2F2-', 'Al(OH)2F@', 'Al(OH)3@', 'Al(OH)4-', 'Al(OH)F2@', 'Al+3', 'AlF+2', 'AlF2+', 'AlF3@', 'AlF4-', 'AlH3SiO4+2', 'AlOH+2', 'Albite', 'Amesite-Mg', 'Analcime', 'Anhydrite', 'Ankerite', 'Annite', 'Anorthite', 'Arfvedsonite', 'Au(HS)2-', 'Au+', 'Au+3', 'AuCl2-', 'AuCl3-2', 'AuCl4-', 'AuCl@', 'Bastnaesite-(Ce)', 'CH4', 'CH4@', 'CO', 'CO2', 'CO2@', 'CO3-2', 'CO@', 'Ca(CO3)@', 'Ca(HCO3)+', 'Ca(HSiO3)+', 'Ca(SO4)@', 'Ca+2', 'Ca-Beidellite', 'Ca-Montmorill', 'Ca-Nontronite', 'Ca-Saponite', 'CaCl+', 'CaCl2@', 'CaF+', 'CaOH+', 'Calcite', 'Cassiterite', 'Ce(H2PO4)+2', 'Ce(SO4)+', 'Ce+3', 'Ce+4', 'CeCl+2', 'CeCl2+', 'CeCl3@', 'CeF+2', 'CeF2+', 'CeF3', 'CeF3@', 'CeO+', 'CeO2-', 'CeO2H@', 'CeOH+2', 'CePO4', 'Chabazite-(Ca)', 'Chabazite-(Na)', 'Chalcedony', 'Chalcopyrite', 'Chlorite-Mg', 'Chrysotile', 'Cl-', 'ClO-', 'ClO4-', 'Clinochlore', 'Clinozoisite', 'Covellite', 'Cu+', 'Cu+2', 'CuCl+', 'CuCl2-', 'CuCl2@', 'CuCl3-', 'CuCl3-2', 'CuCl4-2', 'CuCl@', 'CuF+', 'CuO2-2', 'CuO2H-', 'CuO@', 'CuOH+', 'Daphnite', 'Diamond', 'Dickite', 'Diopside', 'Dolomite', 'Dy(H2PO4)+2', 'Dy(SO4)+', 'Dy+3', 'DyCl+2', 'DyCl2+', 'DyCl3@', 'DyF+2', 'DyF2+', 'DyF3', 'DyF3@', 'DyO+', 'DyO2-', 'DyO2H@', 'DyOH+2', 'DyPO4', 'Enstatite', 'Epidote', 'Er(H2PO4)+2', 'Er(SO4)+', 'Er+3', 'ErCl+2', 'ErCl2+', 'ErCl3@', 'ErF+2', 'ErF2+', 'ErF3', 'ErF3@', 'ErO+', 'ErO2-', 'ErO2H@', 'ErOH+2', 'ErPO4', 'Eu(H2PO4)+2', 'Eu(OH)+2', 'Eu(SO4)+', 'Eu+3', 'Eu+4', 'EuCl+2', 'EuCl2+', 'EuCl3@', 'EuF+2', 'EuF2+', 'EuF3', 'EuF3@', 'EuO+', 'EuO2-', 'EuO2H@', 'EuOH+2', 'EuPO4', 'F-', 'Fayalite', 'Fe(CO3)@', 'Fe(HCO3)+', 'Fe(OH)3', 'Fe+2', 'Fe+3', 'Fe-Celadonite', 'Fe-Epidote', 'Fe-Saponite', 'Fe-Sudoite', 'Fe-Talc', 'FeCl+', 'FeCl+2', 'FeCl2+', 'FeCl2@', 'FeCl3@', 'FeF+', 'FeF+2', 'FeF2+', 'FeF3@', 'FeO+', 'FeO2-', 'FeO2H-', 'FeO2H@', 'FeO@', 'FeOH+', 'FeOH+2', 'Ferroactinolite', 'Fluorite', 'Forsterite', 'Gd(H2PO4)+2', 'Gd(SO4)+', 'Gd+3', 'GdCl+2', 'GdCl2+', 'GdCl3@', 'GdF+2', 'GdF2+', 'GdF3', 'GdF3@', 'GdO+', 'GdO2-', 'GdO2H@', 'GdOH+2', 'GdPO4', 'Goethite', 'Graphite', 'Grossular', 'H+', 'H2', 'H2@', 'H2O', 'H2O2@', 'H2O@', 'H2P2O7-2', 'H2PO2-', 'H2PO3-', 'H2PO4-', 'H2S', 'H2S2O3@', 'H2S2O4@', 'H2S@', 'H3P2O7-', 'H3PO2@', 'H3PO3@', 'H3PO4@', 'H4P2O7@', 'HCO3-', 'HCl', 'HCl@', 'HClO@', 'HF', 'HF2-', 'HF@', 'HMoO4-', 'HO2-', 'HP2O7-3', 'HPO3-2', 'HPO4-2', 'HS-', 'HS2O3-', 'HS2O4-', 'HSO3-', 'HSO4-', 'HSO5-', 'HSiO3-', 'HSnO2-', 'Hematite', 'Heulandite-(Ca)', 'Heulandite-(Na)', 'Hi-Albite', 'Ho(H2PO4)+2', 'Ho(SO4)+', 'Ho+3', 'HoCl+2', 'HoCl2+', 'HoCl3@', 'HoF+2', 'HoF2+', 'HoF3', 'HoF3@', 'HoO+', 'HoO2-', 'HoO2H@', 'HoOH+2', 'Ilmenite', 'K(HSO4)@', 'K(SO4)-', 'K+', 'K-Beidellite', 'K-Montmorill', 'K-Nontronite', 'K-Saponite', 'KAlO2@', 'KCl@', 'KOH@', 'Kaolinite', 'La(H2PO4)+2', 'La(SO4)+', 'La+3', 'LaCl+2', 'LaCl2+', 'LaCl3@', 'LaF+2', 'LaF2+', 'LaF3', 'LaF3@', 'LaO+', 'LaO2-', 'LaO2H@', 'LaOH+2', 'LaPO4', 'Laumontite', 'Leonhardite', 'Lu(H2PO4)+2', 'Lu(SO4)+', 'Lu+3', 'LuCl+2', 'LuCl2+', 'LuCl3@', 'LuF+2', 'LuF2+', 'LuF3', 'LuF3@', 'LuO+', 'LuO2-', 'LuO2H@', 'LuOH+2', 'Magnesite', 'Magnetite', 'Mesolite', 'Mg(CO3)@', 'Mg(HCO3)+', 'Mg(HSiO3)+', 'Mg+2', 'Mg-Beidellite', 'Mg-Celadonite', 'Mg-Montmorill', 'Mg-Nontronite', 'Mg-Saponite', 'MgCl+', 'MgF+', 'MgOH+', 'MgSO4@', 'Microcline', 'MoO4-2', 'Mordenite-(Ca)', 'Mordenite-(Na)', 'Muscovite', 'Na(CO3)-', 'Na(HCO3)@', 'Na(SO4)-', 'Na+', 'Na-Beidellite', 'Na-Montmorill', 'Na-Nontronite', 'Na-Saponite', 'NaAl(OH)2F2@', 'NaAl(OH)3F@', 'NaAl(OH)4@', 'NaCl@', 'NaF@', 'NaHSiO3@', 'NaOH@', 'Natrolite', 'Nd(H2PO4)+2', 'Nd(SO4)+', 'Nd+3', 'NdCl+2', 'NdCl2+', 'NdCl3@', 'NdF+2', 'NdF2+', 'NdF3', 'NdF3@', 'NdO+', 'NdO2-', 'NdO2H@', 'NdOH+2', 'NdPO4', 'Nepheline', 'O2', 'O2@', 'OH-', 'P2O7-4', 'PO4-3', 'Parisite-(Ce)', 'Pb(HS)2@', 'Pb(HS)3-', 'Pb+2', 'PbCl+', 'PbCl2@', 'PbCl3-', 'PbCl4-2', 'PbF+', 'PbF2@', 'PbO2H-', 'PbO@', 'PbOH+', 'Pr(H2PO4)+2', 'Pr(SO4)+', 'Pr+3', 'PrCl+2', 'PrCl2+', 'PrCl3@', 'PrF+2', 'PrF2+', 'PrF3', 'PrF3@', 'PrO+', 'PrO2-', 'PrO2H@', 'PrOH+2', 'PrPO4', 'Prehnite', 'Pumpellyite', 'Pyrite', 'Pyrophyllite', 'Pyrrhotite', 'Quartz', 'Riebeckite', 'Rutile', 'S2-2', 'S2O3-2', 'S2O4-2', 'S2O5-2', 'S2O6-2', 'S2O8-2', 'S3-2', 'S3O6-2', 'S4-2', 'S4O6-2', 'S5-2', 'S5O6-2', 'SO2', 'SO2@', 'SO3-2', 'SO4-2', 'Sanidine', 'Scolecite', 'SiF6-2', 'SiO2@', 'Siderite', 'Sm(H2PO4)+2', 'Sm(SO4)+', 'Sm+3', 'SmCl+2', 'SmCl2+', 'SmCl3@', 'SmF+2', 'SmF2+', 'SmF3', 'SmF3@', 'SmO+', 'SmO2-', 'SmO2H@', 'SmOH+2', 'SmPO4', 'Sn(Cl)+', 'Sn(Cl)2@', 'Sn(Cl)3-', 'Sn+2', 'SnO@', 'SnOH+', 'Stilbite-(Ca)', 'Talc', 'Tb(H2PO4)+2', 'Tb(SO4)+', 'Tb+3', 'TbCl+2', 'TbCl2+', 'TbCl3@', 'TbF+2', 'TbF2+', 'TbF3', 'TbF3@', 'TbO+', 'TbO2-', 'TbO2H@', 'TbOH+2', 'Thompsonite', 'Ti(OH)3+', 'Ti(OH)4@', 'Ti(OH)5-', 'Titanite', 'Tm(H2PO4)+2', 'Tm(SO4)+', 'Tm+3', 'TmCl+2', 'TmCl2+', 'TmCl3@', 'TmF+2', 'TmF2+', 'TmF3', 'TmF3@', 'TmO+', 'TmO2-', 'TmO2H@', 'TmOH+2', 'Topaz-F', 'Topaz-OH', 'Wairakite', 'Wollastonite', 'Y+3', 'YF+2', 'YF2+', 'YO+', 'YO2-', 'YO2H@', 'YOH+2', 'YPO4', 'Yb(H2PO4)+2', 'Yb(SO4)+', 'Yb+3', 'YbCl+2', 'YbCl2+', 'YbCl3@', 'YbF+2', 'YbF2+', 'YbF3', 'YbF3@', 'YbO+', 'YbO2-', 'YbO2H@', 'YbOH+2', 'YbPO4', 'Yugawaralite', 'Zircon', 'Zn+2', 'ZnCl+', 'ZnCl2@', 'ZnCl3-', 'ZnF+', 'ZnO2-2', 'ZnO2H-', 'ZnO@', 'ZnOH+', 'Zr+4', 'ZrCl+3', 'ZrCl2+2', 'ZrCl3+', 'ZrCl4@', 'ZrF(OH)3@', 'ZrF+3', 'ZrF2(OH)2@', 'ZrF2+2', 'ZrF3+', 'ZrF4@', 'ZrF5-', 'ZrF6-2', 'ZrO+2', 'ZrO2@', 'ZrO2H+', 'ZrO3H-', 'ZrOH+3'])\n"
     ]
    }
   ],
   "source": [
    "print(mines16.mapSubstances().keys())"
   ]
  },
  {
   "cell_type": "code",
   "execution_count": 5,
   "id": "22b4a64f",
   "metadata": {},
   "outputs": [
    {
     "name": "stdout",
     "output_type": "stream",
     "text": [
      "dict_keys(['Sn(Cl)+', 'Sn(Cl)2@', 'Sn(Cl)3-', 'Ti(OH)3+', 'Ti(OH)4@', 'Ti(OH)5-', 'ZrCl+3', 'ZrCl2+2', 'ZrCl3+', 'ZrCl4@', 'ZrF(OH)3@', 'ZrF+3', 'ZrF2(OH)2@', 'ZrF2+2', 'ZrF3+', 'ZrF4@', 'ZrF5-', 'ZrF6-2'])\n"
     ]
    }
   ],
   "source": [
    "print(mines16.mapReactions().keys())"
   ]
  },
  {
   "cell_type": "markdown",
   "id": "b6a34950",
   "metadata": {},
   "source": [
    "### Inspect the reaction for Sn(Cl)+, print the reaction equation and the equilibrium constant. Hint: '.thermoReferenceProperties().log_equilibrium_constant.val'"
   ]
  },
  {
   "cell_type": "code",
   "execution_count": 6,
   "id": "a5a6a6ad",
   "metadata": {},
   "outputs": [
    {
     "name": "stdout",
     "output_type": "stream",
     "text": [
      "Sn+2 + Cl- = Sn(Cl)+\n",
      "Sn+2 + Cl- = Sn(Cl)+\n"
     ]
    }
   ],
   "source": [
    "print(mines16.getReaction('Sn(Cl)+').equation())\n",
    "sncl = mines16.getReaction('Sn(Cl)+')\n",
    "print(sncl.equation())"
   ]
  },
  {
   "cell_type": "code",
   "execution_count": 7,
   "id": "56446246",
   "metadata": {},
   "outputs": [
    {
     "name": "stdout",
     "output_type": "stream",
     "text": [
      "1.425546761128\n"
     ]
    }
   ],
   "source": [
    "print(mines16.getReaction('Sn(Cl)+').thermoReferenceProperties().log_equilibrium_constant.val)\n",
    "refprops = sncl.thermoReferenceProperties()"
   ]
  },
  {
   "cell_type": "code",
   "execution_count": 8,
   "id": "92ca3c57",
   "metadata": {},
   "outputs": [
    {
     "data": {
      "text/plain": [
       "1.425546761128"
      ]
     },
     "execution_count": 8,
     "metadata": {},
     "output_type": "execute_result"
    }
   ],
   "source": [
    "refprops.log_equilibrium_constant.val"
   ]
  },
  {
   "cell_type": "markdown",
   "id": "c1d7eabc",
   "metadata": {},
   "source": [
    "### Create an engine record for calculating properties of substances or reactions "
   ]
  },
  {
   "cell_type": "code",
   "execution_count": 9,
   "id": "25a28b27",
   "metadata": {},
   "outputs": [],
   "source": [
    "engine = fun.ThermoEngine(mines16)"
   ]
  },
  {
   "cell_type": "markdown",
   "id": "da7a2f7c",
   "metadata": {},
   "source": [
    "### Calculate properties of Ca+2 and Calcite dissolution reaction (Calcite = Ca+2 + CO3-2). T = 348.15 K P = 1e5 Pa. "
   ]
  },
  {
   "cell_type": "code",
   "execution_count": 10,
   "id": "8e19b995",
   "metadata": {},
   "outputs": [],
   "source": [
    "subst_prop = engine.thermoPropertiesSubstance(348.15, 1e5, \"Ca+2\")"
   ]
  },
  {
   "cell_type": "markdown",
   "id": "ff76ed4d",
   "metadata": {},
   "source": [
    "### Extract the value"
   ]
  },
  {
   "cell_type": "code",
   "execution_count": 11,
   "id": "281cc594",
   "metadata": {},
   "outputs": [
    {
     "data": {
      "text/plain": [
       "-549855.2519699541"
      ]
     },
     "execution_count": 11,
     "metadata": {},
     "output_type": "execute_result"
    }
   ],
   "source": [
    "subst_prop.gibbs_energy.val"
   ]
  },
  {
   "cell_type": "markdown",
   "id": "95d14c99",
   "metadata": {},
   "source": [
    "### Calcite dissolution reaction (Calcite = Ca+2 + CO3-2), logK. print(f'logK (Cal = Ca+2 + CO3-2) is {logK.val}')"
   ]
  },
  {
   "cell_type": "code",
   "execution_count": 12,
   "id": "a5d2389f",
   "metadata": {},
   "outputs": [
    {
     "name": "stdout",
     "output_type": "stream",
     "text": [
      "logK (Cal = Ca+2 + CO3-2) is -8.917785086995302\n"
     ]
    }
   ],
   "source": [
    "reaction_properties = engine.thermoPropertiesReaction(348.15, 1e5, \"Calcite = Ca+2 + CO3-2\")\n",
    "logK = reaction_properties.log_equilibrium_constant\n",
    "print(f'logK (Cal = Ca+2 + CO3-2) is {logK.val}')"
   ]
  },
  {
   "cell_type": "markdown",
   "id": "00712a0e",
   "metadata": {},
   "source": [
    "### Extract the reaction entropy and Gibbs energy. Check the derivative of Gibbs energy with temperature. print(f' Entropy of reaction {Sr.val} is -dGr/dT = {-Gr.ddt}')"
   ]
  },
  {
   "cell_type": "code",
   "execution_count": 13,
   "id": "48ef914b",
   "metadata": {},
   "outputs": [
    {
     "name": "stdout",
     "output_type": "stream",
     "text": [
      " Entropy of reaction -254.59549947176885 is -dGr/dT = -254.59549947176907\n"
     ]
    }
   ],
   "source": [
    "Sr = engine.thermoPropertiesReaction(348.15, 1e5, \"Calcite = Ca+2 + CO3-2\").reaction_entropy\n",
    "Gr = engine.thermoPropertiesReaction(348.15, 1e5, \"Calcite = Ca+2 + CO3-2\").reaction_gibbs_energy\n",
    "\n",
    "print(f' Entropy of reaction {Sr.val} is -dGr/dT = {-Gr.ddt}')"
   ]
  }
 ],
 "metadata": {
  "kernelspec": {
   "display_name": "Python 3 (ipykernel)",
   "language": "python",
   "name": "python3"
  },
  "language_info": {
   "codemirror_mode": {
    "name": "ipython",
    "version": 3
   },
   "file_extension": ".py",
   "mimetype": "text/x-python",
   "name": "python",
   "nbconvert_exporter": "python",
   "pygments_lexer": "ipython3",
   "version": "3.10.12"
  },
  "toc": {
   "base_numbering": 1,
   "nav_menu": {},
   "number_sections": false,
   "sideBar": false,
   "skip_h1_title": false,
   "title_cell": "Table of Contents",
   "title_sidebar": "Contents",
   "toc_cell": false,
   "toc_position": {},
   "toc_section_display": false,
   "toc_window_display": false
  }
 },
 "nbformat": 4,
 "nbformat_minor": 5
}
