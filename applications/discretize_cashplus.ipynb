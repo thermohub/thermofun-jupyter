{
 "cells": [
  {
   "cell_type": "markdown",
   "id": "44a0b916",
   "metadata": {},
   "source": [
    "# code to discretize the CASH+ solid oslution model into pure phases of given composition"
   ]
  },
  {
   "cell_type": "code",
   "execution_count": 1,
   "id": "0a1b5996",
   "metadata": {},
   "outputs": [],
   "source": [
    "# importing necessary functions\n",
    "from discretizer.cashplus import discretize_cash, add_cash_to_fundb, generate_reactions_one_by_one"
   ]
  },
  {
   "cell_type": "code",
   "execution_count": 2,
   "id": "458881d1",
   "metadata": {},
   "outputs": [],
   "source": [
    "# defining discretization; composition interval and steps\n",
    "discretization = [{'ratio': 'Ca/Si','interval': [0.7, 1.65], 'step': 0.2}, \n",
    "                  {'ratio': 'Na/Si','interval': [0.0, 0.3], 'step': 0.1 }, \n",
    "                  {'ratio': 'Al/Si','interval': [0.0, 0.1], 'step': 0.1 }\n",
    "                 ]"
   ]
  },
  {
   "cell_type": "code",
   "execution_count": 3,
   "id": "10c99121",
   "metadata": {},
   "outputs": [
    {
     "name": "stdout",
     "output_type": "stream",
     "text": [
      "For Ca/Si 0.7 Na/Si 0.0 Al/Si 0.0 OK after GEM calculation with LPP AIA\n",
      "(SiO2)1.0(CaO)0.7(H2O)1.0391\n",
      "For Ca/Si 0.7 Na/Si 0.0 Al/Si 0.1 OK after GEM calculation with LPP AIA\n",
      "(SiO2)1.0(CaO)0.7(Al2O3)0.025(H2O)1.125\n",
      "For Ca/Si 0.7 Na/Si 0.1 Al/Si 0.0 OK after GEM calculation with LPP AIA\n",
      "(SiO2)1.0(CaO)0.7(Na2O)0.05(H2O)1.0963\n",
      "For Ca/Si 0.7 Na/Si 0.1 Al/Si 0.1 OK after GEM calculation with LPP AIA\n",
      "(SiO2)1.0(CaO)0.7(Na2O)0.05(Al2O3)0.025(H2O)1.175\n",
      "For Ca/Si 0.7 Na/Si 0.2 Al/Si 0.0 OK after GEM calculation with LPP AIA\n",
      "(SiO2)1.0(CaO)0.7(Na2O)0.1(H2O)1.1499\n",
      "For Ca/Si 0.7 Na/Si 0.2 Al/Si 0.1 OK after GEM calculation with LPP AIA\n",
      "(SiO2)1.0(CaO)0.7(Na2O)0.1(Al2O3)0.025(H2O)1.225\n",
      "For Ca/Si 0.7 Na/Si 0.3 Al/Si 0.0 OK after GEM calculation with LPP AIA\n",
      "(SiO2)1.0(CaO)0.7(Na2O)0.1498(H2O)1.1998\n",
      "For Ca/Si 0.7 Na/Si 0.3 Al/Si 0.1 OK after GEM calculation with LPP AIA\n",
      "(SiO2)1.0(CaO)0.7(Na2O)0.15(Al2O3)0.025(H2O)1.275\n",
      "For Ca/Si 0.9 Na/Si 0.0 Al/Si 0.0 OK after GEM calculation with LPP AIA\n",
      "(SiO2)1.0(CaO)0.9(H2O)1.2676\n",
      "For Ca/Si 0.9 Na/Si 0.0 Al/Si 0.1 OK after GEM calculation with LPP AIA\n",
      "(SiO2)1.0(CaO)0.9(Al2O3)0.05(H2O)1.4276\n",
      "For Ca/Si 0.9 Na/Si 0.1 Al/Si 0.0 OK after GEM calculation with LPP AIA\n",
      "(SiO2)1.0(CaO)0.9(Na2O)0.05(H2O)1.3318\n",
      "For Ca/Si 0.9 Na/Si 0.1 Al/Si 0.1 OK after GEM calculation with LPP AIA\n",
      "(SiO2)1.0(CaO)0.9(Na2O)0.05(Al2O3)0.05(H2O)1.4902\n",
      "For Ca/Si 0.9 Na/Si 0.2 Al/Si 0.0 OK after GEM calculation with LPP AIA\n",
      "(SiO2)1.0(CaO)0.9(Na2O)0.1(H2O)1.3933\n",
      "For Ca/Si 0.9 Na/Si 0.2 Al/Si 0.1 OK after GEM calculation with LPP AIA\n",
      "(SiO2)1.0(CaO)0.9(Na2O)0.1(Al2O3)0.05(H2O)1.5532\n",
      "For Ca/Si 0.9 Na/Si 0.3 Al/Si 0.0 OK after GEM calculation with LPP AIA\n",
      "(SiO2)1.0(CaO)0.9(Na2O)0.1499(H2O)1.4503\n",
      "For Ca/Si 0.9 Na/Si 0.3 Al/Si 0.1 OK after GEM calculation with LPP AIA\n",
      "(SiO2)1.0(CaO)0.9(Na2O)0.1499(Al2O3)0.05(H2O)1.6134\n",
      "For Ca/Si 1.1 Na/Si 0.0 Al/Si 0.0 OK after GEM calculation with LPP AIA\n",
      "(SiO2)1.0(CaO)1.1(H2O)1.4557\n",
      "For Ca/Si 1.1 Na/Si 0.0 Al/Si 0.1 OK after GEM calculation with LPP AIA\n",
      "(SiO2)1.0(CaO)1.1(Al2O3)0.05(H2O)1.628\n",
      "For Ca/Si 1.1 Na/Si 0.1 Al/Si 0.0 OK after GEM calculation with LPP AIA\n",
      "(SiO2)1.0(CaO)1.1(Na2O)0.05(H2O)1.4982\n",
      "For Ca/Si 1.1 Na/Si 0.1 Al/Si 0.1 OK after GEM calculation with LPP AIA\n",
      "(SiO2)1.0(CaO)1.1(Na2O)0.05(Al2O3)0.05(H2O)1.6713\n",
      "For Ca/Si 1.1 Na/Si 0.2 Al/Si 0.0 OK after GEM calculation with LPP AIA\n",
      "(SiO2)1.0(CaO)1.1(Na2O)0.0999(H2O)1.5404\n",
      "For Ca/Si 1.1 Na/Si 0.2 Al/Si 0.1 OK after GEM calculation with LPP AIA\n",
      "(SiO2)1.0(CaO)1.1(Na2O)0.0999(Al2O3)0.05(H2O)1.7132\n",
      "For Ca/Si 1.1 Na/Si 0.3 Al/Si 0.0 OK after GEM calculation with LPP AIA\n",
      "(SiO2)1.0(CaO)1.1(Na2O)0.1496(H2O)1.5839\n",
      "For Ca/Si 1.1 Na/Si 0.3 Al/Si 0.1 OK after GEM calculation with LPP AIA\n",
      "(SiO2)1.0(CaO)1.1(Na2O)0.1498(Al2O3)0.05(H2O)1.7558\n",
      "For Ca/Si 1.3 Na/Si 0.0 Al/Si 0.0 OK after GEM calculation with LPP AIA\n",
      "(SiO2)1.0(CaO)1.3(H2O)1.5757\n",
      "For Ca/Si 1.3 Na/Si 0.0 Al/Si 0.1 OK after GEM calculation with LPP AIA\n",
      "(SiO2)1.0(CaO)1.3(Al2O3)0.05(H2O)1.755\n",
      "For Ca/Si 1.3 Na/Si 0.1 Al/Si 0.0 OK after GEM calculation with LPP AIA\n",
      "(SiO2)1.0(CaO)1.3(Na2O)0.0499(H2O)1.6133\n",
      "For Ca/Si 1.3 Na/Si 0.1 Al/Si 0.1 OK after GEM calculation with LPP AIA\n",
      "(SiO2)1.0(CaO)1.3(Na2O)0.05(Al2O3)0.05(H2O)1.7911\n",
      "For Ca/Si 1.3 Na/Si 0.2 Al/Si 0.0 OK after GEM calculation with LPP AIA\n",
      "(SiO2)1.0(CaO)1.3(Na2O)0.0997(H2O)1.6518\n",
      "For Ca/Si 1.3 Na/Si 0.2 Al/Si 0.1 OK after GEM calculation with LPP AIA\n",
      "(SiO2)1.0(CaO)1.3(Na2O)0.0999(Al2O3)0.05(H2O)1.8279\n",
      "For Ca/Si 1.3 Na/Si 0.3 Al/Si 0.0 OK after GEM calculation with LPP AIA\n",
      "(SiO2)1.0(CaO)1.3(Na2O)0.1491(H2O)1.6905\n",
      "For Ca/Si 1.3 Na/Si 0.3 Al/Si 0.1 OK after GEM calculation with LPP AIA\n",
      "(SiO2)1.0(CaO)1.3(Na2O)0.1496(Al2O3)0.05(H2O)1.8643\n",
      "For Ca/Si 1.5 Na/Si 0.0 Al/Si 0.0 OK after GEM calculation with LPP AIA\n",
      "(SiO2)1.0(CaO)1.5(H2O)1.6824\n",
      "For Ca/Si 1.5 Na/Si 0.0 Al/Si 0.1 OK after GEM calculation with LPP AIA\n",
      "(SiO2)1.0(CaO)1.5(Al2O3)0.05(H2O)1.8664\n",
      "For Ca/Si 1.5 Na/Si 0.1 Al/Si 0.0 OK after GEM calculation with LPP AIA\n",
      "(SiO2)1.0(CaO)1.5(Na2O)0.0498(H2O)1.7165\n",
      "For Ca/Si 1.5 Na/Si 0.1 Al/Si 0.1 OK after GEM calculation with LPP AIA\n",
      "(SiO2)1.0(CaO)1.5(Na2O)0.0499(Al2O3)0.05(H2O)1.8985\n",
      "For Ca/Si 1.5 Na/Si 0.2 Al/Si 0.0 OK after GEM calculation with LPP AIA\n",
      "(SiO2)1.0(CaO)1.5(Na2O)0.099(H2O)1.746\n",
      "For Ca/Si 1.5 Na/Si 0.2 Al/Si 0.1 OK after GEM calculation with LPP AIA\n",
      "(SiO2)1.0(CaO)1.5(Na2O)0.0996(Al2O3)0.05(H2O)1.924\n",
      "For Ca/Si 1.5 Na/Si 0.3 Al/Si 0.0 OK after GEM calculation with LPP AIA\n",
      "(SiO2)1.0(CaO)1.5(Na2O)0.1435(H2O)1.7616\n",
      "For Ca/Si 1.5 Na/Si 0.3 Al/Si 0.1 OK after GEM calculation with LPP AIA\n",
      "(SiO2)1.0(CaO)1.5(Na2O)0.1466(Al2O3)0.05(H2O)1.9393\n"
     ]
    }
   ],
   "source": [
    "# discretizeing model calling GEMS to calculate the real solution properties for each composition\n",
    "dicretized_cash = discretize_cash(discretization)"
   ]
  },
  {
   "cell_type": "code",
   "execution_count": 4,
   "id": "d9ee7940",
   "metadata": {},
   "outputs": [],
   "source": [
    "# adding discrete phases to cemdata database \n",
    "import thermohubclient as client\n",
    "import thermofun as fun\n",
    "dbc = client.DatabaseClient()\n",
    "\n",
    "fun_cemdata18 = fun.Database('cemdata18-thermofun.json')"
   ]
  },
  {
   "cell_type": "code",
   "execution_count": 5,
   "id": "3bfe2416",
   "metadata": {},
   "outputs": [],
   "source": [
    "fun_cemdata18 = add_cash_to_fundb(fun_cemdata18, dicretized_cash)"
   ]
  },
  {
   "cell_type": "code",
   "execution_count": 6,
   "id": "59a6bd8c",
   "metadata": {},
   "outputs": [
    {
     "name": "stdout",
     "output_type": "stream",
     "text": [
      "0.7Ca+2 + SiO2@ + 1.7391H2O@ = (SiO2)1.0(CaO)0.7(H2O)1.0391 + 1.4H+\n",
      "0.7Ca+2 + SiO2@ + 0.05Al+3 + 1.9H2O@ = (SiO2)1.0(CaO)0.7(Al2O3)0.025(H2O)1.125 + 1.55H+\n",
      "0.7Ca+2 + SiO2@ + 0.1Na+ + 1.8463H2O@ = (SiO2)1.0(CaO)0.7(Na2O)0.05(H2O)1.0963 + 1.5H+\n",
      "0.7Ca+2 + SiO2@ + 0.05Al+3 + 0.1Na+ + 2H2O@ = (SiO2)1.0(CaO)0.7(Na2O)0.05(Al2O3)0.025(H2O)1.175 + 1.65H+\n",
      "0.7Ca+2 + SiO2@ + 0.2Na+ + 1.9499H2O@ = (SiO2)1.0(CaO)0.7(Na2O)0.1(H2O)1.1499 + 1.6H+\n",
      "0.7Ca+2 + SiO2@ + 0.05Al+3 + 0.2Na+ + 2.1H2O@ = (SiO2)1.0(CaO)0.7(Na2O)0.1(Al2O3)0.025(H2O)1.225 + 1.75H+\n",
      "0.7Ca+2 + SiO2@ + 0.2996Na+ + 2.0496H2O@ = (SiO2)1.0(CaO)0.7(Na2O)0.1498(H2O)1.1998 + 1.6996H+\n",
      "0.7Ca+2 + SiO2@ + 0.05Al+3 + 0.3Na+ + 2.2H2O@ = (SiO2)1.0(CaO)0.7(Na2O)0.15(Al2O3)0.025(H2O)1.275 + 1.85H+\n",
      "0.9Ca+2 + SiO2@ + 2.1676H2O@ = (SiO2)1.0(CaO)0.9(H2O)1.2676 + 1.8H+\n",
      "0.9Ca+2 + SiO2@ + 0.1Al+3 + 2.4776H2O@ = (SiO2)1.0(CaO)0.9(Al2O3)0.05(H2O)1.4276 + 2.1H+\n",
      "0.9Ca+2 + SiO2@ + 0.1Na+ + 2.2818H2O@ = (SiO2)1.0(CaO)0.9(Na2O)0.05(H2O)1.3318 + 1.9H+\n",
      "0.9Ca+2 + SiO2@ + 0.1Al+3 + 0.1Na+ + 2.5902H2O@ = (SiO2)1.0(CaO)0.9(Na2O)0.05(Al2O3)0.05(H2O)1.4902 + 2.2H+\n",
      "0.9Ca+2 + SiO2@ + 0.2Na+ + 2.3933H2O@ = (SiO2)1.0(CaO)0.9(Na2O)0.1(H2O)1.3933 + 2H+\n",
      "0.9Ca+2 + SiO2@ + 0.1Al+3 + 0.2Na+ + 2.7032H2O@ = (SiO2)1.0(CaO)0.9(Na2O)0.1(Al2O3)0.05(H2O)1.5532 + 2.3H+\n",
      "0.9Ca+2 + SiO2@ + 0.2998Na+ + 2.5002H2O@ = (SiO2)1.0(CaO)0.9(Na2O)0.1499(H2O)1.4503 + 2.0998H+\n",
      "0.9Ca+2 + SiO2@ + 0.1Al+3 + 0.2998Na+ + 2.8133H2O@ = (SiO2)1.0(CaO)0.9(Na2O)0.1499(Al2O3)0.05(H2O)1.6134 + 2.3998H+\n",
      "1.1Ca+2 + SiO2@ + 2.5557H2O@ = (SiO2)1.0(CaO)1.1(H2O)1.4557 + 2.2H+\n",
      "1.1Ca+2 + SiO2@ + 0.1Al+3 + 2.878H2O@ = (SiO2)1.0(CaO)1.1(Al2O3)0.05(H2O)1.628 + 2.5H+\n",
      "1.1Ca+2 + SiO2@ + 0.1Na+ + 2.6482H2O@ = (SiO2)1.0(CaO)1.1(Na2O)0.05(H2O)1.4982 + 2.3H+\n",
      "1.1Ca+2 + SiO2@ + 0.1Al+3 + 0.1Na+ + 2.9713H2O@ = (SiO2)1.0(CaO)1.1(Na2O)0.05(Al2O3)0.05(H2O)1.6713 + 2.6H+\n",
      "1.1Ca+2 + SiO2@ + 0.1998Na+ + 2.7403H2O@ = (SiO2)1.0(CaO)1.1(Na2O)0.0999(H2O)1.5404 + 2.3998H+\n",
      "1.1Ca+2 + SiO2@ + 0.1Al+3 + 0.1998Na+ + 3.0631H2O@ = (SiO2)1.0(CaO)1.1(Na2O)0.0999(Al2O3)0.05(H2O)1.7132 + 2.6998H+\n",
      "1.1Ca+2 + SiO2@ + 0.2992Na+ + 2.8335H2O@ = (SiO2)1.0(CaO)1.1(Na2O)0.1496(H2O)1.5839 + 2.4992H+\n",
      "1.1Ca+2 + SiO2@ + 0.1Al+3 + 0.2996Na+ + 3.1556H2O@ = (SiO2)1.0(CaO)1.1(Na2O)0.1498(Al2O3)0.05(H2O)1.7558 + 2.7996H+\n",
      "1.3Ca+2 + SiO2@ + 2.8757H2O@ = (SiO2)1.0(CaO)1.3(H2O)1.5757 + 2.6H+\n",
      "1.3Ca+2 + SiO2@ + 0.1Al+3 + 3.205H2O@ = (SiO2)1.0(CaO)1.3(Al2O3)0.05(H2O)1.755 + 2.9H+\n",
      "1.3Ca+2 + SiO2@ + 0.0998Na+ + 2.9632H2O@ = (SiO2)1.0(CaO)1.3(Na2O)0.0499(H2O)1.6133 + 2.6998H+\n",
      "1.3Ca+2 + SiO2@ + 0.1Al+3 + 0.1Na+ + 3.2911H2O@ = (SiO2)1.0(CaO)1.3(Na2O)0.05(Al2O3)0.05(H2O)1.7911 + 3H+\n",
      "1.3Ca+2 + SiO2@ + 0.1994Na+ + 3.0515H2O@ = (SiO2)1.0(CaO)1.3(Na2O)0.0997(H2O)1.6518 + 2.7994H+\n",
      "1.3Ca+2 + SiO2@ + 0.1Al+3 + 0.1998Na+ + 3.3778H2O@ = (SiO2)1.0(CaO)1.3(Na2O)0.0999(Al2O3)0.05(H2O)1.8279 + 3.0998H+\n",
      "1.3Ca+2 + SiO2@ + 0.2982Na+ + 3.1396H2O@ = (SiO2)1.0(CaO)1.3(Na2O)0.1491(H2O)1.6905 + 2.8982H+\n",
      "1.3Ca+2 + SiO2@ + 0.1Al+3 + 0.2992Na+ + 3.4639H2O@ = (SiO2)1.0(CaO)1.3(Na2O)0.1496(Al2O3)0.05(H2O)1.8643 + 3.1992H+\n",
      "1.5Ca+2 + SiO2@ + 3.1824H2O@ = (SiO2)1.0(CaO)1.5(H2O)1.6824 + 3H+\n",
      "1.5Ca+2 + SiO2@ + 0.1Al+3 + 3.5164H2O@ = (SiO2)1.0(CaO)1.5(Al2O3)0.05(H2O)1.8664 + 3.3H+\n",
      "1.5Ca+2 + SiO2@ + 0.0996Na+ + 3.2663H2O@ = (SiO2)1.0(CaO)1.5(Na2O)0.0498(H2O)1.7165 + 3.0996H+\n",
      "1.5Ca+2 + SiO2@ + 0.1Al+3 + 0.0998Na+ + 3.5984H2O@ = (SiO2)1.0(CaO)1.5(Na2O)0.0499(Al2O3)0.05(H2O)1.8985 + 3.3998H+\n",
      "1.5Ca+2 + SiO2@ + 0.198Na+ + 3.345H2O@ = (SiO2)1.0(CaO)1.5(Na2O)0.099(H2O)1.746 + 3.198H+\n",
      "1.5Ca+2 + SiO2@ + 0.1Al+3 + 0.1992Na+ + 3.6736H2O@ = (SiO2)1.0(CaO)1.5(Na2O)0.0996(Al2O3)0.05(H2O)1.924 + 3.4992H+\n",
      "1.5Ca+2 + SiO2@ + 0.287Na+ + 3.4051H2O@ = (SiO2)1.0(CaO)1.5(Na2O)0.1435(H2O)1.7616 + 3.287H+\n",
      "1.5Ca+2 + SiO2@ + 0.1Al+3 + 0.2932Na+ + 3.7359H2O@ = (SiO2)1.0(CaO)1.5(Na2O)0.1466(Al2O3)0.05(H2O)1.9393 + 3.5932H+\n"
     ]
    }
   ],
   "source": [
    "# generating chemical reqaction for new phases, with provided master species\n",
    "aqueous_master_species = ['H2O@', 'Na+', 'K+', 'Al+3', 'SiO2@', 'Ca+2', 'H+', 'HCO3-']\n",
    "reactions_dic, reactions_list = generate_reactions_one_by_one(aqueous_master_species, [c['formula'] for c in dicretized_cash] )"
   ]
  },
  {
   "cell_type": "code",
   "execution_count": 7,
   "id": "4f99a6cf",
   "metadata": {},
   "outputs": [],
   "source": [
    "# calculating reaction properties for given T list\n",
    "T_list = [0,25,60,100,150,200,250, 300]\n",
    "engine = fun.ThermoEngine(fun_cemdata18) # thermofun engine is used to calculate the properties of reactions\n",
    "# collecting results from the loop\n",
    "reactions_logKs =[ [engine.thermoPropertiesReaction(t+273.15001, 0, r).log_equilibrium_constant.val for t in T_list] for r in reactions_list ] "
   ]
  },
  {
   "cell_type": "code",
   "execution_count": 8,
   "id": "a637b3d4",
   "metadata": {},
   "outputs": [],
   "source": [
    "# exporting to CHESS database format\n",
    "fun_substances = [fun_cemdata18.getSubstance(c['formula'])for c in dicretized_cash]\n",
    "\n",
    "from datetime import date\n",
    "today = date.today()\n",
    "\n",
    "file_name = today.strftime(\"%b-%d-%Y\")+ '_chess_discrete_data.txt'\n",
    "\n",
    "from common.export import to_chess\n",
    "to_chess(file_name, fun_substances, reactions_dic, T_list, reactions_logKs, 'cash+ valid to 100C')"
   ]
  },
  {
   "cell_type": "code",
   "execution_count": 9,
   "id": "7ec4dd63",
   "metadata": {},
   "outputs": [],
   "source": [
    "# exporting to PHREEQC database format\n",
    "from common.export import to_phreeqc\n",
    "to_phreeqc('discrete_cash_phreeqc.txt', engine, fun_substances,  reactions_list, reactions_dic, 'cash+ valid to 100C')"
   ]
  },
  {
   "cell_type": "code",
   "execution_count": null,
   "id": "6a5a581e",
   "metadata": {},
   "outputs": [],
   "source": []
  }
 ],
 "metadata": {
  "kernelspec": {
   "display_name": "Python 3 (ipykernel)",
   "language": "python",
   "name": "python3"
  },
  "language_info": {
   "codemirror_mode": {
    "name": "ipython",
    "version": 3
   },
   "file_extension": ".py",
   "mimetype": "text/x-python",
   "name": "python",
   "nbconvert_exporter": "python",
   "pygments_lexer": "ipython3",
   "version": "3.9.15"
  }
 },
 "nbformat": 4,
 "nbformat_minor": 5
}
