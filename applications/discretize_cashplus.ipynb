{
 "cells": [
  {
   "cell_type": "markdown",
   "id": "44a0b916",
   "metadata": {},
   "source": [
    "# code to discretize the CASH+ solid oslution model into pure phases of given composition"
   ]
  },
  {
   "cell_type": "code",
   "execution_count": 1,
   "id": "0a1b5996",
   "metadata": {},
   "outputs": [],
   "source": [
    "# importing necessary functions\n",
    "from discretizer.cashplus import discretize_cash, add_cash_to_fundb, generate_reactions_one_by_one"
   ]
  },
  {
   "cell_type": "code",
   "execution_count": 2,
   "id": "458881d1",
   "metadata": {},
   "outputs": [],
   "source": [
    "discretization = [{'ratio': 'Ca/Si','interval': [0.7, 1.65], 'step': 0.2}, \n",
    "                  #{'ratio': 'Na/Si','interval': [0.0, 0.3], 'step': 0.1 }, \n",
    "                  {'ratio': 'Al/Si','interval': [0.0, 0.1], 'step': 0.02 }\n",
    "                 ]"
   ]
  },
  {
   "cell_type": "code",
   "execution_count": 3,
   "id": "10c99121",
   "metadata": {},
   "outputs": [
    {
     "name": "stdout",
     "output_type": "stream",
     "text": [
      "For Ca/Si 0.7 Al/Si 0.0 OK after GEM calculation with LPP AIA\n",
      "(SiO2)1.0(CaO)0.7(H2O)1.0391\n",
      "For Ca/Si 0.7 Al/Si 0.02 OK after GEM calculation with LPP AIA\n",
      "(SiO2)1.0(CaO)0.7(Al2O3)0.01(H2O)1.0727\n",
      "For Ca/Si 0.7 Al/Si 0.04 OK after GEM calculation with LPP AIA\n",
      "(SiO2)1.0(CaO)0.7(Al2O3)0.02(H2O)1.1074\n",
      "For Ca/Si 0.7 Al/Si 0.06 OK after GEM calculation with LPP AIA\n",
      "(SiO2)1.0(CaO)0.7(Al2O3)0.025(H2O)1.125\n",
      "For Ca/Si 0.7 Al/Si 0.08 OK after GEM calculation with LPP AIA\n",
      "(SiO2)1.0(CaO)0.7(Al2O3)0.025(H2O)1.125\n",
      "For Ca/Si 0.7 Al/Si 0.1 OK after GEM calculation with LPP AIA\n",
      "(SiO2)1.0(CaO)0.7(Al2O3)0.025(H2O)1.125\n",
      "For Ca/Si 0.9 Al/Si 0.0 OK after GEM calculation with LPP AIA\n",
      "(SiO2)1.0(CaO)0.9(H2O)1.2676\n",
      "For Ca/Si 0.9 Al/Si 0.02 OK after GEM calculation with LPP AIA\n",
      "(SiO2)1.0(CaO)0.9(Al2O3)0.01(H2O)1.2992\n",
      "For Ca/Si 0.9 Al/Si 0.04 OK after GEM calculation with LPP AIA\n",
      "(SiO2)1.0(CaO)0.9(Al2O3)0.02(H2O)1.3309\n",
      "For Ca/Si 0.9 Al/Si 0.06 OK after GEM calculation with LPP AIA\n",
      "(SiO2)1.0(CaO)0.9(Al2O3)0.03(H2O)1.3628\n",
      "For Ca/Si 0.9 Al/Si 0.08 OK after GEM calculation with LPP AIA\n",
      "(SiO2)1.0(CaO)0.9(Al2O3)0.04(H2O)1.395\n",
      "For Ca/Si 0.9 Al/Si 0.1 OK after GEM calculation with LPP AIA\n",
      "(SiO2)1.0(CaO)0.9(Al2O3)0.05(H2O)1.4276\n",
      "For Ca/Si 1.1 Al/Si 0.0 OK after GEM calculation with LPP AIA\n",
      "(SiO2)1.0(CaO)1.1(H2O)1.4557\n",
      "For Ca/Si 1.1 Al/Si 0.02 OK after GEM calculation with LPP AIA\n",
      "(SiO2)1.0(CaO)1.1(Al2O3)0.01(H2O)1.49\n",
      "For Ca/Si 1.1 Al/Si 0.04 OK after GEM calculation with LPP AIA\n",
      "(SiO2)1.0(CaO)1.1(Al2O3)0.02(H2O)1.5243\n",
      "For Ca/Si 1.1 Al/Si 0.06 OK after GEM calculation with LPP AIA\n",
      "(SiO2)1.0(CaO)1.1(Al2O3)0.03(H2O)1.5588\n",
      "For Ca/Si 1.1 Al/Si 0.08 OK after GEM calculation with LPP AIA\n",
      "(SiO2)1.0(CaO)1.1(Al2O3)0.04(H2O)1.5933\n",
      "For Ca/Si 1.1 Al/Si 0.1 OK after GEM calculation with LPP AIA\n",
      "(SiO2)1.0(CaO)1.1(Al2O3)0.05(H2O)1.628\n",
      "For Ca/Si 1.3 Al/Si 0.0 OK after GEM calculation with LPP AIA\n",
      "(SiO2)1.0(CaO)1.3(H2O)1.5757\n",
      "For Ca/Si 1.3 Al/Si 0.02 OK after GEM calculation with LPP AIA\n",
      "(SiO2)1.0(CaO)1.3(Al2O3)0.01(H2O)1.6111\n",
      "For Ca/Si 1.3 Al/Si 0.04 OK after GEM calculation with LPP AIA\n",
      "(SiO2)1.0(CaO)1.3(Al2O3)0.02(H2O)1.6467\n",
      "For Ca/Si 1.3 Al/Si 0.06 OK after GEM calculation with LPP AIA\n",
      "(SiO2)1.0(CaO)1.3(Al2O3)0.03(H2O)1.6826\n",
      "For Ca/Si 1.3 Al/Si 0.08 OK after GEM calculation with LPP AIA\n",
      "(SiO2)1.0(CaO)1.3(Al2O3)0.04(H2O)1.7186\n",
      "For Ca/Si 1.3 Al/Si 0.1 OK after GEM calculation with LPP AIA\n",
      "(SiO2)1.0(CaO)1.3(Al2O3)0.05(H2O)1.755\n",
      "For Ca/Si 1.5 Al/Si 0.0 OK after GEM calculation with LPP AIA\n",
      "(SiO2)1.0(CaO)1.5(H2O)1.6824\n",
      "For Ca/Si 1.5 Al/Si 0.02 OK after GEM calculation with LPP AIA\n",
      "(SiO2)1.0(CaO)1.5(Al2O3)0.01(H2O)1.7186\n",
      "For Ca/Si 1.5 Al/Si 0.04 OK after GEM calculation with LPP AIA\n",
      "(SiO2)1.0(CaO)1.5(Al2O3)0.02(H2O)1.7551\n",
      "For Ca/Si 1.5 Al/Si 0.06 OK after GEM calculation with LPP AIA\n",
      "(SiO2)1.0(CaO)1.5(Al2O3)0.03(H2O)1.7918\n",
      "For Ca/Si 1.5 Al/Si 0.08 OK after GEM calculation with LPP AIA\n",
      "(SiO2)1.0(CaO)1.5(Al2O3)0.04(H2O)1.8289\n",
      "For Ca/Si 1.5 Al/Si 0.1 OK after GEM calculation with LPP AIA\n",
      "(SiO2)1.0(CaO)1.5(Al2O3)0.05(H2O)1.8664\n"
     ]
    }
   ],
   "source": [
    "# discretizeing model calling GEMS to calculate the real solution properties for each composition\n",
    "dicretized_cash = discretize_cash(discretization)"
   ]
  },
  {
   "cell_type": "code",
   "execution_count": 4,
   "id": "d9ee7940",
   "metadata": {},
   "outputs": [],
   "source": [
    "# adding discrete phases to cemdata database \n",
    "import thermohubclient as client\n",
    "import thermofun as fun\n",
    "dbc = client.DatabaseClient()\n",
    "\n",
    "fun_cemdata18 = fun.Database('cemdata18-thermofun.json')"
   ]
  },
  {
   "cell_type": "code",
   "execution_count": 5,
   "id": "3bfe2416",
   "metadata": {},
   "outputs": [],
   "source": [
    "fun_cemdata18 = add_cash_to_fundb(fun_cemdata18, dicretized_cash)"
   ]
  },
  {
   "cell_type": "code",
   "execution_count": 6,
   "id": "59a6bd8c",
   "metadata": {},
   "outputs": [
    {
     "name": "stdout",
     "output_type": "stream",
     "text": [
      "0.7Ca+2 + SiO2@ + 1.7391H2O@ = (SiO2)1.0(CaO)0.7(H2O)1.0391 + 1.4H+\n",
      "0.7Ca+2 + SiO2@ + 0.02Al+3 + 1.8027H2O@ = (SiO2)1.0(CaO)0.7(Al2O3)0.01(H2O)1.0727 + 1.46H+\n",
      "0.7Ca+2 + SiO2@ + 0.04Al+3 + 1.8674H2O@ = (SiO2)1.0(CaO)0.7(Al2O3)0.02(H2O)1.1074 + 1.52H+\n",
      "0.7Ca+2 + SiO2@ + 0.05Al+3 + 1.9H2O@ = (SiO2)1.0(CaO)0.7(Al2O3)0.025(H2O)1.125 + 1.55H+\n",
      "0.7Ca+2 + SiO2@ + 0.05Al+3 + 1.9H2O@ = (SiO2)1.0(CaO)0.7(Al2O3)0.025(H2O)1.125 + 1.55H+\n",
      "0.7Ca+2 + SiO2@ + 0.05Al+3 + 1.9H2O@ = (SiO2)1.0(CaO)0.7(Al2O3)0.025(H2O)1.125 + 1.55H+\n",
      "0.9Ca+2 + SiO2@ + 2.1676H2O@ = (SiO2)1.0(CaO)0.9(H2O)1.2676 + 1.8H+\n",
      "0.9Ca+2 + SiO2@ + 0.02Al+3 + 2.2292H2O@ = (SiO2)1.0(CaO)0.9(Al2O3)0.01(H2O)1.2992 + 1.86H+\n",
      "0.9Ca+2 + SiO2@ + 0.04Al+3 + 2.2909H2O@ = (SiO2)1.0(CaO)0.9(Al2O3)0.02(H2O)1.3309 + 1.92H+\n",
      "0.9Ca+2 + SiO2@ + 0.06Al+3 + 2.3528H2O@ = (SiO2)1.0(CaO)0.9(Al2O3)0.03(H2O)1.3628 + 1.98H+\n",
      "0.9Ca+2 + SiO2@ + 0.08Al+3 + 2.415H2O@ = (SiO2)1.0(CaO)0.9(Al2O3)0.04(H2O)1.395 + 2.04H+\n",
      "0.9Ca+2 + SiO2@ + 0.1Al+3 + 2.4776H2O@ = (SiO2)1.0(CaO)0.9(Al2O3)0.05(H2O)1.4276 + 2.1H+\n",
      "1.1Ca+2 + SiO2@ + 2.5557H2O@ = (SiO2)1.0(CaO)1.1(H2O)1.4557 + 2.2H+\n",
      "1.1Ca+2 + SiO2@ + 0.02Al+3 + 2.62H2O@ = (SiO2)1.0(CaO)1.1(Al2O3)0.01(H2O)1.49 + 2.26H+\n",
      "1.1Ca+2 + SiO2@ + 0.04Al+3 + 2.6843H2O@ = (SiO2)1.0(CaO)1.1(Al2O3)0.02(H2O)1.5243 + 2.32H+\n",
      "1.1Ca+2 + SiO2@ + 0.06Al+3 + 2.7488H2O@ = (SiO2)1.0(CaO)1.1(Al2O3)0.03(H2O)1.5588 + 2.38H+\n",
      "1.1Ca+2 + SiO2@ + 0.08Al+3 + 2.8133H2O@ = (SiO2)1.0(CaO)1.1(Al2O3)0.04(H2O)1.5933 + 2.44H+\n",
      "1.1Ca+2 + SiO2@ + 0.1Al+3 + 2.878H2O@ = (SiO2)1.0(CaO)1.1(Al2O3)0.05(H2O)1.628 + 2.5H+\n",
      "1.3Ca+2 + SiO2@ + 2.8757H2O@ = (SiO2)1.0(CaO)1.3(H2O)1.5757 + 2.6H+\n",
      "1.3Ca+2 + SiO2@ + 0.02Al+3 + 2.9411H2O@ = (SiO2)1.0(CaO)1.3(Al2O3)0.01(H2O)1.6111 + 2.66H+\n",
      "1.3Ca+2 + SiO2@ + 0.04Al+3 + 3.0067H2O@ = (SiO2)1.0(CaO)1.3(Al2O3)0.02(H2O)1.6467 + 2.72H+\n",
      "1.3Ca+2 + SiO2@ + 0.06Al+3 + 3.0726H2O@ = (SiO2)1.0(CaO)1.3(Al2O3)0.03(H2O)1.6826 + 2.78H+\n",
      "1.3Ca+2 + SiO2@ + 0.08Al+3 + 3.1386H2O@ = (SiO2)1.0(CaO)1.3(Al2O3)0.04(H2O)1.7186 + 2.84H+\n",
      "1.3Ca+2 + SiO2@ + 0.1Al+3 + 3.205H2O@ = (SiO2)1.0(CaO)1.3(Al2O3)0.05(H2O)1.755 + 2.9H+\n",
      "1.5Ca+2 + SiO2@ + 3.1824H2O@ = (SiO2)1.0(CaO)1.5(H2O)1.6824 + 3H+\n",
      "1.5Ca+2 + SiO2@ + 0.02Al+3 + 3.2486H2O@ = (SiO2)1.0(CaO)1.5(Al2O3)0.01(H2O)1.7186 + 3.06H+\n",
      "1.5Ca+2 + SiO2@ + 0.04Al+3 + 3.3151H2O@ = (SiO2)1.0(CaO)1.5(Al2O3)0.02(H2O)1.7551 + 3.12H+\n",
      "1.5Ca+2 + SiO2@ + 0.06Al+3 + 3.3818H2O@ = (SiO2)1.0(CaO)1.5(Al2O3)0.03(H2O)1.7918 + 3.18H+\n",
      "1.5Ca+2 + SiO2@ + 0.08Al+3 + 3.4489H2O@ = (SiO2)1.0(CaO)1.5(Al2O3)0.04(H2O)1.8289 + 3.24H+\n",
      "1.5Ca+2 + SiO2@ + 0.1Al+3 + 3.5164H2O@ = (SiO2)1.0(CaO)1.5(Al2O3)0.05(H2O)1.8664 + 3.3H+\n"
     ]
    }
   ],
   "source": [
    "# generating chemical reqaction for new phases, with provided master species\n",
    "aqueous_master_species = ['H2O@', 'Na+', 'K+', 'Al+3', 'SiO2@', 'Ca+2', 'H+', 'HCO3-']\n",
    "reactions_dic, reactions_list = generate_reactions_one_by_one(aqueous_master_species, [c['formula'] for c in dicretized_cash] )"
   ]
  },
  {
   "cell_type": "code",
   "execution_count": 7,
   "id": "4f99a6cf",
   "metadata": {},
   "outputs": [],
   "source": [
    "# calculating reaction properties for given T list\n",
    "T_list = [0,25,60,100,150,200,250, 300]\n",
    "engine = fun.ThermoEngine(fun_cemdata18) # thermofun engine is used to calculate the properties of reactions\n",
    "# collecting results from the loop\n",
    "reactions_logKs =[ [engine.thermoPropertiesReaction(t+273.15001, 0, r).log_equilibrium_constant.val for t in T_list] for r in reactions_list ] "
   ]
  },
  {
   "cell_type": "code",
   "execution_count": 8,
   "id": "a637b3d4",
   "metadata": {},
   "outputs": [],
   "source": [
    "# exporting to CHESS database format\n",
    "#fun_substances = [fun_cemdata18.getSubstance(c['formula']) for c in dicretized_cash]\n",
    "\n",
    "fun_substances = []\n",
    "for c in dicretized_cash:\n",
    "    substance = fun_cemdata18.getSubstance(c['formula'])\n",
    "    substance.setSymbol(c['symbol'])\n",
    "    fun_substances.append(substance)\n",
    "\n",
    "\n",
    "\n",
    "from datetime import date\n",
    "today = date.today()\n",
    "\n",
    "file_name = today.strftime(\"%b-%d-%Y\")+ '_chess_discrete_data.txt'\n",
    "\n",
    "from common.export import to_chess\n",
    "to_chess(file_name, fun_substances, reactions_dic, T_list, reactions_logKs, 'cash+ valid to 100C')"
   ]
  },
  {
   "cell_type": "code",
   "execution_count": 9,
   "id": "7ec4dd63",
   "metadata": {},
   "outputs": [],
   "source": [
    "# exporting to PHREEQC database format\n",
    "from common.export import to_phreeqc\n",
    "\n",
    "from datetime import date\n",
    "today = date.today()\n",
    "\n",
    "file_name = today.strftime(\"%b-%d-%Y\")+ '_discrete_cash_phreeqc.txt'\n",
    "\n",
    "\n",
    "to_phreeqc(file_name, engine, fun_substances,  reactions_list, reactions_dic, 'cash+ valid to 100C')"
   ]
  },
  {
   "cell_type": "code",
   "execution_count": null,
   "id": "6a5a581e",
   "metadata": {},
   "outputs": [],
   "source": []
  }
 ],
 "metadata": {
  "kernelspec": {
   "display_name": "Python 3 (ipykernel)",
   "language": "python",
   "name": "python3"
  },
  "language_info": {
   "codemirror_mode": {
    "name": "ipython",
    "version": 3
   },
   "file_extension": ".py",
   "mimetype": "text/x-python",
   "name": "python",
   "nbconvert_exporter": "python",
   "pygments_lexer": "ipython3",
   "version": "3.10.12"
  },
  "toc": {
   "base_numbering": 1,
   "nav_menu": {},
   "number_sections": false,
   "sideBar": false,
   "skip_h1_title": false,
   "title_cell": "Table of Contents",
   "title_sidebar": "Contents",
   "toc_cell": false,
   "toc_position": {},
   "toc_section_display": false,
   "toc_window_display": false
  }
 },
 "nbformat": 4,
 "nbformat_minor": 5
}
