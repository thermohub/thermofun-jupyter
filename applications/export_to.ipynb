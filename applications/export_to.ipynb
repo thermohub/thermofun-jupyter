{
 "cells": [
  {
   "cell_type": "markdown",
   "id": "3c258efe",
   "metadata": {},
   "source": [
    "# Get data from cemdata18, generate reactions and export them to chess/phreeqc format"
   ]
  },
  {
   "cell_type": "code",
   "execution_count": 1,
   "id": "47eeaac6",
   "metadata": {},
   "outputs": [],
   "source": [
    "import thermohubclient as client\n",
    "import thermofun as fun\n",
    "import chemicalfun as cf\n",
    "import json\n",
    "from common.filters import substances_containing_elements\n",
    "from common.export import to_chess, to_phreeqc"
   ]
  },
  {
   "cell_type": "code",
   "execution_count": 2,
   "id": "beebd4a0",
   "metadata": {},
   "outputs": [],
   "source": [
    "dbc = client.DatabaseClient()"
   ]
  },
  {
   "cell_type": "code",
   "execution_count": 3,
   "id": "f3151412",
   "metadata": {},
   "outputs": [
    {
     "data": {
      "text/plain": [
       "['\"mines19\"',\n",
       " '\"heracles\"',\n",
       " '\"slop98-organic\"',\n",
       " '\"slop16\"',\n",
       " '\"aq17\"',\n",
       " '\"psinagra-12-07\"',\n",
       " '\"slop98-inorganic\"',\n",
       " '\"mines16\"',\n",
       " '\"cemdata18\"']"
      ]
     },
     "execution_count": 3,
     "metadata": {},
     "output_type": "execute_result"
    }
   ],
   "source": [
    "# what are the available datasets in ThermoHub \n",
    "dbc.availableThermoDataSets()"
   ]
  },
  {
   "cell_type": "code",
   "execution_count": 4,
   "id": "6c6ce86e",
   "metadata": {},
   "outputs": [],
   "source": [
    "# get cemdata dataset\n",
    "dbc.saveDatabase(\"cemdata18\")\n",
    "# cemdata18 dataset is downloaded from ThemroHub server and saved as cemdata18-thermofun.json"
   ]
  },
  {
   "cell_type": "code",
   "execution_count": 5,
   "id": "2bceb74b",
   "metadata": {},
   "outputs": [
    {
     "name": "stdout",
     "output_type": "stream",
     "text": [
      "symbol               formula                                  class               \n",
      "Fe2(OH)2+4           Fe|3|2(OH)2+4                            SC_AQSOLUTE         \n",
      "Fe3(OH)4+5           Fe|3|3(OH)4+5                            SC_AQSOLUTE         \n",
      "FeHSiO3+2            Fe|3|HSiO3+2                             SC_AQSOLUTE         \n",
      "FeCl3@               Fe|3|Cl3@                                SC_AQSOLUTE         \n",
      "Fe(SO4)@             Fe(SO4)@                                 SC_AQSOLUTE         \n",
      "Fe(SO4)+             Fe|3|(SO4)+                              SC_AQSOLUTE         \n",
      "Fe(SO4)2-            Fe|3|(SO4)2-                             SC_AQSOLUTE         \n",
      "Fe(CO3)@             FeCO3@                                   SC_AQSOLUTE         \n",
      "Fe(HCO3)+            FeHCO3+                                  SC_AQSOLUTE         \n",
      "FeCl2+               Fe|3|Cl2+                                SC_AQSOLUTE         \n",
      "Fe(HSO4)+2           Fe|3|HSO4+2                              SC_AQSOLUTE         \n",
      "Fe(HSO4)+            FeHSO4+                                  SC_AQSOLUTE         \n",
      "Fe+2                 Fe+2                                     SC_AQSOLUTE         \n",
      "FeO2-                Fe|3|O2-                                 SC_AQSOLUTE         \n",
      "FeOH+2               Fe|3|(OH)+2                              SC_AQSOLUTE         \n",
      "FeO+                 Fe|3|O+                                  SC_AQSOLUTE         \n",
      "FeO2H@               Fe|3|O2H@                                SC_AQSOLUTE         \n",
      "FeOH+                FeOH+                                    SC_AQSOLUTE         \n",
      "Fe+3                 Fe|3|+3                                  SC_AQSOLUTE         \n",
      "FeCl+2               Fe|3|Cl+2                                SC_AQSOLUTE         \n",
      "FeCl+                FeCl+                                    SC_AQSOLUTE         \n",
      "Fe(OH)3(am)          Fe|3|(OH)3                               SC_COMPONENT        \n",
      "Fe(OH)3(mic)         Fe|3|(OH)3                               SC_COMPONENT        \n",
      "FeCO3(pr)            FeCO3                                    SC_COMPONENT        \n",
      "Fe-hemicarbonate     Ca3O3Fe|3|2O3(CaCO3)0.5(CaO2H2)0.5(H2O)9.5 SC_COMPONENT        \n",
      "Femonocarbonate      Ca4O4Fe|3|2O3CO2(H2O)12                  SC_COMPONENT        \n",
      "Fe-monosulph05       Ca2Fe|3|S0.5O5(H2O)6                     SC_COMPONENT        \n",
      "Fe-monosulphate      Ca4Fe|3|2SO10(H2O)12                     SC_COMPONENT        \n",
      "C3AFS0.84H4.32       (AlFe|3|O3)[Ca3O3(SiO2)0.84(H2O)4.32]    SC_COMPONENT        \n",
      "C3FS0.84H4.32        (Fe|3|Fe|3|O3)[Ca3O3(SiO2)0.84(H2O)4.32] SC_COMPONENT        \n",
      "C3FH6                Ca3Fe|3|2O6(H2O)6                        SC_COMPONENT        \n",
      "C3FS1.34H3.32        Ca3Fe|3|2O6(SiO2)1.34(H2O)3.32           SC_COMPONENT        \n",
      "C4FH13               Ca4Fe|3|2(OH)14(H2O)6                    SC_COMPONENT        \n",
      "FeOOHmic             Fe|3|OOH                                 SC_COMPONENT        \n",
      "C4AF                 (CaO)4(Al2O3)(Fe|3|2O3)                  SC_COMPONENT        \n",
      "Gt                   Fe|3|O(OH)                               SC_COMPONENT        \n",
      "Fe-ettringite05      Ca3Fe|3|(SO4)1.5(OH)6(H2O)13             SC_COMPONENT        \n",
      "Fe-ettringite        Ca6Fe|3|2(SO4)3(OH)12(H2O)26             SC_COMPONENT        \n",
      "Tro                  Fe|2|S|-2|                               SC_COMPONENT        \n",
      "Fe                   Fe|0|                                    SC_COMPONENT        \n",
      "Melanterite          FeSO4(H2O)7                              SC_COMPONENT        \n",
      "Mg3FeC0.5OH          Mg3Fe|3|(OH)8(CO3)0.5(H2O)2.5            SC_COMPONENT        \n",
      "Mg2FeC0.5OH          Mg2Fe|3|(OH)6(CO3)0.5(H2O)2              SC_COMPONENT        \n",
      "Hem                  Fe|3|2O3                                 SC_COMPONENT        \n",
      "Sd                   FeCO3                                    SC_COMPONENT        \n",
      "Mag                  FeFe|3|2O4                               SC_COMPONENT        \n",
      "Py                   FeS|0|S|-2|                              SC_COMPONENT        \n"
     ]
    }
   ],
   "source": [
    "# what substances are avaialble containing Si and Fe elements\n",
    "substances_containing_elements('cemdata18-thermofun.json', ['Fe', ''])"
   ]
  },
  {
   "cell_type": "code",
   "execution_count": 6,
   "id": "3fa4457a",
   "metadata": {},
   "outputs": [],
   "source": [
    "# create a ThermoFun database from which we can select the substances to generate reactions\n",
    "fun_cemdata18 = fun.Database('cemdata18-thermofun.json')\n",
    "\n",
    "# extract preferred substances from database \n",
    "CAFS = fun_cemdata18.getSubstance(\"C3AFS0.84H4.32\")\n",
    "CFS = fun_cemdata18.getSubstance(\"C3FS0.84H4.32\")\n",
    "CFS2 = fun_cemdata18.getSubstance(\"C3FS1.34H3.32\")\n",
    "Fe_hemi = fun_cemdata18.getSubstance(\"Fe-hemicarbonate\")\n",
    "hem = fun_cemdata18.getSubstance(\"Hem\")\n",
    "\n",
    "substances = [CAFS, CFS, CFS2, Fe_hemi, hem]\n",
    "aqueous_master_species = ['H2O@', 'Al+3', 'Fe+3', 'SiO2@', 'Ca+2', 'H+', 'HCO3-']"
   ]
  },
  {
   "cell_type": "code",
   "execution_count": 7,
   "id": "6a866d85",
   "metadata": {},
   "outputs": [
    {
     "name": "stdout",
     "output_type": "stream",
     "text": [
      "3Ca+2 + 0.84SiO2@ + Fe+3 + Al+3 + 10.32H2O@ = C3AFS0.84H4.32 + 12H+\n",
      "3Ca+2 + 0.84SiO2@ + 2Fe+3 + 10.32H2O@ = C3FS0.84H4.32 + 12H+\n",
      "3Ca+2 + 1.34SiO2@ + 2Fe+3 + 9.32H2O@ = C3FS1.34H3.32 + 12H+\n",
      "0.5HCO3- + 4Ca+2 + 2Fe+3 + 16.5H2O@ = Fe-hemicarbonate + 13.5H+\n",
      "2Fe+3 + 3H2O@ = Hem + 6H+\n"
     ]
    }
   ],
   "source": [
    "# using chemicalfun library to generate chemical reactions based on list of master species\n",
    "substances_formulas = aqueous_master_species+[s.formula() for s in substances]\n",
    "substances_symbols = aqueous_master_species+[s.symbol() for s in substances]\n",
    "\n",
    "chemicalReactions = cf.ChemicalReactions(substances_formulas,substances_symbols)\n",
    "\n",
    "reactions = chemicalReactions.generateReactions(formation=True) # returns the reactions list as a list of tuples ('substance', coefficient)\n",
    "\n",
    "# list of dictionaries, with reaction substances as keys and the reaction coefficients as values\n",
    "reactions_dic = [{el[0]: el[1] for el in r} for r in reactions] \n",
    "\n",
    "# strings of reactions that can be used in ThermoFun to calculate the logK at different T and P\n",
    "reactions_list = chemicalReactions.stringReactions()\n",
    "\n",
    "for r in reactions_list:\n",
    "    print(r)\n",
    "#reactions_dic"
   ]
  },
  {
   "cell_type": "code",
   "execution_count": 8,
   "id": "c1fc4735",
   "metadata": {},
   "outputs": [],
   "source": [
    "# calculating reaction properties for given T list\n",
    "T_list = [0,25,60,100,150,200,250, 300]\n",
    "engine = fun.ThermoEngine(fun_cemdata18) # thermofun engine is used to calculate the properties of reactions\n",
    "# collecting results from the loop\n",
    "reactions_logKs =[ [engine.thermoPropertiesReaction(t+273.1501, 0, r).log_equilibrium_constant.val for t in T_list] for r in reactions_list ] "
   ]
  },
  {
   "cell_type": "code",
   "execution_count": 9,
   "id": "b04aa87e",
   "metadata": {},
   "outputs": [],
   "source": [
    "to_chess('chess_data.txt', substances, reactions_dic, T_list, reactions_logKs, 'cemdata18 valid to 100C')"
   ]
  },
  {
   "cell_type": "code",
   "execution_count": 10,
   "id": "03585d0d",
   "metadata": {},
   "outputs": [],
   "source": [
    "to_phreeqc('phreeqc_data.txt', engine, substances, reactions_list, reactions_dic, 'cemdata valid to 100C')"
   ]
  }
 ],
 "metadata": {
  "kernelspec": {
   "display_name": "Python 3 (ipykernel)",
   "language": "python",
   "name": "python3"
  },
  "language_info": {
   "codemirror_mode": {
    "name": "ipython",
    "version": 3
   },
   "file_extension": ".py",
   "mimetype": "text/x-python",
   "name": "python",
   "nbconvert_exporter": "python",
   "pygments_lexer": "ipython3",
   "version": "3.10.12"
  }
 },
 "nbformat": 4,
 "nbformat_minor": 5
}
