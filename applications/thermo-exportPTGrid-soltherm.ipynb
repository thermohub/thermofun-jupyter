{
 "cells": [
  {
   "cell_type": "markdown",
   "metadata": {},
   "source": [
    "<img src=\"../common/fun_long_logo-01.png\">\n",
    "\n",
    "**ThermoFun** is a universal open-source client that delivers thermodynamic properties of substances and reactions at the temperature and pressure of interest."
   ]
  },
  {
   "cell_type": "markdown",
   "metadata": {},
   "source": [
    "# Export logK values in [soltherm](https://pages.uoregon.edu/palandri/data/soltherm.xpt) PT grid format \n",
    "Use the ```ThermoEnginge``` class in a script to calculate logK values at given TP, store them in a list and finally, use the ```ThermoBatch``` class with the list of stored results to output them in a CSV file."
   ]
  },
  {
   "cell_type": "markdown",
   "metadata": {},
   "source": [
    "### Import ThermoFun python package "
   ]
  },
  {
   "cell_type": "code",
   "execution_count": null,
   "metadata": {},
   "outputs": [],
   "source": [
    "import thermofun as fun"
   ]
  },
  {
   "cell_type": "markdown",
   "metadata": {},
   "source": [
    "### Import a thermodynamic database from a json file\n",
    "ThermoFun is initialized with a ThermoDataSet. A ThermoDataSet is a collection of records of substances and/or reactions also known in the (geo)chemical community as a thermodynamic database, e.g. SUPCRT98, PSI-Nagra, CEMDATA18. In this example we use a provided database file ```aq17-gem-lma-thermofun.json.json```. This database contains both substance and reaction records. The reactions for all secondary substances were generated in ThermoMach reactions generator module based on the master species used in soltherm."
   ]
  },
  {
   "cell_type": "code",
   "execution_count": null,
   "metadata": {},
   "outputs": [],
   "source": [
    "database = fun.Database(\"../databases/aq17-gem-lma-thermofun.json\")"
   ]
  },
  {
   "cell_type": "markdown",
   "metadata": {},
   "source": [
    "Initialize the T and P list as in soltherm, and an empty results list."
   ]
  },
  {
   "cell_type": "code",
   "execution_count": null,
   "metadata": {},
   "outputs": [],
   "source": [
    "Ts =  [0.01,  25,  50,  75, 100, 125, 150, 175, 200, 225, 250, 275, 300, 325, 350,\n",
    "       400, 410, 420, 430, 440, 450, 460, 470, 480, 490, 500, 510, 520, 530, 540, 550, 560, 570, 580, 590, 600];\n",
    "Ps =  [1.000, 1.0133, 2.321, 4.758, 8.919, 15.537, 25.479, 39.737, 59.432, 85.839,120.458, 165.212, \n",
    "       200, 250, 300, 350, 400, 450, 500, 550, 600, 650, 700, 750, 800, 850, 900, 950, 1000, 1500, 2000, 2500, 3000, 3500, 4000, 4500, 5000];\n",
    "results = []"
   ]
  },
  {
   "cell_type": "markdown",
   "metadata": {},
   "source": [
    "Initialize a ```ThermoEngine``` object (used for calculating the properties of substances/reactions at desired T and P). The solvent is needed internally for the T an P extrapolations."
   ]
  },
  {
   "cell_type": "code",
   "execution_count": null,
   "metadata": {},
   "outputs": [],
   "source": [
    "engine = fun.ThermoEngine(database)\n",
    "engine.setSolventSymbol('H2O@')"
   ]
  },
  {
   "cell_type": "markdown",
   "metadata": {},
   "source": [
    "Script for rearranging data as follows: aqueous, gas, minerals"
   ]
  },
  {
   "cell_type": "code",
   "execution_count": null,
   "metadata": {},
   "outputs": [],
   "source": [
    "import json\n",
    "substances = database.mapSubstances()\n",
    "reactions = database.mapReactions()\n",
    "\n",
    "r_aqueous = []\n",
    "r_gas = []\n",
    "r_mineral = []\n",
    "\n",
    "re_aqueous = []\n",
    "re_gas = []\n",
    "re_mineral = []\n",
    "\n",
    "for r in database.mapReactions().keys():\n",
    "    if json.loads(substances[r].jsonString())['aggregate_state'] == {'4': 'AS_AQUEOUS'}:\n",
    "        re_aqueous.append(reactions[r].equation())\n",
    "        r_aqueous.append(r)\n",
    "    if json.loads(substances[r].jsonString())['aggregate_state'] == {'0': 'AS_GAS'}:\n",
    "        re_gas.append(reactions[r].equation())\n",
    "        r_gas.append(r)\n",
    "    if json.loads(substances[r].jsonString())['aggregate_state'] == {'3': 'AS_CRYSTAL'}:\n",
    "        re_mineral.append(reactions[r].equation())\n",
    "        r_mineral.append(r)\n",
    "\n",
    "reactions_keys = r_aqueous + r_gas + r_mineral\n",
    "reactions_eq_keys = re_aqueous + re_gas + re_mineral"
   ]
  },
  {
   "cell_type": "code",
   "execution_count": null,
   "metadata": {},
   "outputs": [],
   "source": [
    "PressuresAtSat = {}\n",
    "for r in reactions_keys:#database.mapReactions().keys():\n",
    "    for pbar in Ps:\n",
    "        for tC in Ts:\n",
    "            pPa = pbar*1e5; # to Pa\n",
    "            tK = tC+273.15; # to K\n",
    "            tpr = fun.ThermoPropertiesReaction()\n",
    "            tpr.log_equilibrium_constant.val = 99999.9989\n",
    "            prop_solvent = fun.PropertiesSolvent()\n",
    "        \n",
    "            try:\n",
    "                if not (tC>350. and pbar <200.): \n",
    "                    prop_solvent = engine.propertiesSolvent(tK,pPa,\"H2O@\")\n",
    "            \n",
    "                if not (tC>350.):\n",
    "                    if not tC in PressuresAtSat.keys():\n",
    "                        PressuresAtSat[tC]= engine.propertiesSolvent(tK,0,\"H2O@\").pressure.val\n",
    "                    if (pPa < PressuresAtSat[tC]): # if in vapor region\n",
    "                        prop_solvent.density.val = 0.0\n",
    "            \n",
    "                if (prop_solvent.density.val > 350.0):\n",
    "                    tpr = engine.thermoPropertiesReactionFromReactants(tK,pPa, r)\n",
    "        \n",
    "            except (RuntimeError):\n",
    "                tpr.log_equilibrium_constant.val = 99999.9989\n",
    "              \n",
    "            results.append(tpr)"
   ]
  },
  {
   "cell_type": "markdown",
   "metadata": {},
   "source": [
    "Output results using ```ThermoBatch```. ThermoBatch has special output functionality (e.g. write CSV files) that is not accessible in the ```ThermoEngine```. When we don't do batch calculations directly using ThermoBatch, we can instead provide a list of results that were calculated before. "
   ]
  },
  {
   "cell_type": "code",
   "execution_count": null,
   "metadata": {},
   "outputs": [],
   "source": [
    "batch = fun.ThermoBatch(engine)"
   ]
  },
  {
   "cell_type": "markdown",
   "metadata": {},
   "source": [
    "Set calculation and output preferences.\n",
    "For a list of properties set desired units. Default units for temperature and pressure are K and Pa. <br>\n",
    "For a list of properties set desired significant digits after the (.) to be written in the result file."
   ]
  },
  {
   "cell_type": "code",
   "execution_count": null,
   "metadata": {},
   "outputs": [],
   "source": [
    "batch.setPropertiesUnits([\"temperature\", \"pressure\"],[\"degC\",\"bar\"])\n",
    "batch.setPropertiesDigits([\"logKr\", \"pressure\"], [3, 3])\n",
    "op = fun.BatchPreferences()\n",
    "op.loopTemperatureThenPressure = False # has to be consistent with the order of calculations \n",
    "batch.setBatchPreferences(op)"
   ]
  },
  {
   "cell_type": "markdown",
   "metadata": {},
   "source": [
    "Write the results to a CSV file. "
   ]
  },
  {
   "cell_type": "code",
   "execution_count": null,
   "metadata": {},
   "outputs": [],
   "source": [
    "batch.thermoPropertiesReaction(Ts, Ps, reactions_eq_keys, [\"logKr\"], results).toCSVPropertyGrid(\"test_grid.csv\") #list(database.mapReactions().keys())"
   ]
  },
  {
   "cell_type": "markdown",
   "metadata": {},
   "source": [
    "Import functions for creating csv download link and data plotting"
   ]
  },
  {
   "cell_type": "code",
   "execution_count": null,
   "metadata": {},
   "outputs": [],
   "source": [
    "from common.functions import create_csv_download_link, plot_substances_properties_vs_temperature"
   ]
  },
  {
   "cell_type": "markdown",
   "metadata": {},
   "source": [
    "### Download the results file"
   ]
  },
  {
   "cell_type": "code",
   "execution_count": null,
   "metadata": {},
   "outputs": [],
   "source": [
    "create_csv_download_link(\"logKr_test_grid.csv\")"
   ]
  }
 ],
 "metadata": {
  "kernelspec": {
   "display_name": "Python 3 (ipykernel)",
   "language": "python",
   "name": "python3"
  },
  "language_info": {
   "codemirror_mode": {
    "name": "ipython",
    "version": 3
   },
   "file_extension": ".py",
   "mimetype": "text/x-python",
   "name": "python",
   "nbconvert_exporter": "python",
   "pygments_lexer": "ipython3",
   "version": "3.10.14"
  },
  "toc": {
   "base_numbering": 1,
   "nav_menu": {},
   "number_sections": false,
   "sideBar": false,
   "skip_h1_title": false,
   "title_cell": "Table of Contents",
   "title_sidebar": "Contents",
   "toc_cell": false,
   "toc_position": {},
   "toc_section_display": false,
   "toc_window_display": false
  }
 },
 "nbformat": 4,
 "nbformat_minor": 4
}
