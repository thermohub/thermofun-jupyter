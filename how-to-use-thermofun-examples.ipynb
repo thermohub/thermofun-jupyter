{
 "cells": [
  {
   "cell_type": "markdown",
   "id": "4d6b4084-038e-4f2c-9fb6-06e2c157bf6e",
   "metadata": {},
   "source": [
    "![ThermoFun logo](common/fun_long_logo-01.png)\n",
    "\n",
    "**ThermoFun** is an open-source client that delivers thermodynamic properties of substances and reactions at the temperature and pressure of interest.\n",
    "\n",
    "Miron et al., (2023). ThermoFun: A C++/Python library for computing standard thermodynamic properties of substances and reactions across wide ranges of temperatures and pressures. Journal of Open Source Software, 8(83), 4624\n",
    "\n",
    "[![DOI](https://joss.theoj.org/papers/10.21105/joss.04624/status.svg)](https://doi.org/10.21105/joss.04624)"
   ]
  },
  {
   "cell_type": "markdown",
   "id": "b877034c-e5f9-440d-a3b8-ca0c6c5631b3",
   "metadata": {},
   "source": [
    "#### [001 Calculate properties of a substance or reaction](how-to-use-thermofun-examples/001-how-to-calculate-properties-substance-reaction.ipynb)\n",
    "#### [002 Calculate properties using thermoEngine](how-to-use-thermofun-examples/002-how-to-calculate-properties-thermoengine.ipynb)\n",
    "#### [002b Get Database from the remote ThermoHub](how-to-use-thermofun-examples/002b_database_engine_tutorial.ipynb)\n",
    "#### [002c Reaction properties from reactants, changing master species](how-to-use-thermofun-examples/002c_reaction_properties_from_reactants.ipynb)\n",
    "Example showing how to initialize a ThermoFun database using a JSON file or from ThermoHub remote server, and then using this database object to create a ThermoEngine that is used to calculate the thermodynamic properties of a substance or reaction and any reaction equation (provided reactants are in the db)."
   ]
  },
  {
   "cell_type": "markdown",
   "id": "6049a647-7537-4a6e-afcc-8e23865c7046",
   "metadata": {},
   "source": [
    "#### [003 How to do batch calculations, T-P grid](how-to-use-thermofun-examples/003-how-to-do-batch-calculations.ipynb)\n",
    "The Batch class is useful for doing multiple (batch) calculations for a given list of substances, reactions, properties, and desired temperature and pressure grid."
   ]
  },
  {
   "cell_type": "markdown",
   "id": "378d347e-107a-4687-bd29-9f04459931c1",
   "metadata": {},
   "source": [
    "#### [004 How to use a database](how-to-use-thermofun-examples/004-how-to-use-a-database.ipynb)\n",
    "A database is initialized with a ThermoDataSet. A ThermoDataSet is a collection of records of substances and/or reactions also known in the (geo)chemical community as a thermodynamic database, e.g. SUPCRT98, PSI-Nagra, CEMDATA18."
   ]
  },
  {
   "cell_type": "markdown",
   "id": "514a956f-637e-4e11-9455-a0b8d5b369e9",
   "metadata": {},
   "source": [
    "#### [005 How to append own data and make comparisons](how-to-use-thermofun-examples/005_append_own_data_tutorial.ipynb)\n",
    "Learn how to append your own data from a JSON file and compare calculate properties from different sources and against experiments. "
   ]
  },
  {
   "cell_type": "markdown",
   "id": "d2abdb2c-156c-4609-b861-cec3c55988b5",
   "metadata": {},
   "source": [
    "#### [006 How to add own reaction data](how-to-use-thermofun-examples/006_solved_reacdc_RBM_tutorial.ipynb)\n",
    "Learn how to append add your own reaction with a method of calculating its properties (Ryzhenko-Bryzgalin (MRB) model). Create a substance depentend on this reaction and calculate its properties.  "
   ]
  },
  {
   "cell_type": "markdown",
   "id": "b14222f0-7c1f-49f4-9692-67b1fd4e75bf",
   "metadata": {},
   "source": [
    "#### [007 Example of how uncertainty is propagated in ThermoFun](how-to-use-thermofun-examples/007_simple_uncertainty_propagation.ipynb)\n",
    "Example on how ThermoFun propagates errors in calculate properties provided the uncertainties in the reference properties and method parameters. "
   ]
  },
  {
   "cell_type": "markdown",
   "id": "23991c40-1b8b-4944-879d-9f3bfca9f453",
   "metadata": {},
   "source": [
    "#### [008 Generate all independent reactions from given substances](how-to-use-thermofun-examples/008_chemicalfun_generate_reactions.ipynb)\n",
    "Example on how to generate reactions from a list of substances formulas \n",
    "\n",
    "* #### [    Generate reactions based on species and symbols provided in a excel spreadsheet](how-to-use-thermofun-examples/008_chemicalfun_generate_reactions2.ipynb)\n",
    "* #### [    Generate reactions based on species and symbols provided in a excel spreadsheet. Then calculate the reaction properties based on thermodynamic data from a database using ThermoFun.](how-to-use-thermofun-examples/008_chemicalfun_generate_reactions3.ipynb)"
   ]
  },
  {
   "cell_type": "markdown",
   "id": "4d9ed624-bce4-4f5a-a21d-ed3e4bd8d646",
   "metadata": {},
   "source": [
    "#### [009 Generate reactions and export them to phreeqc](how-to-use-thermofun-examples/009_reactions_phreeqc_export.ipynb)\n",
    "Example on how to generate reactions from substances caluclate thier properties and export them to phreeqc text format"
   ]
  },
  {
   "cell_type": "markdown",
   "id": "63eedb51-ad6a-4d2e-90fc-441d0fc2f47d",
   "metadata": {},
   "source": [
    "#### [010 Calculate the water density and dielectric constant](how-to-use-thermofun-examples/010_water_properties.ipynb)\n",
    "Example on how to calculate the density and dielectric constant of water "
   ]
  },
  {
   "cell_type": "code",
   "execution_count": null,
   "id": "3f265be6-2d63-4e58-93fc-d6bd33da8927",
   "metadata": {},
   "outputs": [],
   "source": []
  }
 ],
 "metadata": {
  "kernelspec": {
   "display_name": "Python 3 (ipykernel)",
   "language": "python",
   "name": "python3"
  },
  "language_info": {
   "codemirror_mode": {
    "name": "ipython",
    "version": 3
   },
   "file_extension": ".py",
   "mimetype": "text/x-python",
   "name": "python",
   "nbconvert_exporter": "python",
   "pygments_lexer": "ipython3",
   "version": "3.10.14"
  }
 },
 "nbformat": 4,
 "nbformat_minor": 5
}
