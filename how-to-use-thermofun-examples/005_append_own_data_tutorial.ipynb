{
 "cells": [
  {
   "cell_type": "markdown",
   "id": "6299e07c",
   "metadata": {},
   "source": [
    "<img src=\"../common/fun_long_logo-01.png\">"
   ]
  },
  {
   "cell_type": "markdown",
   "id": "a1c2b3b7-ea0f-4d56-87b8-24b8520d3fd4",
   "metadata": {},
   "source": [
    "# Tutorial on making batch calculations using dataset from GEMS and adding your own data.\n",
    "Miron et al., (2023). ThermoFun: A C++/Python library for computing standard thermodynamic properties of substances and reactions across wide ranges of temperatures and pressures. Journal of Open Source Software, 8(83), 4624\n",
    "\n",
    "[![DOI](https://joss.theoj.org/papers/10.21105/joss.04624/status.svg)](https://doi.org/10.21105/joss.04624)"
   ]
  },
  {
   "cell_type": "markdown",
   "id": "c8cdfd6f",
   "metadata": {},
   "source": [
    "### Import ThermoFun module\n",
    "ThermoFun delivers thermodynamic properties of substances and reactions at the temperature and pressure of interest."
   ]
  },
  {
   "cell_type": "code",
   "execution_count": null,
   "id": "151b0912",
   "metadata": {},
   "outputs": [],
   "source": [
    "import thermofun as fun"
   ]
  },
  {
   "cell_type": "markdown",
   "id": "49e7f131",
   "metadata": {},
   "source": [
    "### Initialize a ThermoFun database record - \n",
    "Thermofun needs a database of substances and or reactions. The data is in JSON format. Have a look at the json files '../databases/'. One can also use the available datasets in thermohub database and retrieve them uisng thermohubclient. ThermoHub contains the up to date datasets. \n",
    "Another possible source for ThermoFun database files is https://github.com/thermohub/thermohub mirror of thermohub database.\n",
    "\n",
    "For this example we will use a dataset that comes from a GEMS project, containing a subset of elements (REE). For this you need to go in your GEMS project select the SysEq system you want to export and go to Data->Export GEMS3K files and tick FUN-json option. From the resulted files we need the one finishing with -fun.json"
   ]
  },
  {
   "cell_type": "code",
   "execution_count": null,
   "id": "76b3eaba",
   "metadata": {},
   "outputs": [],
   "source": [
    "# initalize a database using a local file HREE-P-OH_3K-fun.json\n",
    "REE = fun.Database('gemsfiles/HREE-P-OH_3K-fun.json')"
   ]
  },
  {
   "cell_type": "code",
   "execution_count": null,
   "id": "791dd85f-f4ce-485c-b14e-e26b6c618d5a",
   "metadata": {},
   "outputs": [],
   "source": [
    "# print available substances \n",
    "print(REE.mapSubstances().keys())"
   ]
  },
  {
   "cell_type": "code",
   "execution_count": null,
   "id": "e77ab176-2215-4982-ba1a-8e3967152f03",
   "metadata": {},
   "outputs": [],
   "source": [
    "# print avaialble reactions\n",
    "print(REE.mapReactions().keys())"
   ]
  },
  {
   "cell_type": "markdown",
   "id": "1dcfb3ac-0bb4-4fcf-8f14-d543fedb23fd",
   "metadata": {},
   "source": [
    "### Add your own data file\n",
    "Adjust the gibbs_energy of Er+3 based on the fit result, add it as a record to mydata-thermofun.json with a new symbol Er+3_fit"
   ]
  },
  {
   "cell_type": "code",
   "execution_count": null,
   "id": "8de3dfd7-0a72-45c5-b9af-dc88a4060635",
   "metadata": {},
   "outputs": [],
   "source": [
    "REE.appendData('myREEdata-thermofun.json')\n",
    "#batch = fun.ThermoBatch(REE)"
   ]
  },
  {
   "cell_type": "markdown",
   "id": "442e1909-37ef-4ec2-81b6-6b63c0c94379",
   "metadata": {},
   "source": [
    "### Initialize a Batch class object\n",
    "This object ca be used to do batch calculations for a list of substances or reactions, T-P points, and properties"
   ]
  },
  {
   "cell_type": "code",
   "execution_count": null,
   "id": "6f598d2c-80ee-4531-8437-7bd7a5b92112",
   "metadata": {},
   "outputs": [],
   "source": [
    "batch = fun.ThermoBatch(REE)"
   ]
  },
  {
   "cell_type": "markdown",
   "id": "b3b88241-2ec9-408d-992d-619c878063cc",
   "metadata": {},
   "source": [
    "### inspect avialable batch functions. \n",
    "print(fun.availablePropertiesReaction())"
   ]
  },
  {
   "cell_type": "code",
   "execution_count": null,
   "id": "f377e4b0-7107-491e-9792-d0aec23dd188",
   "metadata": {},
   "outputs": [],
   "source": [
    "print(fun.availablePropertiesSubstance())\n",
    "print(fun.availablePropertiesReaction())"
   ]
  },
  {
   "cell_type": "markdown",
   "id": "05363601-2623-40a6-b400-e9c7c3fa6e0b",
   "metadata": {},
   "source": [
    "Set units to C and bar, setPropertiesUnits([\"temperature\", \"pressure\"],[\"degC\",\"bar\"])"
   ]
  },
  {
   "cell_type": "code",
   "execution_count": null,
   "id": "3d2c8111-6fec-431d-ae45-0bc3e3261857",
   "metadata": {},
   "outputs": [],
   "source": [
    "batch.setPropertiesUnits([\"temperature\", \"pressure\"],[\"degC\",\"bar\"])\n",
    "batch.setPropertiesDigits([\"heat_capacity_cp\",\"entropy\", \"temperature\", \"pressure\"], [4, 4, 0, 2])"
   ]
  },
  {
   "cell_type": "markdown",
   "id": "f4291854-8e1b-4f47-a6ce-a1b4f751929c",
   "metadata": {},
   "source": [
    "### set temperature and pressure increments"
   ]
  },
  {
   "cell_type": "code",
   "execution_count": null,
   "id": "1a5ee7e9-845d-4e8d-aa98-8c32ee6d0cb7",
   "metadata": {},
   "outputs": [],
   "source": [
    "batch.setPressureIncrement(0,0,0)\n",
    "batch.setTemperatureIncrement(0,250, 5)"
   ]
  },
  {
   "cell_type": "markdown",
   "id": "e97831c5-2ff9-44a9-8f09-c4fe197f493c",
   "metadata": {},
   "source": [
    "### Calculate properties and plot\n",
    "\"Er+3\", \"Sm+3\", \"Eu+3\"\n",
    "\"heat_capacity_cp\",\"entropy\""
   ]
  },
  {
   "cell_type": "code",
   "execution_count": null,
   "id": "43bc57f2-f336-4845-a46a-d1d119be6a6a",
   "metadata": {},
   "outputs": [],
   "source": [
    "substances = [\"Er+3\", \"Sm+3\", \"Eu+3\"]\n",
    "properties = [\"heat_capacity_cp\",\"entropy\", \"volume\"]\n",
    "batch.thermoPropertiesSubstance(substances, properties).toCSV('results_substances.csv')"
   ]
  },
  {
   "cell_type": "markdown",
   "id": "3e109076-9564-40c0-8ae5-703c4970538f",
   "metadata": {},
   "source": [
    "### inspect the results file and plot the results"
   ]
  },
  {
   "cell_type": "code",
   "execution_count": null,
   "id": "ff5ecb2c-5cb8-4b1c-9a0f-0bb1e236922f",
   "metadata": {},
   "outputs": [],
   "source": [
    "from common.functions import plot_substances_properties_vs_temperature\n",
    "figure = plot_substances_properties_vs_temperature('results_substances.csv', substances, 0)"
   ]
  },
  {
   "cell_type": "markdown",
   "id": "d29f4c06-d6e6-4337-a550-ad4614cdb5a1",
   "metadata": {},
   "source": [
    "### Properties of reaction equation "
   ]
  },
  {
   "cell_type": "code",
   "execution_count": null,
   "id": "206f062e-f6e6-4aa2-ba64-2acd77f6b956",
   "metadata": {},
   "outputs": [],
   "source": [
    "engine = fun.ThermoEngine(REE)\n",
    "reaction_properties = engine.thermoPropertiesReaction(348.15, 1e5, \"ErPO4 = Er+3 + PO4-3\")\n",
    "logK = reaction_properties.log_equilibrium_constant\n",
    "print(f'logK (ErPO4 = Er+3 + PO4-3) is {logK.val}')"
   ]
  },
  {
   "cell_type": "markdown",
   "id": "ce1de865-6932-4cea-9a79-56e078e6e0e8",
   "metadata": {},
   "source": [
    "### Batch calculation for multiple reactions"
   ]
  },
  {
   "cell_type": "code",
   "execution_count": null,
   "id": "a10f007f-2523-4586-a031-9ff37dd70932",
   "metadata": {},
   "outputs": [],
   "source": [
    "batch.setPropertiesDigits([\"logKr\"], [4])\n",
    "reactions = [\"YPO4 = Y+3 + PO4-3\", \"SmPO4 = Sm+3 + PO4-3\", \"EuPO4 = Eu+3 + PO4-3\", \"rhabdophane-(Sm)\"]\n",
    "batch.thermoPropertiesReaction(reactions, [\"logKr\"]).toCSV(\"results_reactions.csv\")"
   ]
  },
  {
   "cell_type": "code",
   "execution_count": null,
   "id": "a6995a7f-9729-4b43-ad60-bacc44674c4d",
   "metadata": {},
   "outputs": [],
   "source": [
    "from common.functions import plot_properties_vs_temperature\n",
    "plt = plot_properties_vs_temperature('results_reactions.csv', reactions, 0)\n",
    "plt.gca().invert_xaxis()\n",
    "plt.show()"
   ]
  },
  {
   "cell_type": "markdown",
   "id": "9f5072b2-fcec-4037-b458-75d17defc7c1",
   "metadata": {},
   "source": [
    "### compare with experiments \n",
    "\n",
    "logKsp of ErPO4 = Er+3 + PO4-3\n",
    "\n",
    "<img style=\"float: center; height: 70%; width: 30%;\" src=\"Xtm-Er-logKsp.png\"> "
   ]
  },
  {
   "cell_type": "code",
   "execution_count": null,
   "id": "575a87ce-2e74-4b58-b402-2e29d63eca57",
   "metadata": {},
   "outputs": [],
   "source": [
    "reactions = [\"ErPO4 = Er+3 + PO4-3\"]\n",
    "batch.thermoPropertiesReaction(reactions, [\"logKr\"]).toCSV(\"results_reactions.csv\")"
   ]
  },
  {
   "cell_type": "code",
   "execution_count": null,
   "id": "28d163fd-6c42-486f-9a35-438ef62b0250",
   "metadata": {},
   "outputs": [],
   "source": [
    "import pandas as pd\n",
    "df = pd.read_csv('loKsp_Er.csv')\n",
    "\n",
    "plt = plot_properties_vs_temperature('results_reactions.csv', reactions, 0)\n",
    "\n",
    "# Extract X and Y data\n",
    "x_data = df['TC']\n",
    "y_data = df['logKsp']\n",
    "\n",
    "# Create the plot\n",
    "plt.plot(x_data, y_data, 'X', color='r', markersize=15, markeredgecolor=\"w\")\n",
    "plt.gca().invert_xaxis()\n",
    "plt.show()"
   ]
  },
  {
   "cell_type": "markdown",
   "id": "995b2c06-dfba-4b0c-989a-fe597f123d97",
   "metadata": {},
   "source": [
    "### compare with the fit results \"ErPO4 = Er+3_fit + PO4-3\""
   ]
  },
  {
   "cell_type": "code",
   "execution_count": null,
   "id": "8a8c58a3-9c1e-4fb2-9399-60f12839c3a3",
   "metadata": {},
   "outputs": [],
   "source": [
    "reactions = [\"ErPO4 = Er+3 + PO4-3\", \"ErPO4 = Er+3_fit + PO4-3\"]\n",
    "batch.thermoPropertiesReaction(reactions, [\"logKr\"]).toCSV(\"results_reactions.csv\")"
   ]
  },
  {
   "cell_type": "code",
   "execution_count": null,
   "id": "f824a7e3-0dde-4cd5-a6ca-62d178a93eb5",
   "metadata": {},
   "outputs": [],
   "source": [
    "import pandas as pd\n",
    "df = pd.read_csv('loKsp_Er.csv')\n",
    "\n",
    "plt = plot_properties_vs_temperature('results_reactions.csv', reactions, 0)\n",
    "\n",
    "# Extract X and Y data\n",
    "x_data = df['TC']\n",
    "y_data = df['logKsp']\n",
    "\n",
    "# Create the plot\n",
    "plt.plot(x_data, y_data, 'X', color='r', markersize=15, markeredgecolor=\"w\")\n",
    "plt.gca().invert_xaxis()\n",
    "plt.show()"
   ]
  },
  {
   "cell_type": "code",
   "execution_count": null,
   "id": "c7c0b6ef-8da1-4f68-add3-db1188611f69",
   "metadata": {},
   "outputs": [],
   "source": []
  }
 ],
 "metadata": {
  "kernelspec": {
   "display_name": "Python 3 (ipykernel)",
   "language": "python",
   "name": "python3"
  },
  "language_info": {
   "codemirror_mode": {
    "name": "ipython",
    "version": 3
   },
   "file_extension": ".py",
   "mimetype": "text/x-python",
   "name": "python",
   "nbconvert_exporter": "python",
   "pygments_lexer": "ipython3",
   "version": "3.10.12"
  },
  "toc": {
   "base_numbering": 1,
   "nav_menu": {},
   "number_sections": false,
   "sideBar": false,
   "skip_h1_title": false,
   "title_cell": "Table of Contents",
   "title_sidebar": "Contents",
   "toc_cell": false,
   "toc_position": {},
   "toc_section_display": false,
   "toc_window_display": false
  }
 },
 "nbformat": 4,
 "nbformat_minor": 5
}
