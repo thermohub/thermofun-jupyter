{
 "cells": [
  {
   "cell_type": "markdown",
   "metadata": {},
   "source": [
    "![ThermoFun logo](../common/fun_long_logo-01.png)\n",
    "\n",
    "**ThermoFun** is an open-source client that delivers thermodynamic properties of substances and reactions at the temperature and pressure of interest."
   ]
  },
  {
   "cell_type": "markdown",
   "metadata": {},
   "source": [
    "### Example for calculation the water density and dielectric constant"
   ]
  },
  {
   "cell_type": "code",
   "execution_count": null,
   "metadata": {},
   "outputs": [],
   "source": [
    "import thermofun as fun\n",
    "import numpy as np\n",
    "import matplotlib.pyplot as plt\n",
    "\n",
    "database = fun.Database('../databases/slop98-inorganic-thermofun.json') # load database containing data necessary to calculate properties \n",
    "database.appendData('water-thermofun.json')\n",
    "engine = fun.ThermoEngine(database) # create an engine to have access to the functions for calculating properties"
   ]
  },
  {
   "cell_type": "code",
   "execution_count": null,
   "metadata": {},
   "outputs": [],
   "source": [
    "engine.propertiesSolvent(400+273.15, 300e05, 'H2O@')"
   ]
  },
  {
   "cell_type": "code",
   "execution_count": null,
   "metadata": {},
   "outputs": [],
   "source": [
    "rho_solvent = engine.propertiesSolvent(400+273.15, 300e05, 'H2O@')\n",
    "e_solvent = engine.electroPropertiesSolvent(400+273.15, 300e05, 'H2O@')"
   ]
  },
  {
   "cell_type": "code",
   "execution_count": null,
   "metadata": {},
   "outputs": [],
   "source": [
    "rho_solvent.density.val"
   ]
  },
  {
   "cell_type": "code",
   "execution_count": null,
   "metadata": {},
   "outputs": [],
   "source": [
    "e_solvent.epsilon.val"
   ]
  },
  {
   "cell_type": "code",
   "execution_count": null,
   "metadata": {},
   "outputs": [],
   "source": [
    "# functions to loop through P-T list and calculate water properties\n",
    "\n",
    "# example for using two available database records, \n",
    "# one where the state of water is gas (H2Og ) is used to calculate the properties in the gas field  \"aggregate_state\": { \"0\": \"AS_GAS\" }\n",
    "# and another where the state of water is aqueous (H2O@ ) is used to calculate the properties in the gas field  \"aggregate_state\": { \"4\": \"AS_AQUEOUS\" }\n",
    "def water_density(T, P):\n",
    "    try:\n",
    "        if (T<647.067e0 ): # below crtical point check for liquid or vapor region\n",
    "            p = engine.propertiesSolvent(T, 0, 'H2Og').pressure.val\n",
    "            if (P<p and P>0): # in the vapor region\n",
    "                #print (f\"pcalc {p} pgiven {P}\")\n",
    "                return engine.propertiesSolvent(T, P, 'H2Og').density.val\n",
    "        return engine.propertiesSolvent(T, P, 'H2O@').density.val\n",
    "    except Exception as e:\n",
    "        #print(f\"Error calculating density for T={T}, P={P}: {e}\")\n",
    "        return 1000\n",
    "\n",
    "def water_pressure(T, P):\n",
    "    try:\n",
    "        return engine.propertiesSolvent(T, P, 'H2O@').pressure.val\n",
    "    except Exception as e:\n",
    "        #print(f\"Error calculating density for T={T}, P={P}: {e}\")\n",
    "        return 0\n",
    "\n",
    "\n",
    "def water_epsilon(T, P):\n",
    "    try:\n",
    "        if (T<647.067e0 ): # below crtical point check for liquid or vapor region\n",
    "            p = engine.propertiesSolvent(T, 0, 'H2Og').pressure.val\n",
    "            if (P<p and P>0): # in the vapor region\n",
    "                #print (f\"pcalc {p} pgiven {P}\")\n",
    "                return engine.electroPropertiesSolvent(T, P, 'H2Og').epsilon.val\n",
    "        return engine.electroPropertiesSolvent(T, P, 'H2O@').epsilon.val\n",
    "    except Exception as e:\n",
    "        #print(f\"Error calculating dielectric constant for T={T}, P={P}: {e}\")\n",
    "        return 100\n",
    "\n",
    "# example for giving state of water explicitly as last function argument 0-liquid, 1-gas/vapor\n",
    "# is sufficient to only use H2O@ record from the database\n",
    "def water_density2(T, P):\n",
    "    try:\n",
    "        if (T<647.067e0 ): # below crtical point check for liquid or vapor region\n",
    "            p = engine.propertiesSolvent(T, 0, 'H2O@').pressure.val\n",
    "            if (P<p and P>0): # in the vapor region\n",
    "                #print (f\"pcalc {p} pgiven {P}\")\n",
    "                return engine.propertiesSolvent(T, P, 'H2O@', 1).density.val\n",
    "        return engine.propertiesSolvent(T, P, 'H2O@', 0).density.val\n",
    "    except Exception as e:\n",
    "        #print(f\"Error calculating density for T={T}, P={P}: {e}\")\n",
    "        return 1000\n",
    "\n",
    "\n",
    "\n",
    "\n",
    "# give state as last function argument 0-liquid, 1-gas/vapor\n",
    "def water_epsilon2(T, P):\n",
    "    try:\n",
    "        if (T<647.067e0 ): # below crtical point check for liquid or vapor region\n",
    "            p = engine.propertiesSolvent(T, 0, 'H2O@').pressure.val\n",
    "            if (P<p and P>0): # in the vapor region\n",
    "                #print (f\"pcalc {p} pgiven {P}\")\n",
    "                return engine.electroPropertiesSolvent(T, P, 'H2O@', 1).epsilon.val\n",
    "        return engine.electroPropertiesSolvent(T, P, 'H2O@', 0).epsilon.val\n",
    "    except Exception as e:\n",
    "        #print(f\"Error calculating dielectric constant for T={T}, P={P}: {e}\")\n",
    "        return 100\n",
    "\n"
   ]
  },
  {
   "cell_type": "code",
   "execution_count": null,
   "metadata": {},
   "outputs": [],
   "source": [
    "# Define the temperature and pressure intervals\n",
    "T_min, T_max, T_steps = 0, 600, 200  # Example: from 0 to 100 degrees Celsius\n",
    "P_min, P_max, P_steps = 1, 500, 100  # Example: from 1 to 100 bars\n",
    "\n",
    "# Generate temperature and pressure ranges\n",
    "T_values = np.linspace(T_min, T_max, T_steps)\n",
    "P_values = np.linspace(P_min, P_max, P_steps)\n",
    "\n",
    "# Create a 2D array to store density values\n",
    "density_values = np.zeros((P_steps, T_steps))\n",
    "\n",
    "# Calculate the density for each T and P\n",
    "for i, T in enumerate(T_values):\n",
    "    for j, P in enumerate(P_values):\n",
    "        d = water_density2(T+273.15, P*1e5)\n",
    "        #if P == 0.0 :\n",
    "        #    P_values[j]=water_pressure(T+273.15, P*1e5)/1e5\n",
    "        if (d == 0):\n",
    "            print(f\"zero density for T={T-273.15}, P={P/1e5}\")\n",
    "        density_values[j, i] = d\n",
    "\n",
    "# Create the plot\n",
    "plt.figure(figsize=(10, 8))\n",
    "T_mesh, P_mesh = np.meshgrid(T_values, P_values)\n",
    "contour = plt.contourf(T_mesh, P_mesh, density_values, 1000, cmap='viridis')\n",
    "\n",
    "plt.colorbar(contour)\n",
    "plt.title('Water Density as a Function of Temperature and Pressure')\n",
    "plt.xlabel('Temperature (C)')\n",
    "plt.ylabel('Pressure (bar)')\n",
    "\n",
    "plt.show()\n"
   ]
  },
  {
   "cell_type": "code",
   "execution_count": null,
   "metadata": {},
   "outputs": [],
   "source": [
    "if np.any(P_values == 0):\n",
    "    print(\"The matrix contains zero.\")\n",
    "else:\n",
    "    print(\"The matrix does not contain zero.\")"
   ]
  },
  {
   "cell_type": "code",
   "execution_count": null,
   "metadata": {},
   "outputs": [],
   "source": [
    "\n",
    "if np.any(density_values == 0):\n",
    "    print(\"The matrix contains zero.\")\n",
    "else:\n",
    "    print(\"The matrix does not contain zero.\")"
   ]
  },
  {
   "cell_type": "code",
   "execution_count": null,
   "metadata": {},
   "outputs": [],
   "source": [
    "# Create a 2D array to store density values\n",
    "epsilon_values = np.zeros((P_steps, T_steps))\n",
    "\n",
    "# Calculate the density for each T and P\n",
    "for i, T in enumerate(T_values):\n",
    "    for j, P in enumerate(P_values):\n",
    "        epsilon_values[j, i] = water_epsilon2(T+273.15, P*1e5)\n",
    "\n",
    "# Create the plot\n",
    "plt.figure(figsize=(10, 8))\n",
    "T_mesh, P_mesh = np.meshgrid(T_values, P_values)\n",
    "contour = plt.contourf(T_mesh, P_mesh, epsilon_values,100, cmap='viridis')\n",
    "\n",
    "plt.colorbar(contour)\n",
    "plt.title('Water Dielectric constant as a Function of Temperature and Pressure')\n",
    "plt.xlabel('Temperature (C)')\n",
    "plt.ylabel('Pressure (bar)')\n",
    "\n",
    "plt.show()"
   ]
  },
  {
   "cell_type": "code",
   "execution_count": null,
   "metadata": {},
   "outputs": [],
   "source": [
    "# Create lists to store the data\n",
    "T_list = []\n",
    "P_list = []\n",
    "density_list = []\n",
    "\n",
    "# Calculate the density for each T and P\n",
    "for T in T_values:\n",
    "    for P in P_values:\n",
    "        density = water_density(T+273.15, P*1e5)\n",
    "        T_list.append(T)\n",
    "        P_list.append(P)\n",
    "        density_list.append(density)\n",
    "\n",
    "# Convert lists to numpy arrays\n",
    "T_array = np.array(T_list)\n",
    "P_array = np.array(P_list)\n",
    "density_array = np.array(density_list)\n",
    "\n",
    "# Create a 3D plot\n",
    "fig = plt.figure(figsize=(10, 8))\n",
    "ax = fig.add_subplot(111, projection='3d')\n",
    "\n",
    "# Plot the data\n",
    "sc = ax.scatter(T_array,  P_array, density_array, c=density_array, cmap='viridis')\n",
    "\n",
    "# Add color bar\n",
    "cbar = plt.colorbar(sc)\n",
    "cbar.set_label('Density')\n",
    "\n",
    "# Set labels\n",
    "ax.set_xlabel('Temperature (°C)')\n",
    "ax.set_zlabel('Density')\n",
    "ax.set_ylabel('Pressure (bar)')\n",
    "ax.set_title('Water Density as a Function of Temperature and Pressure')\n",
    "\n",
    "plt.show()"
   ]
  },
  {
   "cell_type": "code",
   "execution_count": null,
   "metadata": {},
   "outputs": [],
   "source": [
    "# Create lists to store the data\n",
    "T_list = []\n",
    "P_list = []\n",
    "epsilon_list = []\n",
    "\n",
    "# Calculate the density for each T and P\n",
    "for T in T_values:\n",
    "    for P in P_values:\n",
    "        epsilon = water_epsilon(T+273.15, P*1e5)\n",
    "        T_list.append(T)\n",
    "        P_list.append(P)\n",
    "        epsilon_list.append(epsilon)\n",
    "\n",
    "# Convert lists to numpy arrays\n",
    "T_array = np.array(T_list)\n",
    "P_array = np.array(P_list)\n",
    "epsilon_array = np.array(epsilon_list)\n",
    "\n",
    "# Create a 3D plot\n",
    "fig = plt.figure(figsize=(10, 8))\n",
    "ax = fig.add_subplot(111, projection='3d')\n",
    "\n",
    "# Plot the data\n",
    "sc = ax.scatter(T_array,  P_array, epsilon_array, c=epsilon_array, cmap='viridis')\n",
    "\n",
    "# Add color bar\n",
    "cbar = plt.colorbar(sc)\n",
    "cbar.set_label('Epsilon')\n",
    "\n",
    "# Set labels\n",
    "ax.set_xlabel('Temperature (°C)')\n",
    "ax.set_zlabel('Epsilon')\n",
    "ax.set_ylabel('Pressure (bar)')\n",
    "ax.set_title('Water Dielectric constant as a Function of Temperature and Pressure')\n",
    "\n",
    "plt.show()"
   ]
  },
  {
   "cell_type": "code",
   "execution_count": null,
   "metadata": {},
   "outputs": [],
   "source": [
    "# use a different EoS for Water\n",
    "# \"32\": \"water_eos_iapws95_reaktoro\" Wagner and Pruss EoS\n",
    "print(engine.propertiesSolvent(400+273.15, 300e05, 'H2O@reak').density.val)\n",
    "print(engine.electroPropertiesSolvent(400+273.15, 300e05, 'H2O@reak').epsilon.val)"
   ]
  },
  {
   "cell_type": "code",
   "execution_count": null,
   "metadata": {},
   "outputs": [],
   "source": []
  }
 ],
 "metadata": {
  "kernelspec": {
   "display_name": "Python 3 (ipykernel)",
   "language": "python",
   "name": "python3"
  },
  "language_info": {
   "codemirror_mode": {
    "name": "ipython",
    "version": 3
   },
   "file_extension": ".py",
   "mimetype": "text/x-python",
   "name": "python",
   "nbconvert_exporter": "python",
   "pygments_lexer": "ipython3",
   "version": "3.10.12"
  },
  "toc": {
   "base_numbering": 1,
   "nav_menu": {},
   "number_sections": false,
   "sideBar": false,
   "skip_h1_title": false,
   "title_cell": "Table of Contents",
   "title_sidebar": "Contents",
   "toc_cell": false,
   "toc_position": {},
   "toc_section_display": false,
   "toc_window_display": false
  }
 },
 "nbformat": 4,
 "nbformat_minor": 4
}
