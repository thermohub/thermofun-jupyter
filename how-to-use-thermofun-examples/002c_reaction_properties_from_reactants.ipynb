{
 "cells": [
  {
   "cell_type": "code",
   "execution_count": null,
   "id": "04789dd4-dc58-4c3f-b777-4a0ce4a5e24b",
   "metadata": {},
   "outputs": [],
   "source": [
    "import thermofun as fun"
   ]
  },
  {
   "cell_type": "code",
   "execution_count": null,
   "id": "dc904a69-8243-4ec6-881f-f6418df93e4c",
   "metadata": {},
   "outputs": [],
   "source": [
    "db_sial = fun.Database('../databases/Al-Si-thereda-fun.json')"
   ]
  },
  {
   "cell_type": "code",
   "execution_count": null,
   "id": "ccf2aa4d-d9b4-45e1-90f6-6c0359abcaf1",
   "metadata": {},
   "outputs": [],
   "source": [
    "engine = fun.ThermoEngine(db_sial)"
   ]
  },
  {
   "cell_type": "markdown",
   "id": "71c92c90-ffe4-4e51-8ba5-fd04253e3ff4",
   "metadata": {},
   "source": [
    "The calcite dissolution reaction is explicitly present as a record in the database can can be called by its symbol `Ca(CO3)_C(cr)´"
   ]
  },
  {
   "cell_type": "code",
   "execution_count": null,
   "id": "50207416-a327-416d-bf9f-3a91efc72d77",
   "metadata": {},
   "outputs": [],
   "source": [
    "calcite = engine.thermoPropertiesReaction(348.15, 1e5, \"Ca(CO3)_C(cr)\")"
   ]
  },
  {
   "cell_type": "code",
   "execution_count": null,
   "id": "da4912e3-9dbe-4be9-ab9b-d07c7cf2db7d",
   "metadata": {},
   "outputs": [],
   "source": [
    "calcite.log_equilibrium_constant.val"
   ]
  },
  {
   "cell_type": "code",
   "execution_count": null,
   "id": "7f2693fe-42ff-4efd-84e7-8d9e33221f3a",
   "metadata": {},
   "outputs": [],
   "source": [
    "calcite.reaction_gibbs_energy.val"
   ]
  },
  {
   "cell_type": "code",
   "execution_count": null,
   "id": "4930d945-7edb-4be7-a38b-e0b9a862ab19",
   "metadata": {},
   "outputs": [],
   "source": [
    "calcite.reaction_entropy.val"
   ]
  },
  {
   "cell_type": "code",
   "execution_count": null,
   "id": "952a9561-278f-44f2-a586-8cfbaea0634d",
   "metadata": {},
   "outputs": [],
   "source": [
    "calcite.reaction_gibbs_energy.ddt"
   ]
  },
  {
   "cell_type": "markdown",
   "id": "b1a63959-d980-4b8d-8550-0e8312ca0034",
   "metadata": {},
   "source": [
    "Properties of any reaction equation wirting in text instead of an existing record symbol will be calculated by ThermoFun propvided that the reactants with the given symbols exist in the database. "
   ]
  },
  {
   "cell_type": "code",
   "execution_count": null,
   "id": "59898ea3-c674-43b7-a4e9-00724ba6ef75",
   "metadata": {},
   "outputs": [],
   "source": [
    "# from reaction equation\n",
    "calcite2 = engine.thermoPropertiesReaction(298.15, 1e5, \"Ca(CO3)_C(cr) = Ca<2+> + CO3<2->\")"
   ]
  },
  {
   "cell_type": "code",
   "execution_count": null,
   "id": "4f966414-8255-4b9a-9cec-f3b7ee71ea6e",
   "metadata": {},
   "outputs": [],
   "source": [
    "# from database record\n",
    "calcite = engine.thermoPropertiesReaction(298.15, 1e5, \"Ca(CO3)_C(cr)\")"
   ]
  },
  {
   "cell_type": "code",
   "execution_count": null,
   "id": "b866cd5f-a7c9-4899-86ef-e13da16bcc6c",
   "metadata": {},
   "outputs": [],
   "source": [
    "calcite.log_equilibrium_constant.val"
   ]
  },
  {
   "cell_type": "code",
   "execution_count": null,
   "id": "37ae642c-e705-474d-abde-727da9e6520f",
   "metadata": {},
   "outputs": [],
   "source": [
    "calcite2.log_equilibrium_constant.val"
   ]
  },
  {
   "cell_type": "code",
   "execution_count": null,
   "id": "780fb06d-87d3-42bf-a33e-ed9c3cff5161",
   "metadata": {},
   "outputs": [],
   "source": [
    "# from reaction equation\n",
    "gibbsite = engine.thermoPropertiesReaction(398.15, 1e5, \"Al(OH)3(cr) + H2O(l) = Al(OH)4<-> + H<+>\")"
   ]
  },
  {
   "cell_type": "code",
   "execution_count": null,
   "id": "b877dc3e-feb8-4d02-af07-a41726129024",
   "metadata": {},
   "outputs": [],
   "source": [
    "a = gibbsite.log_equilibrium_constant.val\n",
    "print(a)"
   ]
  },
  {
   "cell_type": "code",
   "execution_count": null,
   "id": "6e372c74-00b0-4f29-a442-c7d0abc8cbab",
   "metadata": {},
   "outputs": [],
   "source": [
    "# from reaction equation (this reaction in not explicitly present in the database)\n",
    "b = engine.thermoPropertiesReaction(398.15, 1e5, \"Al(OH)3(cr) + 3H<+> = Al<3+> + 3H2O(l)\").log_equilibrium_constant.val"
   ]
  },
  {
   "cell_type": "code",
   "execution_count": null,
   "id": "07073087-3fdc-4b9c-ad3e-786254fed87a",
   "metadata": {},
   "outputs": [],
   "source": [
    "# from reaction equation (this reaction in not explicitly present in the database)\n",
    "c = engine.thermoPropertiesReaction(398.15, 1e5, \"Al(OH)4<-> + 4H<+> = Al<3+> + 4H2O(l)\").log_equilibrium_constant.val"
   ]
  },
  {
   "cell_type": "code",
   "execution_count": null,
   "id": "24ba6550-77a9-459c-8a7c-1bffa16ea7c0",
   "metadata": {},
   "outputs": [],
   "source": [
    "b-c"
   ]
  },
  {
   "cell_type": "code",
   "execution_count": null,
   "id": "2b040d99-ae7d-4a9f-9f28-afcce22e8a32",
   "metadata": {},
   "outputs": [],
   "source": []
  }
 ],
 "metadata": {
  "kernelspec": {
   "display_name": "Python 3 (ipykernel)",
   "language": "python",
   "name": "python3"
  },
  "language_info": {
   "codemirror_mode": {
    "name": "ipython",
    "version": 3
   },
   "file_extension": ".py",
   "mimetype": "text/x-python",
   "name": "python",
   "nbconvert_exporter": "python",
   "pygments_lexer": "ipython3",
   "version": "3.10.12"
  }
 },
 "nbformat": 4,
 "nbformat_minor": 5
}
