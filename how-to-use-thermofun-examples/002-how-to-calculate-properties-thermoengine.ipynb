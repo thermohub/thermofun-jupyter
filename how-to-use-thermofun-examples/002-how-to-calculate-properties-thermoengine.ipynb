{
 "cells": [
  {
   "cell_type": "markdown",
   "metadata": {},
   "source": [
    "![ThermoFun logo](../common/fun_long_logo-01.png)\n",
    "\n",
    "**ThermoFun** is an open-source client that delivers thermodynamic properties of substances and reactions at the temperature and pressure of interest."
   ]
  },
  {
   "cell_type": "markdown",
   "metadata": {},
   "source": [
    "Import ThermoFun python package"
   ]
  },
  {
   "cell_type": "code",
   "execution_count": null,
   "metadata": {},
   "outputs": [],
   "source": [
    "import thermofun as fun"
   ]
  },
  {
   "cell_type": "markdown",
   "metadata": {},
   "source": [
    "Create a `ThermoEngine` object using a ThermoFun database file."
   ]
  },
  {
   "cell_type": "code",
   "execution_count": null,
   "metadata": {},
   "outputs": [],
   "source": [
    "database = fun.Database('databases/slop98-inorganic-thermofun.json')\n",
    "engine = fun.ThermoEngine(database)"
   ]
  },
  {
   "cell_type": "markdown",
   "metadata": {},
   "source": [
    "See [how_to_work_with_a_database](004-how-to-use-a-database.ipynb) notebook for details on the `Database` class."
   ]
  },
  {
   "cell_type": "markdown",
   "metadata": {},
   "source": [
    "The `engine` object provides direct access to the functions for calculating thermodynamic properties. **The input and output parameters are in SI units.**"
   ]
  },
  {
   "cell_type": "code",
   "execution_count": null,
   "metadata": {},
   "outputs": [],
   "source": [
    "T = 473\n",
    "P = 2000e5\n",
    "properties = engine.thermoPropertiesSubstance(T, P, \"Ca+2\")"
   ]
  },
  {
   "cell_type": "markdown",
   "metadata": {},
   "source": [
    "`properties` provides access to the calculated standard molar properties (e.g. gibbs_energy, enthalpy, entropy, heat_capacity_cp, volume). The available options can be displayed by writing `properties.` and pressing the Tab key. \n",
    "\n",
    "![image](../images/tab-properties-substance.png)"
   ]
  },
  {
   "cell_type": "code",
   "execution_count": null,
   "metadata": {},
   "outputs": [],
   "source": [
    "gibbs_energy = properties.gibbs_energy"
   ]
  },
  {
   "cell_type": "markdown",
   "metadata": {},
   "source": [
    "Each property is a complex variable that contains the calculated value `.val`, the derivative with temperature `.ddt`, the derivative with pressure `.ddp`, propagated error `.err` (provided the input parameters had error assigned to them). "
   ]
  },
  {
   "cell_type": "code",
   "execution_count": null,
   "metadata": {},
   "outputs": [],
   "source": [
    "gibbs_energy_value = gibbs_energy.val"
   ]
  },
  {
   "cell_type": "code",
   "execution_count": null,
   "metadata": {},
   "outputs": [],
   "source": [
    "print(gibbs_energy_value)"
   ]
  },
  {
   "cell_type": "code",
   "execution_count": null,
   "metadata": {},
   "outputs": [],
   "source": [
    "f'Entropy {properties.entropy.val} is -dG/dT = -{gibbs_energy.ddt}'"
   ]
  },
  {
   "cell_type": "markdown",
   "metadata": {},
   "source": [
    "To calculate properties of a reaction one can use a reaction that was defined in the database file or simply call the calculation function using a reaction equation.\n",
    "\n",
    "> **Warning:** For the reaction equation you have to use the reactant symbols and not their formulas, as they are in the in the database!\n",
    "```python\n",
    "substances = database.mapSubstances()\n",
    "print(substances.keys())\n",
    "```"
   ]
  },
  {
   "cell_type": "code",
   "execution_count": null,
   "metadata": {},
   "outputs": [],
   "source": [
    "logK = engine.thermoPropertiesReaction(298.15, 1e5, \"Cal = Ca+2 + CO3-2\").log_equilibrium_constant.val\n",
    "f'logK (Cal = Ca+2 + CO3-2) is {logK}'"
   ]
  },
  {
   "cell_type": "markdown",
   "metadata": {},
   "source": [
    "The user is free to write any automatic script to call `engine` for doing calculations for different substances, reactions, at different temperatures and pressures. ThermoFun provides a built-in class for doing multiple calculations in just a few lines. `ThermoBatch` [how_to_do_batch_calculations](003-how-to-do-batch-calculations.ipynb)"
   ]
  },
  {
   "cell_type": "code",
   "execution_count": null,
   "metadata": {},
   "outputs": [],
   "source": []
  }
 ],
 "metadata": {
  "kernelspec": {
   "display_name": "Python 3 (ipykernel)",
   "language": "python",
   "name": "python3"
  },
  "language_info": {
   "codemirror_mode": {
    "name": "ipython",
    "version": 3
   },
   "file_extension": ".py",
   "mimetype": "text/x-python",
   "name": "python",
   "nbconvert_exporter": "python",
   "pygments_lexer": "ipython3",
   "version": "3.10.12"
  },
  "toc": {
   "base_numbering": 1,
   "nav_menu": {},
   "number_sections": false,
   "sideBar": false,
   "skip_h1_title": false,
   "title_cell": "Table of Contents",
   "title_sidebar": "Contents",
   "toc_cell": false,
   "toc_position": {},
   "toc_section_display": false,
   "toc_window_display": false
  }
 },
 "nbformat": 4,
 "nbformat_minor": 4
}
