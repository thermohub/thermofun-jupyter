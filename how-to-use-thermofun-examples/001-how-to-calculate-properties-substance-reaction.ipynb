{
 "cells": [
  {
   "cell_type": "markdown",
   "metadata": {},
   "source": [
    "![ThermoFun logo](../common/fun_long_logo-01.png)\n",
    "\n",
    "**ThermoFun** is an open-source client that delivers thermodynamic properties of substances and reactions at the temperature and pressure of interest."
   ]
  },
  {
   "cell_type": "markdown",
   "metadata": {},
   "source": [
    "### Example for substance"
   ]
  },
  {
   "cell_type": "code",
   "execution_count": null,
   "metadata": {},
   "outputs": [],
   "source": [
    "import thermofun as fun\n",
    "\n",
    "database = fun.Database('../databases/slop98-inorganic-thermofun.json') # load database containing data necessary to calculate properties \n",
    "engine = fun.ThermoEngine(database) # create an engine to have access to the functions for calculating properties"
   ]
  },
  {
   "cell_type": "code",
   "execution_count": null,
   "metadata": {},
   "outputs": [],
   "source": [
    "properties = engine.thermoPropertiesSubstance(473, 2000e5, \"Ca+2\") # engine class works only with SI units"
   ]
  },
  {
   "cell_type": "code",
   "execution_count": null,
   "metadata": {},
   "outputs": [],
   "source": [
    "G = properties.gibbs_energy\n",
    "A = properties.helmholtz_energy\n",
    "U = properties.internal_energy\n",
    "H = properties.enthalpy\n",
    "S = properties.entropy\n",
    "V = properties.volume # J/bar\n",
    "Cp= properties.heat_capacity_cp"
   ]
  },
  {
   "cell_type": "code",
   "execution_count": null,
   "metadata": {},
   "outputs": [],
   "source": [
    "print(f'gibbs_energy {G.val} J/mol')\n",
    "print(f'helmholtz_energy {A.val} J/mol')\n",
    "print(f'internal_energy {U.val} J/mol')\n",
    "print(f'enthalpy {H.val} J/mol')\n",
    "print(f'entropy {S.val} J/mol/K')\n",
    "print(f'volume {V.val} J/bar')\n",
    "print(f'heat_capacity_cp {Cp.val} J/mol/K')"
   ]
  },
  {
   "cell_type": "markdown",
   "metadata": {},
   "source": [
    "Each property is a complex variable that contains the calculated value `.val`, the derivative with temperature `.ddt`, the derivative with pressure `.ddp`, propagated error `.err` (provided the input parameters had error assigned to them). "
   ]
  },
  {
   "cell_type": "code",
   "execution_count": null,
   "metadata": {},
   "outputs": [],
   "source": [
    "f'Entropy {properties.entropy.val} is -dG/dT = -{properties.gibbs_energy.ddt}'"
   ]
  },
  {
   "cell_type": "markdown",
   "metadata": {},
   "source": [
    "### Example for reaction"
   ]
  },
  {
   "cell_type": "markdown",
   "metadata": {},
   "source": [
    "To calculate properties of a reaction one can use a reaction that was defined in the database file or simply call the calculation function using a reaction equation.\n",
    "\n",
    "> **Warning:** For the reaction equation you have to use the reactant symbols and not their formulas, as they are in the in the database!\n",
    "```python\n",
    "substances = database.mapSubstances()\n",
    "print(substances.keys())\n",
    "```"
   ]
  },
  {
   "cell_type": "code",
   "execution_count": null,
   "metadata": {},
   "outputs": [],
   "source": [
    "reaction_properties = engine.thermoPropertiesReaction(298.15, 1e5, \"Cal = Ca+2 + CO3-2\")\n",
    "logK = reaction_properties.log_equilibrium_constant\n",
    "f'logK (Cal = Ca+2 + CO3-2) is {logK.val}'"
   ]
  },
  {
   "cell_type": "code",
   "execution_count": null,
   "metadata": {},
   "outputs": [],
   "source": [
    "Sr = engine.thermoPropertiesReaction(348.15, 1e5, \"Cal = Ca+2 + CO3-2\").reaction_entropy\n",
    "Gr = engine.thermoPropertiesReaction(348.15, 1e5, \"Cal = Ca+2 + CO3-2\").reaction_gibbs_energy\n",
    "\n",
    "f' Entropy of reaction {Sr.val} is -dGr/dT = {-Gr.ddt}'"
   ]
  },
  {
   "cell_type": "code",
   "execution_count": null,
   "metadata": {},
   "outputs": [],
   "source": [
    "logK = reaction_properties.log_equilibrium_constant\n",
    "Gr = reaction_properties.reaction_gibbs_energy\n",
    "Ar = reaction_properties.reaction_helmholtz_energy\n",
    "Ur = reaction_properties.reaction_internal_energy\n",
    "Hr = reaction_properties.reaction_enthalpy\n",
    "Sr = reaction_properties.reaction_entropy\n",
    "Vr = reaction_properties.reaction_volume\n",
    "Cpr= reaction_properties.reaction_heat_capacity_cp"
   ]
  },
  {
   "cell_type": "code",
   "execution_count": null,
   "metadata": {},
   "outputs": [],
   "source": [
    "print(logK.val)\n",
    "print(Gr.val)\n",
    "print(Ar.val)\n",
    "print(Ur.val)\n",
    "print(Hr.val)\n",
    "print(Sr.val)\n",
    "print(Vr.val)\n",
    "print(Cpr.val)"
   ]
  },
  {
   "cell_type": "code",
   "execution_count": null,
   "metadata": {},
   "outputs": [],
   "source": []
  }
 ],
 "metadata": {
  "kernelspec": {
   "display_name": "Python 3 (ipykernel)",
   "language": "python",
   "name": "python3"
  },
  "language_info": {
   "codemirror_mode": {
    "name": "ipython",
    "version": 3
   },
   "file_extension": ".py",
   "mimetype": "text/x-python",
   "name": "python",
   "nbconvert_exporter": "python",
   "pygments_lexer": "ipython3",
   "version": "3.10.12"
  },
  "toc": {
   "base_numbering": 1,
   "nav_menu": {},
   "number_sections": false,
   "sideBar": false,
   "skip_h1_title": false,
   "title_cell": "Table of Contents",
   "title_sidebar": "Contents",
   "toc_cell": false,
   "toc_position": {},
   "toc_section_display": false,
   "toc_window_display": false
  }
 },
 "nbformat": 4,
 "nbformat_minor": 4
}
