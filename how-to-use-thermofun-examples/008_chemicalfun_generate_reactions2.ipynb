{
 "cells": [
  {
   "cell_type": "markdown",
   "id": "6811fe3a-c68d-42cc-bab6-57f715053f29",
   "metadata": {},
   "source": [
    "## ChemicalFun\n",
    "Generate reactions based on species and symbols provided in a excel spreadsheet"
   ]
  },
  {
   "cell_type": "code",
   "execution_count": null,
   "id": "df814dcb-5b8c-4b30-8319-1df354a2bc1c",
   "metadata": {},
   "outputs": [],
   "source": [
    "import chemicalfun as cf\n",
    "import pandas as pd"
   ]
  },
  {
   "cell_type": "code",
   "execution_count": null,
   "id": "d094ee30-85f0-4a2f-9119-c17aa3434d22",
   "metadata": {},
   "outputs": [],
   "source": [
    "# Read the Excel file\n",
    "df = pd.read_excel('substances_formulas_symbols.xlsx', sheet_name='solutions', engine='openpyxl')\n",
    "\n",
    "# Concatenate the data from columns 'master_formulas' and 'dependent_formulas' into a python list 'formulas'\n",
    "formulas = df['master_formulas'].tolist() + df['dependent_formulas'].tolist()\n",
    "\n",
    "# Concatenate the data from columns 'master_symbols' and 'dependent_symbols' into a python list 'symbols'\n",
    "symbols = df['master_symbols'].tolist() + df['dependent_symbols'].tolist()\n",
    "\n",
    "# Remove nan values from the lists\n",
    "formulas = [formula for formula in formulas if pd.notna(formula)]\n",
    "symbols = [symbol for symbol in symbols if pd.notna(symbol)]\n",
    "\n",
    "print(\"Formulas:\", formulas)\n",
    "print(\"Symbols:\", symbols)"
   ]
  },
  {
   "cell_type": "code",
   "execution_count": null,
   "id": "a7b5dc8d-fd1f-4b77-9977-030a81f58e6a",
   "metadata": {
    "scrolled": true
   },
   "outputs": [],
   "source": [
    "chemicalReactions = cf.ChemicalReactions(formulas, symbols)\n",
    "\n",
    "reactions = chemicalReactions.generateReactions() # returns the reactions list as a list of tuples ('substance', coefficient)\n",
    "\n",
    "# can be transformed to a list of dictionaries, with reaction substances as keys and the reaction coefficients as values\n",
    "reactions_dic = [{el[0]: el[1] for el in r} for r in reactions] \n",
    "\n",
    "print(chemicalReactions.printReactions())\n",
    "print(reactions_dic)"
   ]
  }
 ],
 "metadata": {
  "kernelspec": {
   "display_name": "Python 3 (ipykernel)",
   "language": "python",
   "name": "python3"
  },
  "language_info": {
   "codemirror_mode": {
    "name": "ipython",
    "version": 3
   },
   "file_extension": ".py",
   "mimetype": "text/x-python",
   "name": "python",
   "nbconvert_exporter": "python",
   "pygments_lexer": "ipython3",
   "version": "3.10.14"
  }
 },
 "nbformat": 4,
 "nbformat_minor": 5
}
