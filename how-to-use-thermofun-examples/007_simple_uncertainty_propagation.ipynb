{
 "cells": [
  {
   "cell_type": "markdown",
   "id": "6299e07c",
   "metadata": {},
   "source": [
    "<img src=\"../common/fun_long_logo-01.png\">"
   ]
  },
  {
   "cell_type": "markdown",
   "id": "a1c2b3b7-ea0f-4d56-87b8-24b8520d3fd4",
   "metadata": {},
   "source": [
    "# Tutorial on uncertainty propagation in ThermoFun.\n",
    "\n",
    "Operations in ThermoFun are overloaded with all error propagation equations, meaning that any assigned error in values and parameters will be automatically propagated into the final calculated property without the need for the user to explicitly calculate it.\n",
    "\n",
    "Miron et al., (2023). ThermoFun: A C++/Python library for computing standard thermodynamic properties of substances and reactions across wide ranges of temperatures and pressures. Journal of Open Source Software, 8(83), 4624\n",
    "\n",
    "[![DOI](https://joss.theoj.org/papers/10.21105/joss.04624/status.svg)](https://doi.org/10.21105/joss.04624)"
   ]
  },
  {
   "cell_type": "markdown",
   "id": "c8cdfd6f",
   "metadata": {},
   "source": [
    "### Import ThermoFun module\n",
    "ThermoFun delivers thermodynamic properties of substances and reactions at the temperature and pressure of interest."
   ]
  },
  {
   "cell_type": "code",
   "execution_count": null,
   "id": "151b0912",
   "metadata": {},
   "outputs": [],
   "source": [
    "import thermofun as fun"
   ]
  },
  {
   "cell_type": "markdown",
   "id": "49e7f131",
   "metadata": {},
   "source": [
    "### Initialize a ThermoFun database record - \n",
    "This database has uncertainties assingned to the G0, S0, and Cp0 values of Ca+2 and CO3-2 aqueous species."
   ]
  },
  {
   "cell_type": "code",
   "execution_count": null,
   "id": "76b3eaba",
   "metadata": {},
   "outputs": [],
   "source": [
    "# initalize using a local file\n",
    "aq17 = fun.Database('../databases/aq17-thermofune.json')"
   ]
  },
  {
   "cell_type": "markdown",
   "id": "c1d7eabc",
   "metadata": {},
   "source": [
    "### ThermoFun engine class object\n",
    "For calculating properties of substances or reactions, at T and P other than reference values, we need a ThermoFun engine class object. This is initialized using a database."
   ]
  },
  {
   "cell_type": "code",
   "execution_count": null,
   "id": "25a28b27",
   "metadata": {},
   "outputs": [],
   "source": [
    "engine = fun.ThermoEngine(aq17)"
   ]
  },
  {
   "cell_type": "markdown",
   "id": "da7a2f7c",
   "metadata": {},
   "source": [
    "### Calculate properties of Ca+2 and Calcite dissolution reaction (Calcite = Ca+2 + CO3-2). T = 298.15 K P = 1e5 Pa. \n",
    "ThermoFun engine uses SI units, so the values are for 50 C and 1 bar"
   ]
  },
  {
   "cell_type": "code",
   "execution_count": null,
   "id": "8e19b995",
   "metadata": {},
   "outputs": [],
   "source": [
    "subst_prop = engine.thermoPropertiesSubstance(298.15, 1e5, \"Ca+2\")"
   ]
  },
  {
   "cell_type": "markdown",
   "id": "ff76ed4d",
   "metadata": {},
   "source": [
    "### Extract the value\n",
    "The return type of the function is an object that contains the thermodynamic properties, val - values; err - error; ddt - derivative with T; ddp - derivative with P."
   ]
  },
  {
   "cell_type": "code",
   "execution_count": null,
   "id": "281cc594",
   "metadata": {},
   "outputs": [],
   "source": [
    "subst_prop.gibbs_energy.val"
   ]
  },
  {
   "cell_type": "code",
   "execution_count": null,
   "id": "bce9d8dc-431d-4302-9778-a48a2e116cff",
   "metadata": {},
   "outputs": [],
   "source": [
    "subst_prop.gibbs_energy.err"
   ]
  },
  {
   "cell_type": "code",
   "execution_count": null,
   "id": "3e912e07-1683-4393-ae75-20296afba6f5",
   "metadata": {},
   "outputs": [],
   "source": [
    "subst_prop.gibbs_energy.ddp"
   ]
  },
  {
   "cell_type": "code",
   "execution_count": null,
   "id": "f7950715-c4b7-4b8a-b56d-952c34372818",
   "metadata": {},
   "outputs": [],
   "source": [
    "subst_prop.entropy.val"
   ]
  },
  {
   "cell_type": "code",
   "execution_count": null,
   "id": "8e792c28-7e58-4d4e-890d-8be13ce1b1c7",
   "metadata": {},
   "outputs": [],
   "source": [
    "subst_prop.entropy.err"
   ]
  },
  {
   "cell_type": "code",
   "execution_count": null,
   "id": "477df8e7-ab40-4749-8911-521d7383ea7b",
   "metadata": {},
   "outputs": [],
   "source": [
    "subst_prop.gibbs_energy.ddt"
   ]
  },
  {
   "cell_type": "markdown",
   "id": "95d14c99",
   "metadata": {},
   "source": [
    "### Calcite dissolution reaction (Calcite = Ca+2 + CO3-2), logK. print(f'logK (Cal = Ca+2 + CO3-2) is {logK.val}')"
   ]
  },
  {
   "cell_type": "code",
   "execution_count": null,
   "id": "a5d2389f",
   "metadata": {},
   "outputs": [],
   "source": [
    "reaction_properties = engine.thermoPropertiesReaction(298.15, 0, \"Calcite = Ca+2 + CO3-2\")\n",
    "logK = reaction_properties.log_equilibrium_constant\n",
    "print(f'logK (Calcite = Ca+2 + CO3-2) is {logK.val}')"
   ]
  },
  {
   "cell_type": "markdown",
   "id": "b86b6f94-6683-4116-8eb7-00c7f28e6d8e",
   "metadata": {},
   "source": [
    "The error from the properties of reactants is propagated to the reaction properties."
   ]
  },
  {
   "cell_type": "code",
   "execution_count": null,
   "id": "960d4a79-d71d-4012-8828-2fcdf52e3f1a",
   "metadata": {},
   "outputs": [],
   "source": [
    "logK.err"
   ]
  },
  {
   "cell_type": "markdown",
   "id": "00712a0e",
   "metadata": {},
   "source": [
    "### Extract the reaction entropy and Gibbs energy. Check the derivative of Gibbs energy with temperature. print(f' Entropy of reaction {Sr.val} is -dGr/dT = {-Gr.ddt}')\n",
    "The derivatives are corectly calculated for most methods in ThermoFun, if there is a discrepancy then the explicit values should be taken. "
   ]
  },
  {
   "cell_type": "code",
   "execution_count": null,
   "id": "48ef914b",
   "metadata": {},
   "outputs": [],
   "source": [
    "Sr = reaction_properties.reaction_entropy\n",
    "Gr = reaction_properties.reaction_gibbs_energy\n",
    "\n",
    "print(f' Entropy of reaction {Sr.val} (explicit) is -dGr/dT = {-Gr.ddt} (implicit)')"
   ]
  },
  {
   "cell_type": "code",
   "execution_count": null,
   "id": "e042283b-15c7-431e-a172-8819d88c2edc",
   "metadata": {},
   "outputs": [],
   "source": [
    "import numpy as np\n",
    "import matplotlib.pyplot as plt\n",
    "\n",
    "# Generate x-axis values\n",
    "T_values = np.arange(0, 201, 5)"
   ]
  },
  {
   "cell_type": "code",
   "execution_count": null,
   "id": "03d873c9-7ad2-4a52-b39d-219697fe6fb2",
   "metadata": {},
   "outputs": [],
   "source": [
    "# Example data\n",
    "\n",
    "logKs = [engine.thermoPropertiesReaction(T+273.15, 0, \"Calcite = Ca+2 + CO3-2\").log_equilibrium_constant.val for T in T_values]\n",
    "logKerrors = [engine.thermoPropertiesReaction(T+273.15, 0, \"Calcite = Ca+2 + CO3-2\").log_equilibrium_constant.err for T in T_values]\n",
    "\n",
    "# Convert lists to NumPy arrays\n",
    "logKs = np.array(logKs)\n",
    "logKerrors = np.array(logKerrors)\n"
   ]
  },
  {
   "cell_type": "code",
   "execution_count": null,
   "id": "cf9529e2-ffea-4fd8-98a1-a6a7c3b510bd",
   "metadata": {},
   "outputs": [],
   "source": [
    "logKerrors"
   ]
  },
  {
   "cell_type": "code",
   "execution_count": null,
   "id": "5a6e1534-d0c2-459f-897c-1a7ccfac5e49",
   "metadata": {},
   "outputs": [],
   "source": [
    "from common.plotting import set_plot_dimensions"
   ]
  },
  {
   "cell_type": "code",
   "execution_count": null,
   "id": "6e1ba4b5-30d9-4290-a47a-370023bacee0",
   "metadata": {},
   "outputs": [],
   "source": [
    "# Calculate upper and lower bounds for the error band\n",
    "lower_bound = logKs - logKerrors\n",
    "upper_bound = logKs + logKerrors\n",
    "\n",
    "set_plot_dimensions()\n",
    "\n",
    "# Plotting\n",
    "plt.figure(figsize=(8, 6))\n",
    "plt.plot(T_values, logKs, color='blue', label='Calcite')\n",
    "plt.fill_between(T_values, lower_bound, upper_bound, color='blue', alpha=0.3, label='Error Band')\n",
    "plt.xlabel('Temperature')\n",
    "plt.ylabel('logK')\n",
    "plt.title('Calcite = Ca+2 + CO3-2')\n",
    "plt.legend()\n",
    "plt.grid(True)\n",
    "#plt.yscale('log')  # Setting y-axis to logarithmic scale\n",
    "plt.show()"
   ]
  },
  {
   "cell_type": "code",
   "execution_count": null,
   "id": "925bb937-49e5-4b23-bd0f-37ae88d912e9",
   "metadata": {},
   "outputs": [],
   "source": []
  }
 ],
 "metadata": {
  "kernelspec": {
   "display_name": "Python 3 (ipykernel)",
   "language": "python",
   "name": "python3"
  },
  "language_info": {
   "codemirror_mode": {
    "name": "ipython",
    "version": 3
   },
   "file_extension": ".py",
   "mimetype": "text/x-python",
   "name": "python",
   "nbconvert_exporter": "python",
   "pygments_lexer": "ipython3",
   "version": "3.10.12"
  },
  "toc": {
   "base_numbering": 1,
   "nav_menu": {},
   "number_sections": false,
   "sideBar": false,
   "skip_h1_title": false,
   "title_cell": "Table of Contents",
   "title_sidebar": "Contents",
   "toc_cell": false,
   "toc_position": {},
   "toc_section_display": false,
   "toc_window_display": false
  }
 },
 "nbformat": 4,
 "nbformat_minor": 5
}
