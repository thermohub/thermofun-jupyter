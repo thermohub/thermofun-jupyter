{
 "cells": [
  {
   "cell_type": "markdown",
   "id": "6811fe3a-c68d-42cc-bab6-57f715053f29",
   "metadata": {},
   "source": [
    "## ChemicalFun\n"
   ]
  },
  {
   "cell_type": "code",
   "execution_count": null,
   "id": "df814dcb-5b8c-4b30-8319-1df354a2bc1c",
   "metadata": {},
   "outputs": [],
   "source": [
    "import chemicalfun as cf\n",
    "import thermofun as tf\n",
    "import thermohubclient as thc"
   ]
  },
  {
   "cell_type": "code",
   "execution_count": null,
   "id": "359be840-b4d3-48b9-9e05-e685e4330078",
   "metadata": {},
   "outputs": [],
   "source": [
    "formulas = ['Ca+2', 'CO3-2', 'H+', 'OH-', 'HCO3-', 'CaCO3', 'H2O']"
   ]
  },
  {
   "cell_type": "code",
   "execution_count": null,
   "id": "a7b5dc8d-fd1f-4b77-9977-030a81f58e6a",
   "metadata": {},
   "outputs": [],
   "source": [
    "chemicalReactions = cf.ChemicalReactions(formulas)\n",
    "\n",
    "reactions = chemicalReactions.generateReactions() # returns the reactions list as a list of tuples ('substance', coefficient)\n",
    "\n",
    "# can be transformed to a list of dictionaries, with reaction substances as keys and the reaction coefficients as values\n",
    "reactions_dic = [{el[0]: el[1] for el in r} for r in reactions] \n",
    "\n",
    "print(chemicalReactions.printReactions())\n",
    "print(reactions_dic)"
   ]
  },
  {
   "cell_type": "code",
   "execution_count": null,
   "id": "62372b28-2ad1-41f2-9426-336d8c2f2e5a",
   "metadata": {},
   "outputs": [],
   "source": [
    "dbc = thc.DatabaseClient()"
   ]
  },
  {
   "cell_type": "code",
   "execution_count": null,
   "id": "f8d0099b-4b5b-42d1-b336-ebaf0c623f58",
   "metadata": {},
   "outputs": [],
   "source": [
    "dbc.saveDatabaseContainingElements(\"mines19\", [\"H\", \"O\", \"Ca\", \"Fe\", \"Si\", \"C\", \"S\", \"Zz\"])"
   ]
  },
  {
   "cell_type": "code",
   "execution_count": null,
   "id": "dd3fb80e-d301-4227-920b-2da7a554dc4f",
   "metadata": {},
   "outputs": [],
   "source": [
    "mines19sub = tf.Database('mines19-subset-thermofun.json')"
   ]
  },
  {
   "cell_type": "code",
   "execution_count": null,
   "id": "d0d9c0d7-7028-42d3-8369-b1b8a85ec1f3",
   "metadata": {},
   "outputs": [],
   "source": [
    "print(mines19sub.mapSubstances().keys())"
   ]
  },
  {
   "cell_type": "code",
   "execution_count": null,
   "id": "b4e2c905-c43c-483f-bb6d-ad0fee2323eb",
   "metadata": {},
   "outputs": [],
   "source": [
    "formulas = [s.formula() for s in mines19sub.mapSubstances().values()]"
   ]
  },
  {
   "cell_type": "code",
   "execution_count": null,
   "id": "04092ba8-722d-47a3-864a-9c6e9546efc1",
   "metadata": {},
   "outputs": [],
   "source": [
    "formulas = ['Ca+2', 'Fe|3|+3','OH-', 'CO3-2', 'SO4-2', 'SiO2@', 'H2O@', 'O|0|2@', '{Ca}3:{Fe|3|}2:Si3O12', 'CaSO4', 'CaFe(CO3)2', 'CaCO3', 'C|-4|H4', 'C|-4|H4@', 'C|2|O', 'CO2', 'CO2@',  'C|2|O@', 'CaSO4@', 'CaCO3@', 'CaHCO3+', 'CaHSiO3+', 'CaOH+', 'CaSiO3@', 'CaCO3',  'SiO2', 'SiO2', 'SiO2', 'C|0|',  '{Fe}2:SiO4', 'FeCO3@', 'FeHCO3+', 'Fe|3|(OH)3', 'Fe+2',  '{Fe}3:Si4O10(OH)2', 'Fe7Si8O22(OH)2', 'Fe|3|O+', 'Fe|3|O2-', 'HFeO2-', 'Fe|3|O2H@', 'FeO@', 'FeOH+', 'Fe|3|(OH)+2',  '{Ca}2:{Fe}5:Si8O22(OH)2', 'Fe2Si2O6',  'Fe|3|O(OH)', 'C|0|', 'Fe2Fe5Si8O22(OH)2', 'H+', 'H|0|2', 'H|0|2@', 'H2O', 'H2OO|0|@',  'H2S|-2|', 'H2S|2|2O3@', 'H2S|3|2O4@', 'H2S|-2|@', 'HCO3-', 'HOO|0|-', 'HS|-2|-', 'HS|2|2O3-', 'HS|3|2O4-', 'HS|4|O3-', 'HSO4-', 'HS|8|O5-', 'HSiO3-', '{Ca}:{Fe}:Si2O6', 'Fe|3|2O3', 'Ca2SiO4', 'CaO', 'FeFe|3|2O4', 'Fe|+4|S2', 'O|0|2',   'CaS', 'Ca(OH)2', 'CaSiO3', 'FeS|0|S|-2|', 'Fe|3|0.2Fe0.7S|-2|', 'SiO2', 'Ca3Si2O7', 'S|0|S|-2|-2', 'S|2|2O3-2', 'S|3|2O4-2', 'S|4|2O5-2', 'S|5|2O6-2', 'S|7|2O8-2', 'S|0|2S|-2|-2', 'S|4|S|3|2O6-2', 'S|0|3S|-2|-2', 'S|3|2S|2|2O6-2', 'S|0|4S|-2|-2', 'S|2|5O6-2', 'S|4|O2', 'S|4|O2@', 'S|4|O3-2', 'FeCO3', 'Ca5Si2O8(CO3)', 'SiO2', 'Ca5Si2O7(CO3)2', 'SiO2', 'FeS', 'CaSiO3', 'Fe0.947O']"
   ]
  },
  {
   "cell_type": "code",
   "execution_count": null,
   "id": "a305ece1-d960-41ff-91ce-3e3618979b34",
   "metadata": {},
   "outputs": [],
   "source": [
    "symbols = ['Ca+2', 'Fe+3', 'OH-', 'CO3-2', 'SO4-2', 'SiO2@', 'H2O@', 'O2@','Andradite', 'Anhydrite', 'Ankerite', 'Aragonite', 'CH4', 'CH4@', 'CO', 'CO2', 'CO2@',  'CO@', 'Ca(SO4)@',  'CaCO3@', 'CaHCO3+', 'CaHSiO3+', 'CaOH+', 'CaSiO3@', 'Calcite',  'Chalcedony', 'Coesite', 'Cristobalite', 'Diamond',  'Fayalite', 'Fe(CO3)@', 'Fe(HCO3)+', 'Fe(OH)3', 'Fe+2',  'Fe-Talc', 'Fe-anthophyllite', 'FeO+', 'FeO2-', 'FeO2H-', 'FeO2H@', 'FeO@', 'FeOH+', 'FeOH+2', 'Ferroactinolite', 'Ferrosilite',  'Goethite', 'Graphite', 'Grunerite', 'H+', 'H2', 'H2@', 'H2O', 'H2O2@',  'H2S', 'H2S2O3@', 'H2S2O4@', 'H2S@', 'HCO3-', 'HO2-', 'HS-', 'HS2O3-', 'HS2O4-', 'HSO3-', 'HSO4-', 'HSO5-', 'HSiO3-', 'Hedenbergite', 'Hematite', 'Larnite', 'Lime', 'Magnetite', 'Marcasite', 'O2',   'Oldhamite', 'Portlandite', 'Pseudowollastoni', 'Pyrite', 'Pyrrhotite', 'Quartz', 'Rankinite', 'S2-2', 'S2O3-2', 'S2O4-2', 'S2O5-2', 'S2O6-2', 'S2O8-2', 'S3-2', 'S3O6-2', 'S4-2', 'S4O6-2', 'S5-2', 'S5O6-2', 'SO2', 'SO2@', 'SO3-2',  'Siderite', 'Spurrite', 'Stishovite', 'Tilleyite', 'Tridymite', 'Troilite', 'Wollastonite', 'Wustite']"
   ]
  },
  {
   "cell_type": "code",
   "execution_count": null,
   "id": "49a6e47a-dbd3-44be-a3dc-0ff237732476",
   "metadata": {},
   "outputs": [],
   "source": [
    "#formulas = ['Ca+2', 'CO3-2', 'H+', 'OH-', 'HCO3-', 'CaCO3', 'H2O']\n",
    "\n",
    "chemicalReactions = cf.ChemicalReactions(formulas, symbols)\n",
    "\n",
    "reactions = chemicalReactions.generateReactions() "
   ]
  },
  {
   "cell_type": "code",
   "execution_count": null,
   "id": "c6628739-4827-4012-886a-03abe4564cda",
   "metadata": {},
   "outputs": [],
   "source": [
    "print(chemicalReactions.printReactions())\n",
    "print(f'master: {chemicalReactions.masterSubstances()}')\n",
    "print(f'dependent: {chemicalReactions.dependentSubstances()}')"
   ]
  },
  {
   "cell_type": "code",
   "execution_count": null,
   "id": "2376415d-7dd0-445e-8c6d-06989a28adfd",
   "metadata": {},
   "outputs": [],
   "source": [
    "engine = tf.ThermoEngine(mines19sub)"
   ]
  },
  {
   "cell_type": "code",
   "execution_count": null,
   "id": "5c6a48f6-1cfe-4d9a-b381-8fe656b71a23",
   "metadata": {},
   "outputs": [],
   "source": [
    "engine."
   ]
  },
  {
   "cell_type": "code",
   "execution_count": null,
   "id": "97e4a47f-9cc2-4e3b-b8fc-21b8918ea17a",
   "metadata": {},
   "outputs": [],
   "source": [
    "for r in chemicalReactions.stringReactions():\n",
    "    result = engine.thermoPropertiesReaction(398.15, 0, r).log_equilibrium_constant.val\n",
    "    print(f\"Reaction: {r}, logK: {result}\")"
   ]
  },
  {
   "cell_type": "code",
   "execution_count": null,
   "id": "facfb19c-d5b5-406b-923e-3ae14e69d7a1",
   "metadata": {},
   "outputs": [],
   "source": []
  }
 ],
 "metadata": {
  "kernelspec": {
   "display_name": "Python 3 (ipykernel)",
   "language": "python",
   "name": "python3"
  },
  "language_info": {
   "codemirror_mode": {
    "name": "ipython",
    "version": 3
   },
   "file_extension": ".py",
   "mimetype": "text/x-python",
   "name": "python",
   "nbconvert_exporter": "python",
   "pygments_lexer": "ipython3",
   "version": "3.10.12"
  }
 },
 "nbformat": 4,
 "nbformat_minor": 5
}
