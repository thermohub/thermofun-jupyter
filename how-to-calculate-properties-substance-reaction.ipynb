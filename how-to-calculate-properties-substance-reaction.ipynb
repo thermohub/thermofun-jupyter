{
 "cells": [
  {
   "cell_type": "markdown",
   "metadata": {},
   "source": [
    "![ThermoFun logo](common/fun_long_logo-01.png)\n",
    "\n",
    "**ThermoFun** is an open-source client that delivers thermodynamic properties of substances and reactions at the temperature and pressure of interest."
   ]
  },
  {
   "cell_type": "markdown",
   "metadata": {},
   "source": [
    "### Example for substance"
   ]
  },
  {
   "cell_type": "code",
   "execution_count": 1,
   "metadata": {},
   "outputs": [],
   "source": [
    "import thermofun as fun\n",
    "\n",
    "database = fun.Database('databases/slop98-inorganic-thermofun.json') # load database containing data necessary to calculate properties \n",
    "engine = fun.ThermoEngine(database) # create an engine to have access to the functions for calculating properties"
   ]
  },
  {
   "cell_type": "code",
   "execution_count": 2,
   "metadata": {},
   "outputs": [],
   "source": [
    "properties = engine.thermoPropertiesSubstance(473, 2000e5, \"Ca+2\") # engine class works only with SI units"
   ]
  },
  {
   "cell_type": "code",
   "execution_count": 3,
   "metadata": {},
   "outputs": [],
   "source": [
    "G = properties.gibbs_energy\n",
    "A = properties.helmholtz_energy\n",
    "U = properties.internal_energy\n",
    "H = properties.enthalpy\n",
    "S = properties.entropy\n",
    "V = properties.volume # J/bar\n",
    "Cp= properties.heat_capacity_cp"
   ]
  },
  {
   "cell_type": "code",
   "execution_count": 4,
   "metadata": {},
   "outputs": [
    {
     "name": "stdout",
     "output_type": "stream",
     "text": [
      "gibbs_energy -545270.2878298083 J/mol\n",
      "helmholtz_energy -399981.72982221143 J/mol\n",
      "internal_energy -429026.12661363545 J/mol\n",
      "enthalpy -547766.9796754774 J/mol\n",
      "entropy -61.404644379331856 J/mol/K\n",
      "volume -1.4189872497830058 J/bar\n",
      "heat_capacity_cp -31.363173691359485 J/mol/K\n"
     ]
    }
   ],
   "source": [
    "print(f'gibbs_energy {G.val} J/mol')\n",
    "print(f'helmholtz_energy {A.val} J/mol')\n",
    "print(f'internal_energy {U.val} J/mol')\n",
    "print(f'enthalpy {H.val} J/mol')\n",
    "print(f'entropy {S.val} J/mol/K')\n",
    "print(f'volume {V.val} J/bar')\n",
    "print(f'heat_capacity_cp {Cp.val} J/mol/K')"
   ]
  },
  {
   "cell_type": "markdown",
   "metadata": {},
   "source": [
    "Each property is a complex variable that contains the calculated value `.val`, the derivative with temperature `.ddt`, the derivative with pressure `.ddp`, propagated error `.err` (provided the input parameters had error assigned to them). "
   ]
  },
  {
   "cell_type": "code",
   "execution_count": 5,
   "metadata": {},
   "outputs": [
    {
     "data": {
      "text/plain": [
       "'Entropy -61.404644379331856 is -dG/dT = -61.40464437933184'"
      ]
     },
     "execution_count": 5,
     "metadata": {},
     "output_type": "execute_result"
    }
   ],
   "source": [
    "f'Entropy {properties.entropy.val} is -dG/dT = -{properties.gibbs_energy.ddt}'"
   ]
  },
  {
   "cell_type": "markdown",
   "metadata": {},
   "source": [
    "### Example for reaction"
   ]
  },
  {
   "cell_type": "markdown",
   "metadata": {},
   "source": [
    "To calculate properties of a reaction one can use a reaction that was defined in the database file or simply call the calculation function using a reaction equation.\n",
    "\n",
    "> **Warning:** For the reaction equation you have to use the reactant symbols and not their formulas, as they are in the in the database!\n",
    "```python\n",
    "substances = database.mapSubstances()\n",
    "print(substances.keys())\n",
    "```"
   ]
  },
  {
   "cell_type": "code",
   "execution_count": 6,
   "metadata": {},
   "outputs": [
    {
     "data": {
      "text/plain": [
       "'logK (Cal = Ca+2 + CO3-2) is -8.480140761059024'"
      ]
     },
     "execution_count": 6,
     "metadata": {},
     "output_type": "execute_result"
    }
   ],
   "source": [
    "reaction_properties = engine.thermoPropertiesReaction(298.15, 1e5, \"Cal = Ca+2 + CO3-2\")\n",
    "logK = reaction_properties.log_equilibrium_constant\n",
    "f'logK (Cal = Ca+2 + CO3-2) is {logK.val}'"
   ]
  },
  {
   "cell_type": "code",
   "execution_count": 7,
   "metadata": {},
   "outputs": [
    {
     "data": {
      "text/plain": [
       "' Entropy of reaction -254.92695597999867 is -dGr/dT = -254.9269559799989'"
      ]
     },
     "execution_count": 7,
     "metadata": {},
     "output_type": "execute_result"
    }
   ],
   "source": [
    "Sr = engine.thermoPropertiesReaction(348.15, 1e5, \"Cal = Ca+2 + CO3-2\").reaction_entropy\n",
    "Gr = engine.thermoPropertiesReaction(348.15, 1e5, \"Cal = Ca+2 + CO3-2\").reaction_gibbs_energy\n",
    "\n",
    "f' Entropy of reaction {Sr.val} is -dGr/dT = {-Gr.ddt}'"
   ]
  },
  {
   "cell_type": "code",
   "execution_count": 8,
   "metadata": {},
   "outputs": [],
   "source": [
    "logK = reaction_properties.log_equilibrium_constant\n",
    "Gr = reaction_properties.reaction_gibbs_energy\n",
    "Ar = reaction_properties.reaction_helmholtz_energy\n",
    "Ur = reaction_properties.reaction_internal_energy\n",
    "Hr = reaction_properties.reaction_enthalpy\n",
    "Sr = reaction_properties.reaction_entropy\n",
    "Vr = reaction_properties.reaction_volume\n",
    "Cpr= reaction_properties.reaction_heat_capacity_cp"
   ]
  },
  {
   "cell_type": "code",
   "execution_count": 9,
   "metadata": {},
   "outputs": [
    {
     "name": "stdout",
     "output_type": "stream",
     "text": [
      "-8.480140761059024\n",
      "48404.99999290868\n",
      "1234936.922986698\n",
      "1207305.6933999062\n",
      "-11017.28543653735\n",
      "-199.16291120500236\n",
      "-6.14386711558677\n",
      "-402.414142006402\n"
     ]
    }
   ],
   "source": [
    "print(logK.val)\n",
    "print(Gr.val)\n",
    "print(Ar.val)\n",
    "print(Ur.val)\n",
    "print(Hr.val)\n",
    "print(Sr.val)\n",
    "print(Vr.val)\n",
    "print(Cpr.val)"
   ]
  }
 ],
 "metadata": {
  "kernelspec": {
   "display_name": "Python 3",
   "language": "python",
   "name": "python3"
  },
  "language_info": {
   "codemirror_mode": {
    "name": "ipython",
    "version": 3
   },
   "file_extension": ".py",
   "mimetype": "text/x-python",
   "name": "python",
   "nbconvert_exporter": "python",
   "pygments_lexer": "ipython3",
   "version": "3.7.4"
  },
  "toc": {
   "base_numbering": 1,
   "nav_menu": {},
   "number_sections": false,
   "sideBar": false,
   "skip_h1_title": false,
   "title_cell": "Table of Contents",
   "title_sidebar": "Contents",
   "toc_cell": false,
   "toc_position": {},
   "toc_section_display": false,
   "toc_window_display": false
  }
 },
 "nbformat": 4,
 "nbformat_minor": 4
}
