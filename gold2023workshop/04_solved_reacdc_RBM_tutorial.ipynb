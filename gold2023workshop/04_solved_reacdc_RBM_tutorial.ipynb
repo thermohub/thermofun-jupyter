{
 "cells": [
  {
   "cell_type": "markdown",
   "id": "be85357a",
   "metadata": {},
   "source": [
    "# Tutorial on adding own data as a reaction dependent component\n",
    "Properties are calculated using the modified Ryzhenko-Bryzgalin (MRB) model, see Gems3-app/Resources/doc/pdf/T-corrections-Reac.pdf"
   ]
  },
  {
   "cell_type": "markdown",
   "id": "7eba971b",
   "metadata": {},
   "source": [
    "### Import thermohubclient, thermofun, and get the conncetion to the remote database"
   ]
  },
  {
   "cell_type": "code",
   "execution_count": 1,
   "id": "b0e917a6",
   "metadata": {},
   "outputs": [],
   "source": [
    "import thermohubclient as client\n",
    "import thermofun as fun\n",
    "dbc = client.DatabaseClient()"
   ]
  },
  {
   "cell_type": "markdown",
   "id": "af0a9cd0",
   "metadata": {},
   "source": [
    "### Get mines19 database to thermofun database"
   ]
  },
  {
   "cell_type": "code",
   "execution_count": 2,
   "id": "003a41d5",
   "metadata": {},
   "outputs": [],
   "source": [
    "mines19db = fun.Database(dbc.getDatabase(\"mines19\"))"
   ]
  },
  {
   "cell_type": "markdown",
   "id": "401436bf",
   "metadata": {},
   "source": [
    "### Add a reaction as JSON string\n",
    "{\n",
    "  \"TPMethods\":[ ],\n",
    "  \"datasources\":\"\",\n",
    "  \"equation\":\"\",\n",
    "  \"symbol\":\"\"\n",
    "}"
   ]
  },
  {
   "cell_type": "markdown",
   "id": "fdaebc41",
   "metadata": {},
   "source": [
    "### print available methods"
   ]
  },
  {
   "cell_type": "code",
   "execution_count": 3,
   "id": "ceca4c0d",
   "metadata": {},
   "outputs": [
    {
     "name": "stdout",
     "output_type": "stream",
     "text": [
      "{\"method\": {\"0\": \"logk_fpt_function\"}, \"logk_ft_coeffs\" : { \"values\": []}}\n",
      "{\"method\": {\"3\": \"logk_nordstrom_munoz88\"}, \"logk_ft_coeffs\" : { \"values\": []}}\n",
      "{\"method\": {\"4\": \"logk_1_term_extrap0\"}, \"logk_ft_coeffs\" : { \"values\": []}}\n",
      "{\"method\": {\"5\": \"logk_1_term_extrap1\"}, \"logk_ft_coeffs\" : { \"values\": []}}\n",
      "{\"method\": {\"6\": \"logk_2_term_extrap\"}, \"logk_ft_coeffs\" : { \"values\": []}}\n",
      "{\"method\": {\"7\": \"logk_3_term_extrap\"}, \"logk_ft_coeffs\" : { \"values\": []}}\n",
      "{\"method\": {\"8\": \"logk_lagrange_interp\"}}\n",
      "{\"method\": {\"9\": \"logk_marshall_frank78\"}, \"dr_marshall_franck_coeffs\" : { \"values\": []}}\n",
      "{\"method\": {\"10\": \"solute_eos_ryzhenko_gems\"}, \"dr_ryzhenko_coeffs\" : { \"values\": []}}\n",
      "{\"method\": {\"11\": \"dr_heat_capacity_ft\"}, \"dr_heat_capacity_ft_coeffs\" : { \"values\": []}}\n",
      "{\"method\": {\"12\": \"dr_volume_fpt\"}, \"dr_volume_fpt_coeffs\" : { \"values\": []}}\n",
      "{\"method\": {\"13\": \"dr_volume_constant\"}}\n",
      "{\"method\": {\"14\": \"logk_dolejs_manning10\"}, \"dr_dolejs_manning10_coeffs\" : { \"values\": []}}\n",
      "\n"
     ]
    }
   ],
   "source": [
    "print(fun.availableReactionTPMethods())"
   ]
  },
  {
   "cell_type": "markdown",
   "id": "79d65899",
   "metadata": {},
   "source": [
    "### Add LaSO4+_mi = La+3 + SO4-2 reaction from Migdisov et al., 2016 paper, see file LaSO4-reaction.json"
   ]
  },
  {
   "cell_type": "code",
   "execution_count": 4,
   "id": "c68bc3c1",
   "metadata": {},
   "outputs": [],
   "source": [
    "mines19db.setReaction('''\n",
    "{\n",
    "  \"TPMethods\":[\n",
    "    {\n",
    "      \"dr_ryzhenko_coeffs\":{\n",
    "        \"values\":[\n",
    "          3.61,\n",
    "          1.563,\n",
    "          -193.7\n",
    "        ]\n",
    "      },\n",
    "      \"method\":{\n",
    "        \"10\":\"solute_eos_ryzhenko_gems\"\n",
    "      }\n",
    "    }\n",
    "  ],\n",
    "  \"datasources\":\"Migdisov et al., 2016\",\n",
    "  \"equation\":\"LaSO4+_mi = La+3 + SO4-2\",\n",
    "  \"symbol\":\"LaSO4+_mi\"\n",
    "}\n",
    "''')"
   ]
  },
  {
   "cell_type": "markdown",
   "id": "bf5ea5d3",
   "metadata": {},
   "source": [
    "### create a batch object,set units digits for 'logKr', print(fun.availablePropertiesReaction())"
   ]
  },
  {
   "cell_type": "code",
   "execution_count": 5,
   "id": "20566b31",
   "metadata": {},
   "outputs": [],
   "source": [
    "batch = fun.ThermoBatch(mines19db)\n",
    "batch.setPropertiesUnits([\"temperature\", \"pressure\"],[\"degC\",\"bar\"])\n",
    "batch.setPropertiesDigits([\"logKr\"], [4])"
   ]
  },
  {
   "cell_type": "markdown",
   "id": "994f589a",
   "metadata": {},
   "source": [
    "### set pressure and temperature incremenets"
   ]
  },
  {
   "cell_type": "code",
   "execution_count": 6,
   "id": "b663c80c",
   "metadata": {},
   "outputs": [],
   "source": [
    "batch.setPressureIncrement(0,0,0)\n",
    "batch.setTemperatureIncrement(0,300, 5)"
   ]
  },
  {
   "cell_type": "markdown",
   "id": "d1daca35",
   "metadata": {},
   "source": [
    "### calculate logK of [\"LaSO4+_mi\", \"La(SO4)+ = La+3 + SO4-2\"], new and from mines19"
   ]
  },
  {
   "cell_type": "code",
   "execution_count": 7,
   "id": "8e0fe5d5",
   "metadata": {},
   "outputs": [],
   "source": [
    "batch.thermoPropertiesReaction([\"LaSO4+_mi\", \"La(SO4)+ = La+3 + SO4-2\"], [\"logKr\"]).toCSV(\"res.csv\")"
   ]
  },
  {
   "cell_type": "markdown",
   "id": "674e4291",
   "metadata": {},
   "source": [
    "### plot resuts 'from functions import plot_properties_vs_temperature'\n",
    "plot_properties_vs_temperature('res.csv', [\"LaSO4+_mi\", \"La(SO4)+ = La+3 + SO4-2\"], 0)"
   ]
  },
  {
   "cell_type": "code",
   "execution_count": 8,
   "id": "104efc43",
   "metadata": {},
   "outputs": [
    {
     "data": {
      "image/png": "[encoded data removed]",
      "text/plain": [
       "<Figure size 648x648 with 1 Axes>"
      ]
     },
     "metadata": {
      "needs_background": "light"
     },
     "output_type": "display_data"
    }
   ],
   "source": [
    "from common.functions import plot_properties_vs_temperature\n",
    "plt = plot_properties_vs_temperature('res.csv', [\"LaSO4+_mi\", \"La(SO4)+ = La+3 + SO4-2\"], 0)\n",
    "#plt.ylim(-5, 0)\n",
    "#plt.legend(loc = \"upper left\")"
   ]
  },
  {
   "cell_type": "markdown",
   "id": "ab04e01d",
   "metadata": {},
   "source": [
    "### add substance as reaction dependent see LaSO4-reaction_dependent_substance.json"
   ]
  },
  {
   "cell_type": "code",
   "execution_count": 9,
   "id": "a255fc9b",
   "metadata": {},
   "outputs": [],
   "source": [
    "mines19db.setSubstance('''\n",
    "        {\n",
    "            \"symbol\": \"LaSO4+_mi\",\n",
    "            \"formula\": \"LaSO4+\",\n",
    "            \"reaction\": \"LaSO4+_mi\"\n",
    "        }\n",
    "''')"
   ]
  },
  {
   "cell_type": "markdown",
   "id": "b6e40196",
   "metadata": {},
   "source": [
    "### create an engine object and calculate properties at 498.15, 0 (Psat) for \"La(SO4)+\" and \"LaSO4+_mi\""
   ]
  },
  {
   "cell_type": "code",
   "execution_count": 10,
   "id": "679da618",
   "metadata": {},
   "outputs": [],
   "source": [
    "engine = fun.ThermoEngine(mines19db)"
   ]
  },
  {
   "cell_type": "code",
   "execution_count": 11,
   "id": "e0a80ebb",
   "metadata": {},
   "outputs": [],
   "source": [
    "props1 = engine.thermoPropertiesSubstance(498.15, 0, \"La(SO4)+\")\n",
    "props2 = engine.thermoPropertiesSubstance(498.15, 0, \"LaSO4+_mi\")"
   ]
  },
  {
   "cell_type": "code",
   "execution_count": 12,
   "id": "ad7f575f",
   "metadata": {},
   "outputs": [
    {
     "data": {
      "text/plain": [
       "-1426377.7370179314"
      ]
     },
     "execution_count": 12,
     "metadata": {},
     "output_type": "execute_result"
    }
   ],
   "source": [
    "props1.gibbs_energy.val"
   ]
  },
  {
   "cell_type": "code",
   "execution_count": 13,
   "id": "f5357aa5",
   "metadata": {},
   "outputs": [
    {
     "data": {
      "text/plain": [
       "-1421756.7677983388"
      ]
     },
     "execution_count": 13,
     "metadata": {},
     "output_type": "execute_result"
    }
   ],
   "source": [
    "props2.gibbs_energy.val"
   ]
  },
  {
   "cell_type": "markdown",
   "id": "784c8006",
   "metadata": {},
   "source": [
    "### Calculate solvent properties"
   ]
  },
  {
   "cell_type": "code",
   "execution_count": 14,
   "id": "03d18a47",
   "metadata": {},
   "outputs": [],
   "source": [
    "res =engine.propertiesSolvent(473, 2000e5, \"H2O@\")"
   ]
  },
  {
   "cell_type": "code",
   "execution_count": 15,
   "id": "20208f4f",
   "metadata": {},
   "outputs": [
    {
     "data": {
      "text/plain": [
       "966.4981340923547"
      ]
     },
     "execution_count": 15,
     "metadata": {},
     "output_type": "execute_result"
    }
   ],
   "source": [
    "res.density.val"
   ]
  },
  {
   "cell_type": "code",
   "execution_count": 16,
   "id": "b94b410a",
   "metadata": {},
   "outputs": [
    {
     "data": {
      "text/plain": [
       "-0.7473776229170155"
      ]
     },
     "execution_count": 16,
     "metadata": {},
     "output_type": "execute_result"
    }
   ],
   "source": [
    "res.densityT.val"
   ]
  },
  {
   "cell_type": "code",
   "execution_count": 17,
   "id": "7f5a8299",
   "metadata": {},
   "outputs": [
    {
     "data": {
      "text/plain": [
       "-0.7473776229170166"
      ]
     },
     "execution_count": 17,
     "metadata": {},
     "output_type": "execute_result"
    }
   ],
   "source": [
    "res.density.ddt"
   ]
  },
  {
   "cell_type": "markdown",
   "id": "4febd65d",
   "metadata": {},
   "source": [
    "### Append to engine engine.appendData(\"mydata-thermofun.json\") and calculate logK of \"NdSO4+_mi\""
   ]
  },
  {
   "cell_type": "code",
   "execution_count": 19,
   "id": "6336757a",
   "metadata": {},
   "outputs": [],
   "source": [
    "engine.appendData(\"mydata-thermofun.json\")"
   ]
  },
  {
   "cell_type": "code",
   "execution_count": 20,
   "id": "3e7a4423",
   "metadata": {},
   "outputs": [],
   "source": [
    "props3 = engine.thermoPropertiesReaction(498.15, 0, \"NdSO4+_mi\")"
   ]
  },
  {
   "cell_type": "code",
   "execution_count": 21,
   "id": "20751946",
   "metadata": {},
   "outputs": [
    {
     "data": {
      "text/plain": [
       "-5.785642465716963"
      ]
     },
     "execution_count": 21,
     "metadata": {},
     "output_type": "execute_result"
    }
   ],
   "source": [
    "props3.log_equilibrium_constant.val"
   ]
  },
  {
   "cell_type": "code",
   "execution_count": null,
   "id": "17fa54aa",
   "metadata": {},
   "outputs": [],
   "source": []
  }
 ],
 "metadata": {
  "kernelspec": {
   "display_name": "Python 3 (ipykernel)",
   "language": "python",
   "name": "python3"
  },
  "language_info": {
   "codemirror_mode": {
    "name": "ipython",
    "version": 3
   },
   "file_extension": ".py",
   "mimetype": "text/x-python",
   "name": "python",
   "nbconvert_exporter": "python",
   "pygments_lexer": "ipython3",
   "version": "3.9.15"
  },
  "toc": {
   "base_numbering": 1,
   "nav_menu": {},
   "number_sections": false,
   "sideBar": false,
   "skip_h1_title": false,
   "title_cell": "Table of Contents",
   "title_sidebar": "Contents",
   "toc_cell": false,
   "toc_position": {},
   "toc_section_display": false,
   "toc_window_display": false
  }
 },
 "nbformat": 4,
 "nbformat_minor": 5
}
