{
 "cells": [
  {
   "cell_type": "markdown",
   "id": "6299e07c",
   "metadata": {},
   "source": [
    "<img src=\"../common/fun_long_logo-01.png\">"
   ]
  },
  {
   "cell_type": "markdown",
   "id": "a1c2b3b7-ea0f-4d56-87b8-24b8520d3fd4",
   "metadata": {},
   "source": [
    "# Tutorial on how to automatically generate reactions using ChemicalFun and write them to phreeqc format\n",
    "Miron et al., (2023). ThermoFun: A C++/Python library for computing standard thermodynamic properties of substances and reactions across wide ranges of temperatures and pressures. Journal of Open Source Software, 8(83), 4624\n",
    "\n",
    "[![DOI](https://joss.theoj.org/papers/10.21105/joss.04624/status.svg)](https://doi.org/10.21105/joss.04624)"
   ]
  },
  {
   "cell_type": "markdown",
   "id": "c8cdfd6f",
   "metadata": {},
   "source": [
    "### Import ThermoFun module\n",
    "ThermoFun delivers thermodynamic properties of substances and reactions at the temperature and pressure of interest."
   ]
  },
  {
   "cell_type": "code",
   "execution_count": 1,
   "id": "151b0912",
   "metadata": {},
   "outputs": [],
   "source": [
    "import thermofun as fun"
   ]
  },
  {
   "cell_type": "markdown",
   "id": "49e7f131",
   "metadata": {},
   "source": [
    "### Initialize a ThermoFun database and an engine class"
   ]
  },
  {
   "cell_type": "code",
   "execution_count": 2,
   "id": "76b3eaba",
   "metadata": {},
   "outputs": [],
   "source": [
    "# initalize database using a local file\n",
    "REE = fun.Database('gemsfiles/HREE-P-OH_3K-fun.json')"
   ]
  },
  {
   "cell_type": "code",
   "execution_count": 3,
   "id": "9c7ac23c-4c49-4b26-90ab-44a2a78ae335",
   "metadata": {},
   "outputs": [
    {
     "name": "stdout",
     "output_type": "stream",
     "text": [
      "dict_keys(['Ce', 'Cl', 'Dy', 'Er', 'Eu', 'Gd', 'H', 'Ho', 'La', 'Lu', 'Na', 'Nd', 'O', 'P', 'Pr', 'Sm', 'Tb', 'Tm', 'Y', 'Yb', 'Zz'])\n"
     ]
    }
   ],
   "source": [
    "print(REE.mapElements().keys())"
   ]
  },
  {
   "cell_type": "code",
   "execution_count": 14,
   "id": "9f4208d8-c211-463b-9204-b654bc69d6d2",
   "metadata": {},
   "outputs": [
    {
     "name": "stdout",
     "output_type": "stream",
     "text": [
      "symbol               formula                                  class               \n",
      "Ce(H2PO4)+2          CeH2PO4+2                                SC_AQSOLUTE         \n",
      "Ce+3                 Ce+3                                     SC_AQSOLUTE         \n",
      "CeCl+2               CeCl+2                                   SC_AQSOLUTE         \n",
      "CeCl2+               CeCl2+                                   SC_AQSOLUTE         \n",
      "CeCl3@               CeCl3@                                   SC_AQSOLUTE         \n",
      "CeO+                 CeO+                                     SC_AQSOLUTE         \n",
      "CeO2-                CeO2-                                    SC_AQSOLUTE         \n",
      "CeO2H@               CeO2H@                                   SC_AQSOLUTE         \n",
      "CeOH+2               CeOH+2                                   SC_AQSOLUTE         \n",
      "Ce+4                 Ce|4|+4                                  SC_AQSOLUTE         \n",
      "Dy(H2PO4)+2          DyH2PO4+2                                SC_AQSOLUTE         \n",
      "Dy+3                 Dy+3                                     SC_AQSOLUTE         \n",
      "DyCl+2               DyCl+2                                   SC_AQSOLUTE         \n",
      "DyCl2+               DyCl2+                                   SC_AQSOLUTE         \n",
      "DyCl3@               DyCl3@                                   SC_AQSOLUTE         \n",
      "DyO+                 DyO+                                     SC_AQSOLUTE         \n",
      "DyO2-                DyO2-                                    SC_AQSOLUTE         \n",
      "DyO2H@               HDyO2@                                   SC_AQSOLUTE         \n",
      "DyOH+2               DyOH+2                                   SC_AQSOLUTE         \n",
      "Eu(H2PO4)+2          EuH2PO4+2                                SC_AQSOLUTE         \n",
      "Eu(OH)+2             Eu|3|(OH)+2                              SC_AQSOLUTE         \n",
      "Eu+3                 Eu+3                                     SC_AQSOLUTE         \n",
      "EuCl+2               Eu|3|Cl+2                                SC_AQSOLUTE         \n",
      "EuCl2+               Eu|3|Cl2+                                SC_AQSOLUTE         \n",
      "EuCl3@               EuCl3@                                   SC_AQSOLUTE         \n",
      "EuO+                 Eu|3|O+                                  SC_AQSOLUTE         \n",
      "EuO2-                Eu|3|O2-                                 SC_AQSOLUTE         \n",
      "EuO2H@               Eu|3|O2H@                                SC_AQSOLUTE         \n",
      "EuOH+2               EuOH+2                                   SC_AQSOLUTE         \n",
      "Eu+4                 Eu|4|+4                                  SC_AQSOLUTE         \n",
      "Gd(H2PO4)+2          GdH2PO4+2                                SC_AQSOLUTE         \n",
      "Gd+3                 Gd+3                                     SC_AQSOLUTE         \n",
      "GdCl+2               GdCl+2                                   SC_AQSOLUTE         \n",
      "GdCl2+               GdCl2+                                   SC_AQSOLUTE         \n",
      "GdCl3@               GdCl3@                                   SC_AQSOLUTE         \n",
      "GdO+                 GdO+                                     SC_AQSOLUTE         \n",
      "GdO2-                GdO2-                                    SC_AQSOLUTE         \n",
      "GdO2H@               GdO2H@                                   SC_AQSOLUTE         \n",
      "GdOH+2               GdOH+2                                   SC_AQSOLUTE         \n",
      "Ho(H2PO4)+2          HoH2PO4+2                                SC_AQSOLUTE         \n",
      "Ho+3                 Ho+3                                     SC_AQSOLUTE         \n",
      "HoCl+2               HoCl+2                                   SC_AQSOLUTE         \n",
      "HoCl2+               HoCl2+                                   SC_AQSOLUTE         \n",
      "HoCl3@               HoCl3@                                   SC_AQSOLUTE         \n",
      "HoO+                 HoO+                                     SC_AQSOLUTE         \n",
      "HoO2-                HoO2-                                    SC_AQSOLUTE         \n",
      "HoO2H@               HoO2H@                                   SC_AQSOLUTE         \n",
      "HoOH+2               HoOH+2                                   SC_AQSOLUTE         \n",
      "CePO4                CePO4                                    SC_COMPONENT        \n",
      "DyPO4                DyPO4                                    SC_COMPONENT        \n",
      "EuPO4                EuPO4                                    SC_COMPONENT        \n",
      "GdPO4                GdPO4                                    SC_COMPONENT        \n",
      "HoPO4                HoPO4                                    SC_COMPONENT        \n",
      "rhabdophane-(Ce)     CePO4(H2O)0.732                          SC_AQSOLUTE         \n",
      "rhabdophane-(Eu)     EuPO4(H2O)0.555                          SC_AQSOLUTE         \n",
      "rhabdophane-(Gd)     GdPO4(H2O)0.533                          SC_AQSOLUTE         \n"
     ]
    }
   ],
   "source": [
    "# use the fileter \n",
    "from common.filters import substances_containing_elements\n",
    "# what substances are avaialble containing elements\n",
    "substances_containing_elements('gemsfiles/HREE-P-OH_3K-fun.json', ['Ce', 'Dy', 'Eu', 'Gd', 'Ho'], False)"
   ]
  },
  {
   "cell_type": "markdown",
   "id": "42116850-cfa4-4544-9a8a-cb9f2395ee71",
   "metadata": {},
   "source": [
    "### generate reactions for selected substances"
   ]
  },
  {
   "cell_type": "code",
   "execution_count": 6,
   "id": "d2e13198-9437-486a-887f-219036bfc8bd",
   "metadata": {},
   "outputs": [],
   "source": [
    "# create a list of symbols of reaction dependent substance\n",
    "substances_symbols = [\"CePO4\", \"DyPO4\", \"EuPO4\", \"GdPO4\", \"HoPO4\", \"LaPO4\", \"LuPO4\", \"NdPO4\", \"PrPO4\", \"SmPO4\", \"TbPO4\", \"TmPO4\", \"YPO4\", \"YbPO4\",\n",
    "                     \"rhabdophane-(Ce)\", \"rhabdophane-(Gd)\", \"rhabdophane-(La)\", \"rhabdophane-(Nd)\", \"rhabdophane-(Pr)\", \"rhabdophane-(Sm)\"]"
   ]
  },
  {
   "cell_type": "markdown",
   "id": "00266790-a2b3-43a2-bc01-76419e06c9ba",
   "metadata": {},
   "source": [
    "### extract them from the database "
   ]
  },
  {
   "cell_type": "code",
   "execution_count": 8,
   "id": "4011bc85-83d3-410e-86f3-8b23670ba176",
   "metadata": {},
   "outputs": [],
   "source": [
    "substances = [REE.getSubstance(s) for s in substances_symbols]"
   ]
  },
  {
   "cell_type": "code",
   "execution_count": 9,
   "id": "19c996ff-98b2-4351-b217-b9891f7dbc19",
   "metadata": {},
   "outputs": [],
   "source": [
    "# set the list of master species\n",
    "aqueous_master_species = ['H2O@','PO4-3', 'Ce+3', 'Dy+3', 'Eu+3', 'Gd+3', 'Ho+3', 'La+3', 'Lu+3', 'Nd+3', 'Pr+3', 'Sm+3', 'Tb+3', 'Tm+3', 'Y+3', 'Yb+3']"
   ]
  },
  {
   "cell_type": "markdown",
   "id": "58603c5b-be66-4c0e-bf0f-edf5f2818cd5",
   "metadata": {},
   "source": [
    "### ChamicalFun library contains functions to automatically generate reactions for given dependent substance and master species "
   ]
  },
  {
   "cell_type": "code",
   "execution_count": 10,
   "id": "ca323c1d-3778-4977-b1ce-17e6128d9cf2",
   "metadata": {},
   "outputs": [],
   "source": [
    "# import chamicalfun library\n",
    "import chemicalfun as cfun"
   ]
  },
  {
   "cell_type": "markdown",
   "id": "2083a48b-ce7f-4da0-9fd5-1d7beca81a86",
   "metadata": {},
   "source": [
    "### Reactions generator"
   ]
  },
  {
   "cell_type": "code",
   "execution_count": 11,
   "id": "12c48a0a-8095-47f9-a0c3-e5491b14aaa9",
   "metadata": {},
   "outputs": [
    {
     "name": "stdout",
     "output_type": "stream",
     "text": [
      "Dy+3 + PO4-3 = DyPO4\n",
      "Eu+3 + PO4-3 = EuPO4\n",
      "Gd+3 + PO4-3 = GdPO4\n",
      "Ho+3 + PO4-3 = HoPO4\n",
      "La+3 + PO4-3 = LaPO4\n",
      "Lu+3 + PO4-3 = LuPO4\n",
      "Nd+3 + PO4-3 = NdPO4\n",
      "Pr+3 + PO4-3 = PrPO4\n",
      "Sm+3 + PO4-3 = SmPO4\n",
      "Tb+3 + PO4-3 = TbPO4\n",
      "Tm+3 + PO4-3 = TmPO4\n",
      "Y+3 + PO4-3 = YPO4\n",
      "Yb+3 + PO4-3 = YbPO4\n",
      "Ce+3 + PO4-3 + 0.732H2O@ = rhabdophane-(Ce)\n",
      "Gd+3 + PO4-3 + 0.533H2O@ = rhabdophane-(Gd)\n",
      "La+3 + PO4-3 + 0.804H2O@ = rhabdophane-(La)\n",
      "Nd+3 + PO4-3 + 0.746H2O@ = rhabdophane-(Nd)\n",
      "Ce+3 + PO4-3 = CePO4\n",
      "Sm+3 + PO4-3 + 0.636H2O@ = rhabdophane-(Sm)\n"
     ]
    }
   ],
   "source": [
    "# using chemicalfun library to generate chemical reactions based on list of master species\n",
    "substances_formulas = aqueous_master_species+[s.formula() for s in substances]\n",
    "substances_symbols = aqueous_master_species+[s.symbol() for s in substances]\n",
    "\n",
    "chemicalReactions = cfun.ChemicalReactions(substances_formulas,substances_symbols)\n",
    "\n",
    "reactions = chemicalReactions.generateReactions(formation=True) # returns the reactions list as a list of tuples ('substance', coefficient)\n",
    "\n",
    "# list of dictionaries, with reaction substances as keys and the reaction coefficients as values\n",
    "reactions_dic = [{el[0]: el[1] for el in r} for r in reactions] \n",
    "\n",
    "# strings of reactions that can be used in ThermoFun to calculate the logK at different T and P\n",
    "reactions_list = chemicalReactions.stringReactions()\n",
    "\n",
    "for r in reactions_list:\n",
    "    print(r)\n",
    "#reactions_dic"
   ]
  },
  {
   "cell_type": "code",
   "execution_count": 12,
   "id": "7f9236da-5c7f-47aa-b9f2-9e860ea0e970",
   "metadata": {},
   "outputs": [],
   "source": [
    "from common.export import to_phreeqc\n",
    "engine = fun.ThermoEngine(REE)"
   ]
  },
  {
   "cell_type": "code",
   "execution_count": 13,
   "id": "8027a135-2ccb-4530-9d63-d1b9a026c81b",
   "metadata": {},
   "outputs": [
    {
     "name": "stderr",
     "output_type": "stream",
     "text": [
      "/home/dmiron/miniconda3/envs/thermofun-jupyter/lib/python3.9/site-packages/scipy/optimize/_minpack_py.py:881: OptimizeWarning: Covariance of the parameters could not be estimated\n",
      "  warnings.warn('Covariance of the parameters could not be estimated',\n"
     ]
    }
   ],
   "source": [
    "to_phreeqc('phreeqc_data.txt', engine, substances, reactions_list, reactions_dic, True)"
   ]
  },
  {
   "cell_type": "code",
   "execution_count": null,
   "id": "f2b277cd-a883-4945-8ab5-2ea9c30dfd72",
   "metadata": {},
   "outputs": [],
   "source": []
  }
 ],
 "metadata": {
  "kernelspec": {
   "display_name": "Python 3 (ipykernel)",
   "language": "python",
   "name": "python3"
  },
  "language_info": {
   "codemirror_mode": {
    "name": "ipython",
    "version": 3
   },
   "file_extension": ".py",
   "mimetype": "text/x-python",
   "name": "python",
   "nbconvert_exporter": "python",
   "pygments_lexer": "ipython3",
   "version": "3.9.15"
  },
  "toc": {
   "base_numbering": 1,
   "nav_menu": {},
   "number_sections": false,
   "sideBar": false,
   "skip_h1_title": false,
   "title_cell": "Table of Contents",
   "title_sidebar": "Contents",
   "toc_cell": false,
   "toc_position": {},
   "toc_section_display": false,
   "toc_window_display": false
  }
 },
 "nbformat": 4,
 "nbformat_minor": 5
}
