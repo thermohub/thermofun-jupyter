{
 "cells": [
  {
   "cell_type": "markdown",
   "id": "6299e07c",
   "metadata": {},
   "source": [
    "<img src=\"../common/fun_long_logo-01.png\">"
   ]
  },
  {
   "cell_type": "markdown",
   "id": "a1c2b3b7-ea0f-4d56-87b8-24b8520d3fd4",
   "metadata": {},
   "source": [
    "# Tutorial on database record and how to calculate properties using ThermoEngine.\n",
    "Miron et al., (2023). ThermoFun: A C++/Python library for computing standard thermodynamic properties of substances and reactions across wide ranges of temperatures and pressures. Journal of Open Source Software, 8(83), 4624\n",
    "\n",
    "[![DOI](https://joss.theoj.org/papers/10.21105/joss.04624/status.svg)](https://doi.org/10.21105/joss.04624)"
   ]
  },
  {
   "cell_type": "markdown",
   "id": "c8cdfd6f",
   "metadata": {},
   "source": [
    "### Import ThermoFun module\n",
    "ThermoFun delivers thermodynamic properties of substances and reactions at the temperature and pressure of interest."
   ]
  },
  {
   "cell_type": "code",
   "execution_count": null,
   "id": "151b0912",
   "metadata": {},
   "outputs": [],
   "source": [
    "import thermofun as fun"
   ]
  },
  {
   "cell_type": "markdown",
   "id": "49e7f131",
   "metadata": {},
   "source": [
    "### Initialize a ThermoFun database record - \n",
    "Thermofun needs a database of substances and or reactions. The data is in JSON format. Have a look at the json files '../databases/aq17-thermofun.json'. One can also use the available datasets in thermohub database and retrieve them uisng thermohubclient. ThermoHub contains the up to date datasets. \n",
    "Another possible source for ThermoFun database files is https://github.com/thermohub/thermohub mirror of thermohub database. "
   ]
  },
  {
   "cell_type": "code",
   "execution_count": null,
   "id": "76b3eaba",
   "metadata": {},
   "outputs": [],
   "source": [
    "# initalize using a local file\n",
    "aq17 = "
   ]
  },
  {
   "cell_type": "code",
   "execution_count": null,
   "id": "791dd85f-f4ce-485c-b14e-e26b6c618d5a",
   "metadata": {},
   "outputs": [],
   "source": [
    "# import thermohubclient to retreive datasets from ThermoHub\n",
    "import thermohubclient as client\n",
    "dbc = "
   ]
  },
  {
   "cell_type": "code",
   "execution_count": null,
   "id": "7b9987ed-fe82-479d-837a-15badfbdc9c9",
   "metadata": {},
   "outputs": [],
   "source": [
    "# what are the available datasets in ThermoHub \n",
    "dbc."
   ]
  },
  {
   "cell_type": "code",
   "execution_count": null,
   "id": "dcec8450-be92-4247-a28f-51ff413d744f",
   "metadata": {},
   "outputs": [],
   "source": [
    "# we initialize a thermofun database object with the mines19 dataset directly from themrohub using getDatabase function\n",
    "mines19 = "
   ]
  },
  {
   "cell_type": "code",
   "execution_count": null,
   "id": "4ae490db-d61a-428b-893e-670771a9e2dc",
   "metadata": {},
   "outputs": [],
   "source": [
    "# to get the actual file locally use the saveDatabase function\n",
    "# dbc.saveDatabase('mines19')"
   ]
  },
  {
   "cell_type": "markdown",
   "id": "039ce025",
   "metadata": {},
   "source": [
    "### The database object has several functions available for viewing and edditing records. Now let's print the available elements, substances and reactions. Use python print function. "
   ]
  },
  {
   "cell_type": "code",
   "execution_count": null,
   "id": "85baeae5",
   "metadata": {},
   "outputs": [],
   "source": [
    "print(mines19.mapElements().keys())"
   ]
  },
  {
   "cell_type": "code",
   "execution_count": null,
   "id": "1243d29a",
   "metadata": {},
   "outputs": [],
   "source": [
    "print(mines19.mapSubstances().keys())"
   ]
  },
  {
   "cell_type": "code",
   "execution_count": null,
   "id": "22b4a64f",
   "metadata": {},
   "outputs": [],
   "source": [
    "print(mines19.mapReactions().keys())"
   ]
  },
  {
   "cell_type": "markdown",
   "id": "b6a34950",
   "metadata": {},
   "source": [
    "### Inspect the reaction for Sn(Cl)+, print the reaction equation and the equilibrium constant. Hint: '.thermoReferenceProperties().log_equilibrium_constant.val'"
   ]
  },
  {
   "cell_type": "code",
   "execution_count": null,
   "id": "a5a6a6ad",
   "metadata": {},
   "outputs": [],
   "source": [
    "# print reaction equation\n",
    "sncl = \n",
    "print(sncl.equation())\n",
    "#sncl.jsonString()"
   ]
  },
  {
   "cell_type": "code",
   "execution_count": null,
   "id": "56446246",
   "metadata": {},
   "outputs": [],
   "source": [
    "refprops = "
   ]
  },
  {
   "cell_type": "code",
   "execution_count": null,
   "id": "92ca3c57",
   "metadata": {},
   "outputs": [],
   "source": [
    "refprops."
   ]
  },
  {
   "cell_type": "markdown",
   "id": "c1d7eabc",
   "metadata": {},
   "source": [
    "### ThermoFun engine class object\n",
    "For calculating properties of substances or reactions, at T and P other than reference values, we need a ThermoFun engine class object. This is initialized using a database."
   ]
  },
  {
   "cell_type": "code",
   "execution_count": null,
   "id": "25a28b27",
   "metadata": {},
   "outputs": [],
   "source": [
    "engine = "
   ]
  },
  {
   "cell_type": "markdown",
   "id": "da7a2f7c",
   "metadata": {},
   "source": [
    "### Calculate properties of Ca+2 and Calcite dissolution reaction (Calcite = Ca+2 + CO3-2). T = 348.15 K P = 1e5 Pa. \n",
    "ThermoFun engine uses SI units, so the values are for 50 C and 1 bar"
   ]
  },
  {
   "cell_type": "code",
   "execution_count": null,
   "id": "8e19b995",
   "metadata": {},
   "outputs": [],
   "source": [
    "subst_prop = "
   ]
  },
  {
   "cell_type": "markdown",
   "id": "ff76ed4d",
   "metadata": {},
   "source": [
    "### Extract the value\n",
    "The return type of the function is an object that contains the thermodynamic properties "
   ]
  },
  {
   "cell_type": "code",
   "execution_count": null,
   "id": "281cc594",
   "metadata": {},
   "outputs": [],
   "source": [
    "subst_prop."
   ]
  },
  {
   "cell_type": "markdown",
   "id": "95d14c99",
   "metadata": {},
   "source": [
    "### Calcite dissolution reaction (Calcite = Ca+2 + CO3-2), logK. print(f'logK (Cal = Ca+2 + CO3-2) is {logK.val}')"
   ]
  },
  {
   "cell_type": "code",
   "execution_count": null,
   "id": "a5d2389f",
   "metadata": {},
   "outputs": [],
   "source": [
    "reaction_properties = \n",
    "logK = \n",
    "print(f'logK (Cal = Ca+2 + CO3-2) is {logK.val}')"
   ]
  },
  {
   "cell_type": "markdown",
   "id": "00712a0e",
   "metadata": {},
   "source": [
    "### Extract the reaction entropy and Gibbs energy. Check the derivative of Gibbs energy with temperature. print(f' Entropy of reaction {Sr.val} is -dGr/dT = {-Gr.ddt}')\n",
    "The derivatives are corectly calculated for most methods in ThermoFun, if there is a discrepancy then the explicit values should be taken. "
   ]
  },
  {
   "cell_type": "code",
   "execution_count": null,
   "id": "48ef914b",
   "metadata": {},
   "outputs": [],
   "source": [
    "Sr = reaction_properties.\n",
    "Gr = reaction_properties.\n",
    "\n",
    "print(f' Entropy of reaction {Sr.val} (explicit) is -dGr/dT = {-Gr.ddt} (implicit)')"
   ]
  }
 ],
 "metadata": {
  "kernelspec": {
   "display_name": "Python 3 (ipykernel)",
   "language": "python",
   "name": "python3"
  },
  "language_info": {
   "codemirror_mode": {
    "name": "ipython",
    "version": 3
   },
   "file_extension": ".py",
   "mimetype": "text/x-python",
   "name": "python",
   "nbconvert_exporter": "python",
   "pygments_lexer": "ipython3",
   "version": "3.9.15"
  },
  "toc": {
   "base_numbering": 1,
   "nav_menu": {},
   "number_sections": false,
   "sideBar": false,
   "skip_h1_title": false,
   "title_cell": "Table of Contents",
   "title_sidebar": "Contents",
   "toc_cell": false,
   "toc_position": {},
   "toc_section_display": false,
   "toc_window_display": false
  }
 },
 "nbformat": 4,
 "nbformat_minor": 5
}
