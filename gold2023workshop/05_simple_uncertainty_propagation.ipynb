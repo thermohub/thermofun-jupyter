{
 "cells": [
  {
   "cell_type": "markdown",
   "id": "6299e07c",
   "metadata": {},
   "source": [
    "<img src=\"../common/fun_long_logo-01.png\">"
   ]
  },
  {
   "cell_type": "markdown",
   "id": "a1c2b3b7-ea0f-4d56-87b8-24b8520d3fd4",
   "metadata": {},
   "source": [
    "# Tutorial on uncertainty propagation in ThermoFun.\n",
    "Miron et al., (2023). ThermoFun: A C++/Python library for computing standard thermodynamic properties of substances and reactions across wide ranges of temperatures and pressures. Journal of Open Source Software, 8(83), 4624\n",
    "\n",
    "[![DOI](https://joss.theoj.org/papers/10.21105/joss.04624/status.svg)](https://doi.org/10.21105/joss.04624)"
   ]
  },
  {
   "cell_type": "markdown",
   "id": "c8cdfd6f",
   "metadata": {},
   "source": [
    "### Import ThermoFun module\n",
    "ThermoFun delivers thermodynamic properties of substances and reactions at the temperature and pressure of interest."
   ]
  },
  {
   "cell_type": "code",
   "execution_count": 1,
   "id": "151b0912",
   "metadata": {},
   "outputs": [],
   "source": [
    "import thermofun as fun"
   ]
  },
  {
   "cell_type": "markdown",
   "id": "49e7f131",
   "metadata": {},
   "source": [
    "### Initialize a ThermoFun database record - \n",
    "Thermofun needs a database of substances and or reactions. The data is in JSON format. Have a look at the json files '../databases/'. One can also use the available datasets in thermohub database and retrieve them uisng thermohubclient. ThermoHub contains the up to date datasets. \n",
    "Another possible source for ThermoFun database files is https://github.com/thermohub/thermohub mirror of thermohub database."
   ]
  },
  {
   "cell_type": "code",
   "execution_count": 2,
   "id": "76b3eaba",
   "metadata": {},
   "outputs": [],
   "source": [
    "# initalize using a local file\n",
    "aq17 = fun.Database('../databases/aq17-thermofune.json')"
   ]
  },
  {
   "cell_type": "markdown",
   "id": "c1d7eabc",
   "metadata": {},
   "source": [
    "### ThermoFun engine class object\n",
    "For calculating properties of substances or reactions, at T and P other than reference values, we need a ThermoFun engine class object. This is initialized using a database."
   ]
  },
  {
   "cell_type": "code",
   "execution_count": 3,
   "id": "25a28b27",
   "metadata": {},
   "outputs": [],
   "source": [
    "engine = fun.ThermoEngine(aq17)"
   ]
  },
  {
   "cell_type": "markdown",
   "id": "da7a2f7c",
   "metadata": {},
   "source": [
    "### Calculate properties of Ca+2 and Calcite dissolution reaction (Calcite = Ca+2 + CO3-2). T = 348.15 K P = 1e5 Pa. \n",
    "ThermoFun engine uses SI units, so the values are for 50 C and 1 bar"
   ]
  },
  {
   "cell_type": "code",
   "execution_count": 4,
   "id": "8e19b995",
   "metadata": {},
   "outputs": [],
   "source": [
    "subst_prop = engine.thermoPropertiesSubstance(298.15, 1e5, \"Ca+2\")"
   ]
  },
  {
   "cell_type": "markdown",
   "id": "ff76ed4d",
   "metadata": {},
   "source": [
    "### Extract the value\n",
    "The return type of the function is an object that contains the thermodynamic properties "
   ]
  },
  {
   "cell_type": "code",
   "execution_count": 5,
   "id": "281cc594",
   "metadata": {},
   "outputs": [
    {
     "data": {
      "text/plain": [
       "-552821.0000018952"
      ]
     },
     "execution_count": 5,
     "metadata": {},
     "output_type": "execute_result"
    }
   ],
   "source": [
    "subst_prop.gibbs_energy.val"
   ]
  },
  {
   "cell_type": "code",
   "execution_count": 6,
   "id": "bce9d8dc-431d-4302-9778-a48a2e116cff",
   "metadata": {},
   "outputs": [
    {
     "data": {
      "text/plain": [
       "-500.00000000000006"
      ]
     },
     "execution_count": 6,
     "metadata": {},
     "output_type": "execute_result"
    }
   ],
   "source": [
    "subst_prop.gibbs_energy.err"
   ]
  },
  {
   "cell_type": "code",
   "execution_count": 7,
   "id": "3e912e07-1683-4393-ae75-20296afba6f5",
   "metadata": {},
   "outputs": [
    {
     "data": {
      "text/plain": [
       "-1.844091659765844e-05"
      ]
     },
     "execution_count": 7,
     "metadata": {},
     "output_type": "execute_result"
    }
   ],
   "source": [
    "subst_prop.gibbs_energy.ddp"
   ]
  },
  {
   "cell_type": "code",
   "execution_count": 8,
   "id": "f7950715-c4b7-4b8a-b56d-952c34372818",
   "metadata": {},
   "outputs": [
    {
     "data": {
      "text/plain": [
       "-56.485153151060956"
      ]
     },
     "execution_count": 8,
     "metadata": {},
     "output_type": "execute_result"
    }
   ],
   "source": [
    "subst_prop.entropy.val"
   ]
  },
  {
   "cell_type": "code",
   "execution_count": 9,
   "id": "8e792c28-7e58-4d4e-890d-8be13ce1b1c7",
   "metadata": {},
   "outputs": [
    {
     "data": {
      "text/plain": [
       "-3.2"
      ]
     },
     "execution_count": 9,
     "metadata": {},
     "output_type": "execute_result"
    }
   ],
   "source": [
    "subst_prop.entropy.err"
   ]
  },
  {
   "cell_type": "code",
   "execution_count": 10,
   "id": "477df8e7-ab40-4749-8911-521d7383ea7b",
   "metadata": {},
   "outputs": [
    {
     "data": {
      "text/plain": [
       "56.4851531510603"
      ]
     },
     "execution_count": 10,
     "metadata": {},
     "output_type": "execute_result"
    }
   ],
   "source": [
    "subst_prop.gibbs_energy.ddt"
   ]
  },
  {
   "cell_type": "markdown",
   "id": "95d14c99",
   "metadata": {},
   "source": [
    "### Calcite dissolution reaction (Calcite = Ca+2 + CO3-2), logK. print(f'logK (Cal = Ca+2 + CO3-2) is {logK.val}')"
   ]
  },
  {
   "cell_type": "code",
   "execution_count": 11,
   "id": "a5d2389f",
   "metadata": {},
   "outputs": [
    {
     "name": "stdout",
     "output_type": "stream",
     "text": [
      "logK (Calcite = Ca+2 + CO3-2) is -8.478083369428616\n"
     ]
    }
   ],
   "source": [
    "reaction_properties = engine.thermoPropertiesReaction(298.15, 0, \"Calcite = Ca+2 + CO3-2\")\n",
    "logK = reaction_properties.log_equilibrium_constant\n",
    "print(f'logK (Calcite = Ca+2 + CO3-2) is {logK.val}')"
   ]
  },
  {
   "cell_type": "code",
   "execution_count": 12,
   "id": "960d4a79-d71d-4012-8828-2fcdf52e3f1a",
   "metadata": {},
   "outputs": [
    {
     "data": {
      "text/plain": [
       "0.11353701759420286"
      ]
     },
     "execution_count": 12,
     "metadata": {},
     "output_type": "execute_result"
    }
   ],
   "source": [
    "logK.err"
   ]
  },
  {
   "cell_type": "markdown",
   "id": "00712a0e",
   "metadata": {},
   "source": [
    "### Extract the reaction entropy and Gibbs energy. Check the derivative of Gibbs energy with temperature. print(f' Entropy of reaction {Sr.val} is -dGr/dT = {-Gr.ddt}')\n",
    "The derivatives are corectly calculated for most methods in ThermoFun, if there is a discrepancy then the explicit values should be taken. "
   ]
  },
  {
   "cell_type": "code",
   "execution_count": 13,
   "id": "48ef914b",
   "metadata": {},
   "outputs": [
    {
     "name": "stdout",
     "output_type": "stream",
     "text": [
      " Entropy of reaction -198.98579085791573 (explicit) is -dGr/dT = -198.98579085792625 (implicit)\n"
     ]
    }
   ],
   "source": [
    "Sr = reaction_properties.reaction_entropy\n",
    "Gr = reaction_properties.reaction_gibbs_energy\n",
    "\n",
    "print(f' Entropy of reaction {Sr.val} (explicit) is -dGr/dT = {-Gr.ddt} (implicit)')"
   ]
  },
  {
   "cell_type": "code",
   "execution_count": 14,
   "id": "e042283b-15c7-431e-a172-8819d88c2edc",
   "metadata": {},
   "outputs": [],
   "source": [
    "import numpy as np\n",
    "import matplotlib.pyplot as plt\n",
    "\n",
    "# Generate x-axis values\n",
    "T_values = np.arange(0, 201, 5)"
   ]
  },
  {
   "cell_type": "code",
   "execution_count": 15,
   "id": "03d873c9-7ad2-4a52-b39d-219697fe6fb2",
   "metadata": {},
   "outputs": [],
   "source": [
    "# Example data\n",
    "\n",
    "logKs = [engine.thermoPropertiesReaction(T+273.15, 0, \"Calcite = Ca+2 + CO3-2\").log_equilibrium_constant.val for T in T_values]\n",
    "logKerrors = [engine.thermoPropertiesReaction(T+273.15, 0, \"Calcite = Ca+2 + CO3-2\").log_equilibrium_constant.err for T in T_values]\n",
    "\n",
    "# Convert lists to NumPy arrays\n",
    "logKs = np.array(logKs)\n",
    "logKerrors = np.array(logKerrors)\n"
   ]
  },
  {
   "cell_type": "code",
   "execution_count": 16,
   "id": "cf9529e2-ffea-4fd8-98a1-a6a7c3b510bd",
   "metadata": {},
   "outputs": [
    {
     "data": {
      "text/plain": [
       "array([0.16437633, 0.1483523 , 0.13490511, 0.12440864, 0.11721395,\n",
       "       0.11353702, 0.11334742, 0.11633409, 0.1219811 , 0.12970043,\n",
       "       0.13894289, 0.14925299, 0.16027845, 0.1717572 , 0.18349816,\n",
       "       0.19536329, 0.2072532 , 0.21909647, 0.2308419 , 0.24245289,\n",
       "       0.25390354, 0.26517579, 0.27625738, 0.28714034, 0.29781994,\n",
       "       0.30829385, 0.31856156, 0.32862391, 0.33848279, 0.34814082,\n",
       "       0.35760121, 0.36686756, 0.37594377, 0.38483394, 0.39354229,\n",
       "       0.40207311, 0.41043074, 0.41861949, 0.42664365, 0.43450745,\n",
       "       0.44221508])"
      ]
     },
     "execution_count": 16,
     "metadata": {},
     "output_type": "execute_result"
    }
   ],
   "source": [
    "logKerrors"
   ]
  },
  {
   "cell_type": "code",
   "execution_count": 17,
   "id": "5a6e1534-d0c2-459f-897c-1a7ccfac5e49",
   "metadata": {},
   "outputs": [],
   "source": [
    "from common.plotting import set_plot_dimensions"
   ]
  },
  {
   "cell_type": "code",
   "execution_count": 18,
   "id": "6e1ba4b5-30d9-4290-a47a-370023bacee0",
   "metadata": {},
   "outputs": [
    {
     "data": {
      "image/png": "[encoded data removed]",
      "text/plain": [
       "<Figure size 800x600 with 1 Axes>"
      ]
     },
     "metadata": {},
     "output_type": "display_data"
    }
   ],
   "source": [
    "# Calculate upper and lower bounds for the error band\n",
    "lower_bound = logKs - logKerrors\n",
    "upper_bound = logKs + logKerrors\n",
    "\n",
    "set_plot_dimensions()\n",
    "\n",
    "# Plotting\n",
    "plt.figure(figsize=(8, 6))\n",
    "plt.plot(T_values, logKs, color='blue', label='Calcite')\n",
    "plt.fill_between(T_values, lower_bound, upper_bound, color='blue', alpha=0.3, label='Error Band')\n",
    "plt.xlabel('Temperature')\n",
    "plt.ylabel('logK')\n",
    "plt.title('Calcite = Ca+2 + CO3-2')\n",
    "plt.legend()\n",
    "plt.grid(True)\n",
    "#plt.yscale('log')  # Setting y-axis to logarithmic scale\n",
    "plt.show()"
   ]
  },
  {
   "cell_type": "code",
   "execution_count": null,
   "id": "925bb937-49e5-4b23-bd0f-37ae88d912e9",
   "metadata": {},
   "outputs": [],
   "source": []
  }
 ],
 "metadata": {
  "kernelspec": {
   "display_name": "Python 3 (ipykernel)",
   "language": "python",
   "name": "python3"
  },
  "language_info": {
   "codemirror_mode": {
    "name": "ipython",
    "version": 3
   },
   "file_extension": ".py",
   "mimetype": "text/x-python",
   "name": "python",
   "nbconvert_exporter": "python",
   "pygments_lexer": "ipython3",
   "version": "3.10.12"
  },
  "toc": {
   "base_numbering": 1,
   "nav_menu": {},
   "number_sections": false,
   "sideBar": false,
   "skip_h1_title": false,
   "title_cell": "Table of Contents",
   "title_sidebar": "Contents",
   "toc_cell": false,
   "toc_position": {},
   "toc_section_display": false,
   "toc_window_display": false
  }
 },
 "nbformat": 4,
 "nbformat_minor": 5
}
