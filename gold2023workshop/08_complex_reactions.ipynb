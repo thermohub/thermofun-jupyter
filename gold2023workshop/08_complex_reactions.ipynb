{
 "cells": [
  {
   "cell_type": "code",
   "execution_count": 1,
   "id": "afd66cb1-cd2a-4ffd-8cef-80b589c58529",
   "metadata": {},
   "outputs": [],
   "source": [
    "import chemicalfun as cf\n",
    "import thermofun as tf\n",
    "import thermohubclient as thc"
   ]
  },
  {
   "cell_type": "code",
   "execution_count": 2,
   "id": "359be840-b4d3-48b9-9e05-e685e4330078",
   "metadata": {},
   "outputs": [],
   "source": [
    "formulas = ['Ca+2', 'CO3-2', 'H+', 'OH-', 'HCO3-', 'CaCO3', 'H2O']"
   ]
  },
  {
   "cell_type": "code",
   "execution_count": 3,
   "id": "a7b5dc8d-fd1f-4b77-9977-030a81f58e6a",
   "metadata": {},
   "outputs": [
    {
     "name": "stdout",
     "output_type": "stream",
     "text": [
      "HCO3- = H+ + CO3-2\n",
      "CaCO3 = CO3-2 + Ca+2\n",
      "H2O = OH- + H+\n",
      "\n",
      "[{'CO3-2': 1.0, 'H+': 1.0, 'HCO3-': -1.0}, {'Ca+2': 1.0, 'CO3-2': 1.0, 'CaCO3': -1.0}, {'H+': 1.0, 'OH-': 1.0, 'H2O': -1.0}]\n"
     ]
    }
   ],
   "source": [
    "chemicalReactions = cf.ChemicalReactions(formulas)\n",
    "\n",
    "reactions = chemicalReactions.generateReactions() # returns the reactions list as a list of tuples ('substance', coefficient)\n",
    "\n",
    "# can be transformed to a list of dictionaries, with reaction substances as keys and the reaction coefficients as values\n",
    "reactions_dic = [{el[0]: el[1] for el in r} for r in reactions] \n",
    "\n",
    "print(chemicalReactions.printReactions())\n",
    "print(reactions_dic)"
   ]
  },
  {
   "cell_type": "code",
   "execution_count": 4,
   "id": "62372b28-2ad1-41f2-9426-336d8c2f2e5a",
   "metadata": {},
   "outputs": [],
   "source": [
    "dbc = thc.DatabaseClient()"
   ]
  },
  {
   "cell_type": "code",
   "execution_count": 5,
   "id": "f8d0099b-4b5b-42d1-b336-ebaf0c623f58",
   "metadata": {},
   "outputs": [],
   "source": [
    "dbc.saveDatabaseContainingElements(\"mines19\", [\"H\", \"O\", \"Ca\", \"Fe\", \"Si\", \"C\", \"S\", \"Zz\"])"
   ]
  },
  {
   "cell_type": "code",
   "execution_count": 6,
   "id": "dd3fb80e-d301-4227-920b-2da7a554dc4f",
   "metadata": {},
   "outputs": [],
   "source": [
    "mines19sub = tf.Database('mines19-subset-thermofun.json')"
   ]
  },
  {
   "cell_type": "code",
   "execution_count": 7,
   "id": "d0d9c0d7-7028-42d3-8369-b1b8a85ec1f3",
   "metadata": {},
   "outputs": [
    {
     "name": "stdout",
     "output_type": "stream",
     "text": [
      "dict_keys(['Andradite', 'Anhydrite', 'Ankerite', 'Aragonite', 'CH4', 'CH4@', 'CO', 'CO2', 'CO2@', 'CO3-2', 'CO@', 'Ca(SO4)@', 'Ca+2', 'CaCO3@', 'CaHCO3+', 'CaHSiO3+', 'CaOH+', 'CaSiO3@', 'Calcite', 'Calcium ferrite', 'Chalcedony', 'Coesite', 'Cristobalite', 'Diamond', 'Dicalcium ferrit', 'Fayalite', 'Fe(CO3)@', 'Fe(HCO3)+', 'Fe(OH)3', 'Fe+2', 'Fe+3', 'Fe-Talc', 'Fe-anthophyllite', 'FeO+', 'FeO2-', 'FeO2H-', 'FeO2H@', 'FeO@', 'FeOH+', 'FeOH+2', 'Ferric sulfate', 'Ferroactinolite', 'Ferrosilite', 'Ferrous oxide', 'Goethite', 'Graphite', 'Grunerite', 'H+', 'H2', 'H2@', 'H2O', 'H2O2@', 'H2O@', 'H2S', 'H2S2O3@', 'H2S2O4@', 'H2S@', 'HCO3-', 'HO2-', 'HS-', 'HS2O3-', 'HS2O4-', 'HSO3-', 'HSO4-', 'HSO5-', 'HSiO3-', 'Hedenbergite', 'Hematite', 'Larnite', 'Lime', 'Magnetite', 'Marcasite', 'O2', 'O2@', 'OH-', 'Oldhamite', 'Portlandite', 'Pseudowollastoni', 'Pyrite', 'Pyrrhotite', 'Quartz', 'Rankinite', 'S2-2', 'S2O3-2', 'S2O4-2', 'S2O5-2', 'S2O6-2', 'S2O8-2', 'S3-2', 'S3O6-2', 'S4-2', 'S4O6-2', 'S5-2', 'S5O6-2', 'SO2', 'SO2@', 'SO3-2', 'SO4-2', 'SiO2@', 'Siderite', 'Spurrite', 'Stishovite', 'Tilleyite', 'Tridymite', 'Troilite', 'Wollastonite', 'Wustite'])\n"
     ]
    }
   ],
   "source": [
    "print(mines19sub.mapSubstances().keys())"
   ]
  },
  {
   "cell_type": "code",
   "execution_count": 8,
   "id": "b4e2c905-c43c-483f-bb6d-ad0fee2323eb",
   "metadata": {},
   "outputs": [],
   "source": [
    "formulas = [s.formula() for s in mines19sub.mapSubstances().values()]"
   ]
  },
  {
   "cell_type": "code",
   "execution_count": 9,
   "id": "04092ba8-722d-47a3-864a-9c6e9546efc1",
   "metadata": {},
   "outputs": [],
   "source": [
    "formulas = ['Ca+2', 'Fe|3|+3','OH-', 'CO3-2', 'SO4-2', 'SiO2@', 'H2O@', 'O|0|2@', '{Ca}3:{Fe|3|}2:Si3O12', 'CaSO4', 'CaFe(CO3)2', 'CaCO3', 'C|-4|H4', 'C|-4|H4@', 'C|2|O', 'CO2', 'CO2@',  'C|2|O@', 'CaSO4@', 'CaCO3@', 'CaHCO3+', 'CaHSiO3+', 'CaOH+', 'CaSiO3@', 'CaCO3',  'SiO2', 'SiO2', 'SiO2', 'C|0|',  '{Fe}2:SiO4', 'FeCO3@', 'FeHCO3+', 'Fe|3|(OH)3', 'Fe+2',  '{Fe}3:Si4O10(OH)2', 'Fe7Si8O22(OH)2', 'Fe|3|O+', 'Fe|3|O2-', 'HFeO2-', 'Fe|3|O2H@', 'FeO@', 'FeOH+', 'Fe|3|(OH)+2',  '{Ca}2:{Fe}5:Si8O22(OH)2', 'Fe2Si2O6',  'Fe|3|O(OH)', 'C|0|', 'Fe2Fe5Si8O22(OH)2', 'H+', 'H|0|2', 'H|0|2@', 'H2O', 'H2OO|0|@',  'H2S|-2|', 'H2S|2|2O3@', 'H2S|3|2O4@', 'H2S|-2|@', 'HCO3-', 'HOO|0|-', 'HS|-2|-', 'HS|2|2O3-', 'HS|3|2O4-', 'HS|4|O3-', 'HSO4-', 'HS|8|O5-', 'HSiO3-', '{Ca}:{Fe}:Si2O6', 'Fe|3|2O3', 'Ca2SiO4', 'CaO', 'FeFe|3|2O4', 'Fe|+4|S2', 'O|0|2',   'CaS', 'Ca(OH)2', 'CaSiO3', 'FeS|0|S|-2|', 'Fe|3|0.2Fe0.7S|-2|', 'SiO2', 'Ca3Si2O7', 'S|0|S|-2|-2', 'S|2|2O3-2', 'S|3|2O4-2', 'S|4|2O5-2', 'S|5|2O6-2', 'S|7|2O8-2', 'S|0|2S|-2|-2', 'S|4|S|3|2O6-2', 'S|0|3S|-2|-2', 'S|3|2S|2|2O6-2', 'S|0|4S|-2|-2', 'S|2|5O6-2', 'S|4|O2', 'S|4|O2@', 'S|4|O3-2', 'FeCO3', 'Ca5Si2O8(CO3)', 'SiO2', 'Ca5Si2O7(CO3)2', 'SiO2', 'FeS', 'CaSiO3', 'Fe0.947O']"
   ]
  },
  {
   "cell_type": "code",
   "execution_count": 10,
   "id": "a305ece1-d960-41ff-91ce-3e3618979b34",
   "metadata": {},
   "outputs": [],
   "source": [
    "symbols = ['Ca+2', 'Fe+3', 'OH-', 'CO3-2', 'SO4-2', 'SiO2@', 'H2O@', 'O2@','Andradite', 'Anhydrite', 'Ankerite', 'Aragonite', 'CH4', 'CH4@', 'CO', 'CO2', 'CO2@',  'CO@', 'Ca(SO4)@',  'CaCO3@', 'CaHCO3+', 'CaHSiO3+', 'CaOH+', 'CaSiO3@', 'Calcite',  'Chalcedony', 'Coesite', 'Cristobalite', 'Diamond',  'Fayalite', 'Fe(CO3)@', 'Fe(HCO3)+', 'Fe(OH)3', 'Fe+2',  'Fe-Talc', 'Fe-anthophyllite', 'FeO+', 'FeO2-', 'FeO2H-', 'FeO2H@', 'FeO@', 'FeOH+', 'FeOH+2', 'Ferroactinolite', 'Ferrosilite',  'Goethite', 'Graphite', 'Grunerite', 'H+', 'H2', 'H2@', 'H2O', 'H2O2@',  'H2S', 'H2S2O3@', 'H2S2O4@', 'H2S@', 'HCO3-', 'HO2-', 'HS-', 'HS2O3-', 'HS2O4-', 'HSO3-', 'HSO4-', 'HSO5-', 'HSiO3-', 'Hedenbergite', 'Hematite', 'Larnite', 'Lime', 'Magnetite', 'Marcasite', 'O2',   'Oldhamite', 'Portlandite', 'Pseudowollastoni', 'Pyrite', 'Pyrrhotite', 'Quartz', 'Rankinite', 'S2-2', 'S2O3-2', 'S2O4-2', 'S2O5-2', 'S2O6-2', 'S2O8-2', 'S3-2', 'S3O6-2', 'S4-2', 'S4O6-2', 'S5-2', 'S5O6-2', 'SO2', 'SO2@', 'SO3-2',  'Siderite', 'Spurrite', 'Stishovite', 'Tilleyite', 'Tridymite', 'Troilite', 'Wollastonite', 'Wustite']"
   ]
  },
  {
   "cell_type": "code",
   "execution_count": 11,
   "id": "49a6e47a-dbd3-44be-a3dc-0ff237732476",
   "metadata": {},
   "outputs": [],
   "source": [
    "#formulas = ['Ca+2', 'CO3-2', 'H+', 'OH-', 'HCO3-', 'CaCO3', 'H2O']\n",
    "\n",
    "chemicalReactions = cf.ChemicalReactions(formulas, symbols)\n",
    "\n",
    "reactions = chemicalReactions.generateReactions() "
   ]
  },
  {
   "cell_type": "code",
   "execution_count": 12,
   "id": "c6628739-4827-4012-886a-03abe4564cda",
   "metadata": {},
   "outputs": [
    {
     "name": "stdout",
     "output_type": "stream",
     "text": [
      "Andradite + 6H2O@ = 3SiO2@ + 12OH- + 2Fe+3 + 3Ca+2\n",
      "Anhydrite = SO4-2 + Ca+2\n",
      "Ankerite + 0.25O2@ + 0.5H2O@ = 2CO3-2 + OH- + Fe+3 + Ca+2\n",
      "Aragonite = CO3-2 + Ca+2\n",
      "CH4 + 2O2@ + 2OH- = 3H2O@ + CO3-2\n",
      "CH4@ + 2O2@ + 2OH- = 3H2O@ + CO3-2\n",
      "CO + 0.5O2@ + 2OH- = H2O@ + CO3-2\n",
      "CO2 + 2OH- = H2O@ + CO3-2\n",
      "CO2@ + 2OH- = H2O@ + CO3-2\n",
      "CO@ + 0.5O2@ + 2OH- = H2O@ + CO3-2\n",
      "Ca(SO4)@ = SO4-2 + Ca+2\n",
      "CaCO3@ = CO3-2 + Ca+2\n",
      "CaHCO3+ + OH- = H2O@ + CO3-2 + Ca+2\n",
      "CaHSiO3+ = SiO2@ + OH- + Ca+2\n",
      "CaOH+ = OH- + Ca+2\n",
      "CaSiO3@ + H2O@ = SiO2@ + 2OH- + Ca+2\n",
      "Calcite = CO3-2 + Ca+2\n",
      "Chalcedony = SiO2@\n",
      "Coesite = SiO2@\n",
      "Cristobalite = SiO2@\n",
      "Diamond + O2@ + 2OH- = H2O@ + CO3-2\n",
      "Fayalite + 0.5O2@ + 3H2O@ = SiO2@ + 6OH- + 2Fe+3\n",
      "Fe(CO3)@ + 0.25O2@ + 0.5H2O@ = CO3-2 + OH- + Fe+3\n",
      "Fe(HCO3)+ + 0.25O2@ = 0.5H2O@ + CO3-2 + Fe+3\n",
      "Fe(OH)3 = 3OH- + Fe+3\n",
      "Fe+2 + 0.25O2@ + 0.5H2O@ = OH- + Fe+3\n",
      "Fe-Talc + 0.75O2@ + 3.5H2O@ = 4SiO2@ + 9OH- + 3Fe+3\n",
      "Fe-anthophyllite + 1.75O2@ + 9.5H2O@ = 8SiO2@ + 21OH- + 7Fe+3\n",
      "FeO+ + H2O@ = 2OH- + Fe+3\n",
      "FeO2- + 2H2O@ = 4OH- + Fe+3\n",
      "FeO2H- + 0.25O2@ + 1.5H2O@ = 4OH- + Fe+3\n",
      "FeO2H@ + H2O@ = 3OH- + Fe+3\n",
      "FeO@ + 0.25O2@ + 1.5H2O@ = 3OH- + Fe+3\n",
      "FeOH+ + 0.25O2@ + 0.5H2O@ = 2OH- + Fe+3\n",
      "FeOH+2 = OH- + Fe+3\n",
      "Ferroactinolite + 1.25O2@ + 8.5H2O@ = 8SiO2@ + 19OH- + 5Fe+3 + 2Ca+2\n",
      "Ferrosilite + 0.5O2@ + 3H2O@ = 2SiO2@ + 6OH- + 2Fe+3\n",
      "Goethite + H2O@ = 3OH- + Fe+3\n",
      "Graphite + O2@ + 2OH- = H2O@ + CO3-2\n",
      "Grunerite + 1.75O2@ + 9.5H2O@ = 8SiO2@ + 21OH- + 7Fe+3\n",
      "H+ + OH- = H2O@\n",
      "H2 + 0.5O2@ = H2O@\n",
      "H2@ + 0.5O2@ = H2O@\n",
      "H2O = H2O@\n",
      "H2O2@ = 0.5O2@ + H2O@\n",
      "H2S + 2O2@ + 2OH- = 2H2O@ + SO4-2\n",
      "H2S2O3@ + 2O2@ + 4OH- = 3H2O@ + 2SO4-2\n",
      "H2S2O4@ + 1.5O2@ + 4OH- = 3H2O@ + 2SO4-2\n",
      "H2S@ + 2O2@ + 2OH- = 2H2O@ + SO4-2\n",
      "HCO3- + OH- = H2O@ + CO3-2\n",
      "HO2- = 0.5O2@ + OH-\n",
      "HS- + 2O2@ + OH- = H2O@ + SO4-2\n",
      "HS2O3- + 2O2@ + 3OH- = 2H2O@ + 2SO4-2\n",
      "HS2O4- + 1.5O2@ + 3OH- = 2H2O@ + 2SO4-2\n",
      "HSO3- + 0.5O2@ + OH- = H2O@ + SO4-2\n",
      "HSO4- + OH- = H2O@ + SO4-2\n",
      "HSO5- + OH- = 0.5O2@ + H2O@ + SO4-2\n",
      "HSiO3- = SiO2@ + OH-\n",
      "Hedenbergite + 0.25O2@ + 2.5H2O@ = 2SiO2@ + 5OH- + Fe+3 + Ca+2\n",
      "Hematite + 3H2O@ = 6OH- + 2Fe+3\n",
      "Larnite + 2H2O@ = SiO2@ + 4OH- + 2Ca+2\n",
      "Lime + H2O@ = 2OH- + Ca+2\n",
      "Magnetite + 0.25O2@ + 4.5H2O@ = 9OH- + 3Fe+3\n",
      "Marcasite + 3.75O2@ + OH- = 0.5H2O@ + 2SO4-2 + Fe+3\n",
      "O2 = O2@\n",
      "Oldhamite + 2O2@ = SO4-2 + Ca+2\n",
      "Portlandite = 2OH- + Ca+2\n",
      "Pseudowollastoni + H2O@ = SiO2@ + 2OH- + Ca+2\n",
      "Pyrite + 3.75O2@ + OH- = 0.5H2O@ + 2SO4-2 + Fe+3\n",
      "Pyrrhotite + 2.175O2@ + 0.35H2O@ = SO4-2 + 0.7OH- + 0.9Fe+3\n",
      "Quartz = SiO2@\n",
      "Rankinite + 3H2O@ = 2SiO2@ + 6OH- + 3Ca+2\n",
      "S2-2 + 3.5O2@ + 2OH- = H2O@ + 2SO4-2\n",
      "S2O3-2 + 2O2@ + 2OH- = H2O@ + 2SO4-2\n",
      "S2O4-2 + 1.5O2@ + 2OH- = H2O@ + 2SO4-2\n",
      "S2O5-2 + O2@ + 2OH- = H2O@ + 2SO4-2\n",
      "S2O6-2 + 0.5O2@ + 2OH- = H2O@ + 2SO4-2\n",
      "S2O8-2 + 2OH- = 0.5O2@ + H2O@ + 2SO4-2\n",
      "S3-2 + 5O2@ + 4OH- = 2H2O@ + 3SO4-2\n",
      "S3O6-2 + 2O2@ + 4OH- = 2H2O@ + 3SO4-2\n",
      "S4-2 + 6.5O2@ + 6OH- = 3H2O@ + 4SO4-2\n",
      "S4O6-2 + 3.5O2@ + 6OH- = 3H2O@ + 4SO4-2\n",
      "S5-2 + 8O2@ + 8OH- = 4H2O@ + 5SO4-2\n",
      "S5O6-2 + 5O2@ + 8OH- = 4H2O@ + 5SO4-2\n",
      "SO2 + 0.5O2@ + 2OH- = H2O@ + SO4-2\n",
      "SO2@ + 0.5O2@ + 2OH- = H2O@ + SO4-2\n",
      "SO3-2 + 0.5O2@ = SO4-2\n",
      "Siderite + 0.25O2@ + 0.5H2O@ = CO3-2 + OH- + Fe+3\n",
      "Spurrite + 4H2O@ = 2SiO2@ + CO3-2 + 8OH- + 5Ca+2\n",
      "Stishovite = SiO2@\n",
      "Tilleyite + 3H2O@ = 2SiO2@ + 2CO3-2 + 6OH- + 5Ca+2\n",
      "Tridymite = SiO2@\n",
      "Troilite + 2.25O2@ + 0.5H2O@ = SO4-2 + OH- + Fe+3\n",
      "Wollastonite + H2O@ = SiO2@ + 2OH- + Ca+2\n",
      "Wustite + 0.21025O2@ + 1.4205H2O@ = 2.841OH- + 0.947Fe+3\n",
      "\n",
      "master: ['Ca+2', 'Fe+3', 'OH-', 'CO3-2', 'SO4-2', 'SiO2@', 'H2O@', 'O2@']\n",
      "dependent: ['Andradite', 'Anhydrite', 'Ankerite', 'Aragonite', 'CH4', 'CH4@', 'CO', 'CO2', 'CO2@', 'CO@', 'Ca(SO4)@', 'CaCO3@', 'CaHCO3+', 'CaHSiO3+', 'CaOH+', 'CaSiO3@', 'Calcite', 'Chalcedony', 'Coesite', 'Cristobalite', 'Diamond', 'Fayalite', 'Fe(CO3)@', 'Fe(HCO3)+', 'Fe(OH)3', 'Fe+2', 'Fe-Talc', 'Fe-anthophyllite', 'FeO+', 'FeO2-', 'FeO2H-', 'FeO2H@', 'FeO@', 'FeOH+', 'FeOH+2', 'Ferroactinolite', 'Ferrosilite', 'Goethite', 'Graphite', 'Grunerite', 'H+', 'H2', 'H2@', 'H2O', 'H2O2@', 'H2S', 'H2S2O3@', 'H2S2O4@', 'H2S@', 'HCO3-', 'HO2-', 'HS-', 'HS2O3-', 'HS2O4-', 'HSO3-', 'HSO4-', 'HSO5-', 'HSiO3-', 'Hedenbergite', 'Hematite', 'Larnite', 'Lime', 'Magnetite', 'Marcasite', 'O2', 'Oldhamite', 'Portlandite', 'Pseudowollastoni', 'Pyrite', 'Pyrrhotite', 'Quartz', 'Rankinite', 'S2-2', 'S2O3-2', 'S2O4-2', 'S2O5-2', 'S2O6-2', 'S2O8-2', 'S3-2', 'S3O6-2', 'S4-2', 'S4O6-2', 'S5-2', 'S5O6-2', 'SO2', 'SO2@', 'SO3-2', 'Siderite', 'Spurrite', 'Stishovite', 'Tilleyite', 'Tridymite', 'Troilite', 'Wollastonite', 'Wustite']\n"
     ]
    }
   ],
   "source": [
    "print(chemicalReactions.printReactions())\n",
    "print(f'master: {chemicalReactions.masterSubstances()}')\n",
    "print(f'dependent: {chemicalReactions.dependentSubstances()}')"
   ]
  },
  {
   "cell_type": "code",
   "execution_count": 13,
   "id": "2376415d-7dd0-445e-8c6d-06989a28adfd",
   "metadata": {},
   "outputs": [],
   "source": [
    "engine = tf.ThermoEngine(mines19sub)"
   ]
  },
  {
   "cell_type": "code",
   "execution_count": null,
   "id": "5c6a48f6-1cfe-4d9a-b381-8fe656b71a23",
   "metadata": {},
   "outputs": [],
   "source": [
    "engine."
   ]
  },
  {
   "cell_type": "code",
   "execution_count": 14,
   "id": "97e4a47f-9cc2-4e3b-b8fc-21b8918ea17a",
   "metadata": {},
   "outputs": [
    {
     "name": "stdout",
     "output_type": "stream",
     "text": [
      "Reaction: Andradite + 6H2O@ = 3SiO2@ + 12OH- + 2Fe+3 + 3Ca+2, logK: -123.62697731857064\n",
      "Reaction: Anhydrite = SO4-2 + Ca+2, logK: -5.826836761114194\n",
      "Reaction: Ankerite + 0.25O2@ + 0.5H2O@ = 2CO3-2 + OH- + Fe+3 + Ca+2, logK: -30.872053819579055\n",
      "Reaction: Aragonite = CO3-2 + Ca+2, logK: -9.54252334620256\n",
      "Reaction: CH4 + 2O2@ + 2OH- = 3H2O@ + CO3-2, logK: 115.52251283022969\n",
      "Reaction: CH4@ + 2O2@ + 2OH- = 3H2O@ + CO3-2, logK: 118.56425068666796\n",
      "Reaction: CO + 0.5O2@ + 2OH- = H2O@ + CO3-2, logK: 39.198054982435316\n",
      "Reaction: CO2 + 2OH- = H2O@ + CO3-2, logK: 5.0750401574951045\n",
      "Reaction: CO2@ + 2OH- = H2O@ + CO3-2, logK: 7.105258410840491\n",
      "Reaction: CO@ + 0.5O2@ + 2OH- = H2O@ + CO3-2, logK: 42.291719091772904\n",
      "Reaction: Ca(SO4)@ = SO4-2 + Ca+2, logK: -2.6943416507326075\n",
      "Reaction: CaCO3@ = CO3-2 + Ca+2, logK: -4.486250556685451\n",
      "Reaction: CaHCO3+ + OH- = H2O@ + CO3-2 + Ca+2, logK: 0.1811172281364388\n",
      "Reaction: CaHSiO3+ = SiO2@ + OH- + Ca+2, logK: -4.573315154461268\n",
      "Reaction: CaOH+ = OH- + Ca+2, logK: -2.3635137557961383\n",
      "Reaction: CaSiO3@ + H2O@ = SiO2@ + 2OH- + Ca+2, logK: -8.266065429488938\n",
      "Reaction: Calcite = CO3-2 + Ca+2, logK: -9.686870670247046\n",
      "Reaction: Chalcedony = SiO2@, logK: -2.592256801748714\n",
      "Reaction: Coesite = SiO2@, logK: -2.0870454318269287\n",
      "Reaction: Cristobalite = SiO2@, logK: -2.4544496995151834\n",
      "Reaction: Diamond + O2@ + 2OH- = H2O@ + CO3-2, logK: 60.35619226897508\n",
      "Reaction: Fayalite + 0.5O2@ + 3H2O@ = SiO2@ + 6OH- + 2Fe+3, logK: -50.75457009888426\n",
      "Reaction: Fe(CO3)@ + 0.25O2@ + 0.5H2O@ = CO3-2 + OH- + Fe+3, logK: -12.79949352822502\n",
      "Reaction: Fe(HCO3)+ + 0.25O2@ = 0.5H2O@ + CO3-2 + Fe+3, logK: -8.063087088301106\n",
      "Reaction: Fe(OH)3 = 3OH- + Fe+3, logK: -35.08094721671582\n",
      "Reaction: Fe+2 + 0.25O2@ + 0.5H2O@ = OH- + Fe+3, logK: -7.823242989626521\n",
      "Reaction: Fe-Talc + 0.75O2@ + 3.5H2O@ = 4SiO2@ + 9OH- + 3Fe+3, logK: -83.04291014506336\n",
      "Reaction: Fe-anthophyllite + 1.75O2@ + 9.5H2O@ = 8SiO2@ + 21OH- + 7Fe+3, logK: -196.20270966931892\n",
      "Reaction: FeO+ + H2O@ = 2OH- + Fe+3, logK: -21.349018034100755\n",
      "Reaction: FeO2- + 2H2O@ = 4OH- + Fe+3, logK: -33.286492948360156\n",
      "Reaction: FeO2H- + 0.25O2@ + 1.5H2O@ = 4OH- + Fe+3, logK: -20.29023671187097\n",
      "Reaction: FeO2H@ + H2O@ = 3OH- + Fe+3, logK: -28.68525809653797\n",
      "Reaction: FeO@ + 0.25O2@ + 1.5H2O@ = 3OH- + Fe+3, logK: -16.195316617018563\n",
      "Reaction: FeOH+ + 0.25O2@ + 0.5H2O@ = 2OH- + Fe+3, logK: -12.550111894374705\n",
      "Reaction: FeOH+2 = OH- + Fe+3, logK: -11.526995134121812\n",
      "Reaction: Ferroactinolite + 1.25O2@ + 8.5H2O@ = 8SiO2@ + 19OH- + 5Fe+3 + 2Ca+2, logK: -171.89699477937975\n",
      "Reaction: Ferrosilite + 0.5O2@ + 3H2O@ = 2SiO2@ + 6OH- + 2Fe+3, logK: -53.43271210040503\n",
      "Reaction: Goethite + H2O@ = 3OH- + Fe+3, logK: -38.20896367354456\n",
      "Reaction: Graphite + O2@ + 2OH- = H2O@ + CO3-2, logK: 59.899740631606946\n",
      "Reaction: Grunerite + 1.75O2@ + 9.5H2O@ = 8SiO2@ + 21OH- + 7Fe+3, logK: -194.61137424275213\n",
      "Reaction: H+ + OH- = H2O@, logK: 11.903443907738962\n",
      "Reaction: H2 + 0.5O2@ = H2O@, logK: 30.56287657761321\n",
      "Reaction: H2@ + 0.5O2@ = H2O@, logK: 33.602966653233516\n",
      "Reaction: H2O = H2O@, logK: -0.3406104333443681\n",
      "Reaction: H2O2@ = 0.5O2@ + H2O@, logK: 12.466671843423919\n",
      "Reaction: H2S + 2O2@ + 2OH- = 2H2O@ + SO4-2, logK: 114.74605201730526\n",
      "Reaction: H2S2O3@ + 2O2@ + 4OH- = 3H2O@ + 2SO4-2, logK: 138.05409789600105\n",
      "Reaction: H2S2O4@ + 1.5O2@ + 4OH- = 3H2O@ + 2SO4-2, logK: 126.85484374564835\n",
      "Reaction: H2S@ + 2O2@ + 2OH- = 2H2O@ + SO4-2, logK: 116.26495705221679\n",
      "Reaction: HCO3- + OH- = H2O@ + CO3-2, logK: 1.7622903976175088\n",
      "Reaction: HO2- = 0.5O2@ + OH-, logK: 11.231304057138752\n",
      "Reaction: HS- + 2O2@ + OH- = H2O@ + SO4-2, logK: 110.82646486845856\n",
      "Reaction: HS2O3- + 2O2@ + 3OH- = 2H2O@ + 2SO4-2, logK: 127.56781299393556\n",
      "Reaction: HS2O4- + 1.5O2@ + 3OH- = 2H2O@ + 2SO4-2, logK: 116.20375391359362\n",
      "Reaction: HSO3- + 0.5O2@ + OH- = H2O@ + SO4-2, logK: 38.46805591466376\n",
      "Reaction: HSO4- + OH- = H2O@ + SO4-2, logK: 8.542046307397026\n",
      "Reaction: HSO5- + OH- = 0.5O2@ + H2O@ + SO4-2, logK: 22.546846393585366\n",
      "Reaction: HSiO3- = SiO2@ + OH-, logK: -2.935288916771961\n",
      "Reaction: Hedenbergite + 0.25O2@ + 2.5H2O@ = 2SiO2@ + 5OH- + Fe+3 + Ca+2, logK: -42.990060875986444\n",
      "Reaction: Hematite + 3H2O@ = 6OH- + 2Fe+3, logK: -76.84950879810718\n",
      "Reaction: Larnite + 2H2O@ = SiO2@ + 4OH- + 2Ca+2, logK: -19.102335774078245\n",
      "Reaction: Lime + H2O@ = 2OH- + Ca+2, logK: 0.41647906878825913\n",
      "Reaction: Magnetite + 0.25O2@ + 4.5H2O@ = 9OH- + 3Fe+3, logK: -101.83397990974258\n",
      "Reaction: Marcasite + 3.75O2@ + OH- = 0.5H2O@ + 2SO4-2 + Fe+3, logK: 168.77597473604933\n",
      "Reaction: O2 = O2@, logK: -3.0567427641005795\n",
      "Reaction: Oldhamite + 2O2@ = SO4-2 + Ca+2, logK: 107.47595005730234\n",
      "Reaction: Portlandite = 2OH- + Ca+2, logK: -6.801135092192375\n",
      "Reaction: Pseudowollastoni + H2O@ = SiO2@ + 2OH- + Ca+2, logK: -13.59345260509663\n",
      "Reaction: Pyrite + 3.75O2@ + OH- = 0.5H2O@ + 2SO4-2 + Fe+3, logK: 168.5260095083039\n",
      "Reaction: Pyrrhotite + 2.175O2@ + 0.35H2O@ = SO4-2 + 0.7OH- + 0.9Fe+3, logK: 85.69398503206835\n",
      "Reaction: Quartz = SiO2@, logK: -2.826665247993659\n",
      "Reaction: Rankinite + 3H2O@ = 2SiO2@ + 6OH- + 3Ca+2, logK: -33.65278494092704\n",
      "Reaction: S2-2 + 3.5O2@ + 2OH- = H2O@ + 2SO4-2, logK: 198.16254809600537\n",
      "Reaction: S2O3-2 + 2O2@ + 2OH- = H2O@ + 2SO4-2, logK: 118.1570773490498\n",
      "Reaction: S2O4-2 + 1.5O2@ + 2OH- = H2O@ + 2SO4-2, logK: 107.41534995745533\n",
      "Reaction: S2O5-2 + O2@ + 2OH- = H2O@ + 2SO4-2, logK: 82.10990189648147\n",
      "Reaction: S2O6-2 + 0.5O2@ + 2OH- = H2O@ + 2SO4-2, logK: 58.607270762075245\n",
      "Reaction: S2O8-2 + 2OH- = 0.5O2@ + H2O@ + 2SO4-2, logK: 37.112961983356655\n",
      "Reaction: S3-2 + 5O2@ + 4OH- = 2H2O@ + 3SO4-2, logK: 286.40982014065384\n",
      "Reaction: S3O6-2 + 2O2@ + 4OH- = 2H2O@ + 3SO4-2, logK: 149.08794351917027\n",
      "Reaction: S4-2 + 6.5O2@ + 6OH- = 3H2O@ + 4SO4-2, logK: 374.8272495615626\n",
      "Reaction: S4O6-2 + 3.5O2@ + 6OH- = 3H2O@ + 4SO4-2, logK: 226.14907257918094\n",
      "Reaction: S5-2 + 8O2@ + 8OH- = 4H2O@ + 5SO4-2, logK: 463.41018843762\n",
      "Reaction: S5O6-2 + 5O2@ + 8OH- = 4H2O@ + 5SO4-2, logK: 327.79448409161427\n",
      "Reaction: SO2 + 0.5O2@ + 2OH- = H2O@ + SO4-2, logK: 46.54637319557886\n",
      "Reaction: SO2@ + 0.5O2@ + 2OH- = H2O@ + SO4-2, logK: 47.27829334374383\n",
      "Reaction: SO3-2 + 0.5O2@ = SO4-2, logK: 34.65382758457707\n",
      "Reaction: Siderite + 0.25O2@ + 0.5H2O@ = CO3-2 + OH- + Fe+3, logK: -20.889265640931466\n",
      "Reaction: Spurrite + 4H2O@ = 2SiO2@ + CO3-2 + 8OH- + 5Ca+2, logK: -50.60177394006936\n",
      "Reaction: Stishovite = SiO2@, logK: 2.679805775262404\n",
      "Reaction: Tilleyite + 3H2O@ = 2SiO2@ + 2CO3-2 + 6OH- + 5Ca+2, logK: -53.916809250373454\n",
      "Reaction: Tridymite = SiO2@, logK: -2.5239804112432846\n",
      "Reaction: Troilite + 2.25O2@ + 0.5H2O@ = SO4-2 + OH- + Fe+3, logK: 86.65146806711832\n",
      "Reaction: Wollastonite + H2O@ = SiO2@ + 2OH- + Ca+2, logK: -14.13431471224591\n",
      "Reaction: Wustite + 0.21025O2@ + 1.4205H2O@ = 2.841OH- + 0.947Fe+3, logK: -22.44831090849995\n"
     ]
    }
   ],
   "source": [
    "for r in chemicalReactions.stringReactions():\n",
    "    result = engine.thermoPropertiesReaction(398.15, 0, r).log_equilibrium_constant.val\n",
    "    print(f\"Reaction: {r}, logK: {result}\")"
   ]
  },
  {
   "cell_type": "code",
   "execution_count": null,
   "id": "facfb19c-d5b5-406b-923e-3ae14e69d7a1",
   "metadata": {},
   "outputs": [],
   "source": []
  }
 ],
 "metadata": {
  "kernelspec": {
   "display_name": "Python 3 (ipykernel)",
   "language": "python",
   "name": "python3"
  },
  "language_info": {
   "codemirror_mode": {
    "name": "ipython",
    "version": 3
   },
   "file_extension": ".py",
   "mimetype": "text/x-python",
   "name": "python",
   "nbconvert_exporter": "python",
   "pygments_lexer": "ipython3",
   "version": "3.10.12"
  }
 },
 "nbformat": 4,
 "nbformat_minor": 5
}
