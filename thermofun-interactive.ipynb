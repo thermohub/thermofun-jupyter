{
 "cells": [
  {
   "cell_type": "markdown",
   "metadata": {},
   "source": [
    "<img src=\"common/fun_long_logo-01.png\">\n",
    "\n",
    "**ThermoFun** is a universal open-source client that delivers thermodynamic properties of substances and reactions at the temperature and pressure of interest."
   ]
  },
  {
   "cell_type": "markdown",
   "metadata": {},
   "source": [
    "# Try ThermoFun interactive\n",
    "\n",
    "ThermoFun interactive webapp for retrieving themrodynamic properties of substances or reactions of interest.\n",
    "\n",
    "1. Click Load Data (database files are read and widget the application in initialized)\n",
    "2. Select substances and properties and click calculate\n",
    "\n",
    "**Under Construction**\n",
    "- at the moment the tmperature and pressure points are predfined"
   ]
  },
  {
   "cell_type": "code",
   "execution_count": null,
   "metadata": {},
   "outputs": [],
   "source": [
    "from common.interactive import initialize_widgets\n",
    "initialize_widgets()"
   ]
  }
 ],
 "metadata": {
  "kernelspec": {
   "display_name": "Python 3",
   "language": "python",
   "name": "python3"
  },
  "language_info": {
   "codemirror_mode": {
    "name": "ipython",
    "version": 3
   },
   "file_extension": ".py",
   "mimetype": "text/x-python",
   "name": "python",
   "nbconvert_exporter": "python",
   "pygments_lexer": "ipython3",
   "version": "3.6.8"
  }
 },
 "nbformat": 4,
 "nbformat_minor": 2
}
