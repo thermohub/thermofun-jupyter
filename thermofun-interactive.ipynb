{
 "cells": [
  {
   "cell_type": "markdown",
   "metadata": {},
   "source": [
    "<img src=\"common/fun_long_logo-01.png\">"
   ]
  },
  {
   "cell_type": "markdown",
   "metadata": {},
   "source": [
    "**ThermoFun** is a universal open-source client that delivers thermodynamic properties of substances and reactions at the temperature and pressure of interest."
   ]
  },
  {
   "cell_type": "code",
   "execution_count": null,
   "metadata": {},
   "outputs": [],
   "source": [
    "from common.interactive2 import initialize_widgets\n",
    "initialize_widgets()"
   ]
  },
  {
   "cell_type": "markdown",
   "metadata": {},
   "source": [
    "Report issues <a href=\"https://github.com/thermomod/thermofun-jupyter/issues\" target=\"_blank\">here</a>, or chat with us on <a href=\"https://gitter.im/thermofun/community\" target=\"_blank\">Gitter</a>. Copyright © 2018-2020 ThermoHub Team, https://thermohub.org/ <a href=\"https://www.psi.ch/en/les\" target=\"_blank\"><img style=\"float: center; height: 6%; width: 6%;\" src=\"common/psi-logo.png\"></a>"
   ]
  }
 ],
 "metadata": {
  "kernelspec": {
   "display_name": "Python 3 (ipykernel)",
   "language": "python",
   "name": "python3"
  },
  "language_info": {
   "codemirror_mode": {
    "name": "ipython",
    "version": 3
   },
   "file_extension": ".py",
   "mimetype": "text/x-python",
   "name": "python",
   "nbconvert_exporter": "python",
   "pygments_lexer": "ipython3",
   "version": "3.9.15"
  },
  "toc": {
   "base_numbering": 1,
   "nav_menu": {},
   "number_sections": false,
   "sideBar": false,
   "skip_h1_title": false,
   "title_cell": "Table of Contents",
   "title_sidebar": "Contents",
   "toc_cell": false,
   "toc_position": {},
   "toc_section_display": false,
   "toc_window_display": false
  }
 },
 "nbformat": 4,
 "nbformat_minor": 2
}
